{
 "cells": [
  {
   "cell_type": "markdown",
   "metadata": {},
   "source": [
    "#### Imports"
   ]
  },
  {
   "cell_type": "code",
   "execution_count": 1,
   "metadata": {},
   "outputs": [],
   "source": [
    "import time\n",
    "from openai import OpenAI\n",
    "from Assistant import AssistantOpenAI\n",
    "import logging\n",
    "import os\n",
    "import json\n",
    "import gymnasium as gym\n",
    "import random\n",
    "import matplotlib.pyplot as plt\n",
    "import os\n",
    "import time\n",
    "from git import Repo\n",
    "\n",
    "import numpy as np\n",
    "#from collections import deque, namedtuple\n",
    "\n",
    "# For visualization\n",
    "import gymnasium.wrappers.record_video as record_video"
   ]
  },
  {
   "cell_type": "markdown",
   "metadata": {},
   "source": [
    "#### Parameters"
   ]
  },
  {
   "cell_type": "code",
   "execution_count": 2,
   "metadata": {},
   "outputs": [],
   "source": [
    "num_episodes = 200\n",
    "ENV_NAME = 'LunarLander-v2'\n",
    "ARCLABKEY_OPENAI = \"sk-proj-DvHDR3hpgbm2r3kCA9jKT3BlbkFJL57ABXkfaWAIYKBxdhM6\"\n",
    "ARCLABKEY_OPENAI = \"sk-proj-GvaDXazpibWA2M1I5Pu2T3BlbkFJxDuKlr9AcoVG98ctJZ7Q\""
   ]
  },
  {
   "cell_type": "markdown",
   "metadata": {},
   "source": [
    "#### Function calling.\n",
    "\n",
    "Función encargada de almacenar el código generado mediante la opción de function calling del asistente de OpenAI."
   ]
  },
  {
   "cell_type": "code",
   "execution_count": 3,
   "metadata": {},
   "outputs": [],
   "source": [
    "def store_code_in_file(code, filename):\n",
    "    \"\"\" Store code in a file\n",
    "    \n",
    "    Args:\n",
    "        code: str: code to store\n",
    "        filename: str: filename to store code in\n",
    "    \n",
    "    Returns:\n",
    "        None\n",
    "    \"\"\"\n",
    "    with open(filename, 'w') as f:\n",
    "        f.write(code)\n",
    "        \n",
    "store_code_in_file_schema = {\n",
    "    \"name\": \"store_code_in_file\",\n",
    "    \"description\": \"Store code in a file\",\n",
    "    \"parameters\": {\n",
    "        \"type\": \"object\",\n",
    "        \"properties\": {\n",
    "            \"code\": {\n",
    "                \"type\": \"string\",\n",
    "                \"description\": \"The Python code to store.\"\n",
    "            },\n",
    "            \"filename\": {\n",
    "                \"type\": \"string\",\n",
    "                \"description\": \"The filename to store the code in.\"\n",
    "            }\n",
    "        },\n",
    "        \"required\": [\"code\", \"filename\"]\n",
    "    }\n",
    "}\n",
    "\n",
    "TOOLS = [{\"type\": \"function\", \"function\": store_code_in_file_schema}]"
   ]
  },
  {
   "cell_type": "markdown",
   "metadata": {},
   "source": [
    "### Entorno Lunnar Lander"
   ]
  },
  {
   "cell_type": "code",
   "execution_count": 4,
   "metadata": {},
   "outputs": [
    {
     "name": "stdout",
     "output_type": "stream",
     "text": [
      "State shape:  (8,)\n",
      "Number of actions:  4\n"
     ]
    }
   ],
   "source": [
    "env = gym.make('LunarLander-v2')\n",
    "print('State shape: ', env.observation_space.shape)\n",
    "print('Number of actions: ', env.action_space.n)"
   ]
  },
  {
   "cell_type": "code",
   "execution_count": 5,
   "metadata": {},
   "outputs": [],
   "source": [
    "agent_initial_code = \"\"\"\n",
    "import random\n",
    "\n",
    "def act(observation):\n",
    "    '''\n",
    "    The function that codifies the action to be taken in each instant of time.\n",
    "\n",
    "    Args:\n",
    "        observation (numpy.array):\n",
    "            \"description\": \"The state of the environment after the action is taken.\",\n",
    "            \"positions\": {  \n",
    "                \"0\": \"X position\",\n",
    "                \"1\": \"Y position\",\n",
    "                \"2\": \"X velocity\",\n",
    "                \"3\": \"Y velocity\",\n",
    "                \"4\": \"Angle\",\n",
    "                \"5\": \"Angular velocity\",\n",
    "                \"6\": \"Left contact sensor\",\n",
    "                \"7\": \"Right contact sensor\"\n",
    "            },\n",
    "            \"min_values\": [-1.5, -1.5, -5.0, -5.0, -3.14, -5.0, 0, 0],\n",
    "            \"max_values\": [1.5, 1.5, 5.0, 5.0, 3.14, 5.0, 1, 1]\n",
    "\n",
    "    Returns:\n",
    "        Integer  : The action to be taken.\n",
    "        \"options\": {\n",
    "                '0' : \"Switch off engines\",\n",
    "                '1' : \"Push left engine\",\n",
    "                '2' : \"Push both engines (upwards)\",\n",
    "                '3' : \"Push right engine\"\n",
    "            }\n",
    "    '''\n",
    "    return random.randint(0, 3)\n",
    "\"\"\""
   ]
  },
  {
   "cell_type": "markdown",
   "metadata": {},
   "source": [
    "#### Mapeador de logs a JSON"
   ]
  },
  {
   "cell_type": "code",
   "execution_count": 6,
   "metadata": {},
   "outputs": [],
   "source": [
    "log_description = {\n",
    "    \"description\": \"Log data for each step of the spacecraft landing environment.\",\n",
    "    \"landing attempt\": {\n",
    "        \"type\": \"integer\",\n",
    "        \"description\": \"The episode number.\"\n",
    "    },\n",
    "    \"logs\": {\n",
    "        \"time\": {\n",
    "            \"type\": \"integer\",\n",
    "            \"description\": \"The instant within the landing attempt where the current log is taken.\"\n",
    "        },\n",
    "        \"action\": {\n",
    "            \"type\": \"integer\",\n",
    "            \"description\": \"The possible actions taken.\",\n",
    "            \"options\": {\n",
    "                '0' : \"Switch off engines\",\n",
    "                '1' : \"Push left engine\",\n",
    "                '2' : \"Push both engines (upwards)\",\n",
    "                '3' : \"Push right engine\"\n",
    "            }\n",
    "        },  \n",
    "        \"current status\": {\n",
    "            \"type\": \"array\",\n",
    "            \"description\": \"The state of the environment after the action is taken.\",\n",
    "            \"positions\": {  \n",
    "                \"0\": {\n",
    "                    \"name\": \"X position\",\n",
    "                    \"description\": \"The horizontal position of the spacecraft relative to the landing zone.\"\n",
    "                },\n",
    "                \"1\": {\n",
    "                    \"name\": \"Y position\",\n",
    "                    \"description\": \"The vertical position of the spacecraft relative to the landing zone.\"\n",
    "                },\n",
    "                \"2\": {\n",
    "                    \"name\": \"X velocity\",\n",
    "                    \"description\": \"The horizontal velocity of the spacecraft.\"\n",
    "                },\n",
    "                \"3\": {\n",
    "                    \"name\": \"Y velocity\",\n",
    "                    \"description\": \"The vertical velocity of the spacecraft.\"\n",
    "                },\n",
    "                \"4\": {\n",
    "                    \"name\": \"Angle\",\n",
    "                    \"description\": \"The angle of the spacecraft relative to the vertical (left negative, right positive).\"\n",
    "                },\n",
    "                \"5\": {\n",
    "                    \"name\": \"Angular velocity\",\n",
    "                    \"description\": \"The rate of change of the angle of the spacecraft.\"\n",
    "                },\n",
    "                \"6\": {\n",
    "                    \"name\": \"Left contact sensor with landing zone\",\n",
    "                    \"description\": \"Indicates whether the left side of the spacecraft is in contact with the landing zone.\"\n",
    "                },\n",
    "                \"7\": {\n",
    "                    \"name\": \"Right contact sensor with landing zone\",\n",
    "                    \"description\": \"Indicates whether the right side of the spacecraft is in contact with the landing zone.\"\n",
    "                }\n",
    "            },\n",
    "            \"min_values\": [-1.5, -1.5, -5.0, -5.0, -3.14, -5.0, 0, 0],\n",
    "            \"max_values\": [1.5, 1.5, 5.0, 5.0, 3.14, 5.0, 1, 1],\n",
    "            \n",
    "        }, \n",
    "        \"score\": {\n",
    "            \"type\": \"number\",\n",
    "            \"description\": \"The score received for the action.\"\n",
    "        },  \n",
    "        \"completed\": {\n",
    "            \"type\": \"boolean\",\n",
    "            \"description\": \"Whether the landing event has ended (landing or accident).\"\n",
    "        }\n",
    "    },\n",
    "    \"total score\": {\n",
    "        \"type\": \"number\",\n",
    "        \"description\": \"The total score received for the landing attempt.\"\n",
    "    }\n",
    "}"
   ]
  },
  {
   "cell_type": "markdown",
   "metadata": {},
   "source": [
    "### UTILS"
   ]
  },
  {
   "cell_type": "code",
   "execution_count": 7,
   "metadata": {},
   "outputs": [],
   "source": [
    "import json\n",
    "\n",
    "def format_step_data(instant, action, next_state, reward, terminated):\n",
    "    \"\"\" Format the step data into a JSON string\n",
    "    \n",
    "    Args:\n",
    "        instant: int: the instant within the landing attempt where the current log is taken\n",
    "        action: int: the action taken\n",
    "        next_state: np.array: the next state of the environment\n",
    "        reward: float: the reward received\n",
    "        terminated: bool: whether the landing event has ended\n",
    "        \n",
    "    Returns:\n",
    "        str: the step data formatted as a JSON string\n",
    "    \"\"\"\n",
    "    # Convertir el array numpy a una lista\n",
    "    next_state_list = next_state.tolist()\n",
    "\n",
    "    # Redondear los elementos de la lista a 4 decimales\n",
    "    next_state_list_rounded = [round(x, 3) for x in next_state_list]\n",
    "\n",
    "    step_data = {\n",
    "        'time': instant,\n",
    "        'action' : int(action),\n",
    "        'current status': next_state_list_rounded,  # Convert numpy array to list\n",
    "        'score': round(reward, 3),\n",
    "        #'completed': terminated,\n",
    "        #'truncated': truncated\n",
    "        #'info': info\n",
    "    }\n",
    "\n",
    "    # Convert the dictionary to a JSON string\n",
    "    #step_data_json = json.dumps(step_data)\n",
    "\n",
    "    return step_data\n",
    "\n",
    "\n",
    "def format_episode_logs(logs, episode, total_score):\n",
    "    \"\"\" Format the logs into a JSON string\n",
    "    \n",
    "    Args:\n",
    "        logs: list: the logs for each step of the environment\n",
    "        episode: int: the episode number\n",
    "        \n",
    "    Returns:\n",
    "        str: the logs formatted as a JSON string\n",
    "    \"\"\"\n",
    "    logs_data = {\n",
    "        'landing attempt': episode,\n",
    "        'logs': logs,\n",
    "        'total score': round(total_score, 3)\n",
    "    }\n",
    "\n",
    "    # Convert the dictionary to a JSON string\n",
    "    logs_json = json.dumps(logs_data)\n",
    "\n",
    "    return logs_json"
   ]
  },
  {
   "cell_type": "code",
   "execution_count": 8,
   "metadata": {},
   "outputs": [],
   "source": [
    "def commit_changes(repo_path, commit_message):\n",
    "    \"\"\" Commit changes to the repository.\n",
    "\n",
    "    Args:\n",
    "        repo_path (str): Path to the repository.\n",
    "        commit_message (str): The commit message.\n",
    "    \"\"\"\n",
    "    repo = Repo(repo_path)\n",
    "    repo.git.add(update=True)\n",
    "    repo.index.commit(commit_message)\n",
    "    origin = repo.remote(name='origin')\n",
    "    origin.push()"
   ]
  },
  {
   "cell_type": "markdown",
   "metadata": {},
   "source": [
    "#### Código encargado de ejecutar los eventos en el entorno."
   ]
  },
  {
   "cell_type": "code",
   "execution_count": 9,
   "metadata": {},
   "outputs": [],
   "source": [
    "import Action\n",
    "\n",
    "def lunar_lander(max_t=1000, n_games=1, display=False, seed=38, agent=None, recoder=False, video_filename='video/video.mp4'):\n",
    "    \"\"\" Run the Lunar Lander environment\n",
    "    \n",
    "    Args:\n",
    "        max_t: int: the maximum number of timesteps\n",
    "        n_games: int: the number of games to play\n",
    "        display: bool: whether to display the environment\n",
    "        seed: int: the seed for the environment\n",
    "        agent: object: the agent to use\n",
    "        recoder: bool: whether to record the video\n",
    "        video_filename: str: the filename for the video\n",
    "        \n",
    "    Returns:\n",
    "        str: the logs for the landing attempts\n",
    "    \"\"\"\n",
    "    \n",
    "    # Incluimos la opción del entorno gráfico y la de grabación.\n",
    "    if display:\n",
    "        env = gym.make(ENV_NAME, render_mode='human')\n",
    "        if recoder:\n",
    "            env = gym.make(ENV_NAME, render_mode='rgb_array')\n",
    "            env.reset() \n",
    "            video_recorder = record_video.RecordVideo(env, video_filename)\n",
    "    else:\n",
    "        env = gym.make(ENV_NAME)\n",
    "\n",
    "    # Bucle principal de ejecución de los episodios.\n",
    "    logs = []\n",
    "    for episode in range(1, n_games+1):\n",
    "        # Revisamos que la semilla sea un número entero o una lista de semillas.\n",
    "        if isinstance(seed, list):\n",
    "            semilla = seed[episode-1]\n",
    "        else:\n",
    "            semilla = seed\n",
    "        print(f\"Semilla {semilla}\")    \n",
    "        state = env.reset(seed=semilla) # Set a seed for the environment\n",
    "        state = state[0] # Eliminamos el diccionario vacio y dejamos unicamente el estado de 8 elementos.\n",
    "        score = 0\n",
    "        instant = 0\n",
    "        episode_actions = []\n",
    "        if recoder: # En caso de que se quiera grabar el video, se inicia el grabador.\n",
    "            video_recorder.start_video_recorder()\n",
    "            \n",
    "        for i in range(max_t): # Bucle de ejecución de los instantes de tiempo.\n",
    "            \n",
    "            # Seleccionamos el método de elegir la acción (agente exitoso o método de decisión del asistente)\n",
    "            if agent: \n",
    "                action = agent.act(state)\n",
    "            else:\n",
    "                action = Action.act(state)\n",
    "            \n",
    "            # Avanzamos un instante de tiempo en el entorno en función de si se quiere grabar el video o no.\n",
    "            if recoder:\n",
    "                next_state, reward, terminated, truncated, info = video_recorder.step(action)\n",
    "            else:\n",
    "                next_state, reward, terminated, truncated, info = env.step(action)\n",
    "            \n",
    "            # Formateamos los datos del instante de tiempo y los alcenamos.\n",
    "            json_logs = format_step_data(instant, action, next_state, reward, terminated)\n",
    "            score += reward\n",
    "            instant += 1\n",
    "            if len(episode_actions) < 20 or len(episode_actions) % 2 == 0 or terminated:\n",
    "                logs.append(json_logs)\n",
    "            #logs.append(json_logs)\n",
    "            episode_actions.append(action)\n",
    "            state = next_state\n",
    "            if terminated: # Condición de salida del bucle, si el episodio ha terminado.\n",
    "                break\n",
    "        json_episode_logs = format_episode_logs(logs, episode, score) \n",
    "        \n",
    "        print(f\"Número de instantes: {instant+1}. Tamaño de logs: {len(logs)}\")\n",
    "        print('episode ', episode, 'score %.3f' % float(score), 'avg score %.3f' % (float(score) / instant))\n",
    "        \n",
    "    if recoder:\n",
    "        video_recorder.close()\n",
    "    else:\n",
    "        env.close()\n",
    "        \n",
    "    return json_episode_logs"
   ]
  },
  {
   "cell_type": "markdown",
   "metadata": {},
   "source": [
    "#### Logs del código inicial"
   ]
  },
  {
   "cell_type": "code",
   "execution_count": 10,
   "metadata": {},
   "outputs": [
    {
     "name": "stdout",
     "output_type": "stream",
     "text": [
      "Semilla 38\n",
      "Número de instantes: 99. Tamaño de logs: 60\n",
      "episode  1 score -274.804 avg score -2.804\n"
     ]
    },
    {
     "data": {
      "text/plain": [
       "'{\"landing attempt\": 1, \"logs\": [{\"time\": 0, \"action\": 3, \"current status\": [0.008, 1.417, 0.39, 0.131, -0.01, -0.123, 0.0, 0.0], \"score\": -0.871}, {\"time\": 1, \"action\": 3, \"current status\": [0.012, 1.42, 0.401, 0.104, -0.019, -0.169, 0.0, 0.0], \"score\": -1.448}, {\"time\": 2, \"action\": 1, \"current status\": [0.015, 1.421, 0.392, 0.077, -0.026, -0.132, 0.0, 0.0], \"score\": 0.621}, {\"time\": 3, \"action\": 2, \"current status\": [0.019, 1.424, 0.384, 0.103, -0.033, -0.143, 0.0, 0.0], \"score\": -1.012}, {\"time\": 4, \"action\": 1, \"current status\": [0.023, 1.425, 0.374, 0.077, -0.038, -0.105, 0.0, 0.0], \"score\": 0.808}, {\"time\": 5, \"action\": 2, \"current status\": [0.027, 1.428, 0.383, 0.098, -0.043, -0.098, 0.0, 0.0], \"score\": -2.418}, {\"time\": 6, \"action\": 1, \"current status\": [0.03, 1.429, 0.373, 0.072, -0.046, -0.054, 0.0, 0.0], \"score\": 1.179}, {\"time\": 7, \"action\": 3, \"current status\": [0.034, 1.43, 0.381, 0.045, -0.05, -0.089, 0.0, 0.0], \"score\": -1.046}, {\"time\": 8, \"action\": 3, \"current status\": [0.038, 1.431, 0.39, 0.018, -0.056, -0.125, 0.0, 0.0], \"score\": -1.365}, {\"time\": 9, \"action\": 2, \"current status\": [0.042, 1.431, 0.394, 0.019, -0.062, -0.123, 0.0, 0.0], \"score\": -1.369}, {\"time\": 10, \"action\": 2, \"current status\": [0.046, 1.432, 0.411, 0.058, -0.068, -0.112, 0.0, 0.0], \"score\": -3.075}, {\"time\": 11, \"action\": 3, \"current status\": [0.05, 1.433, 0.423, 0.03, -0.076, -0.161, 0.0, 0.0], \"score\": -1.846}, {\"time\": 12, \"action\": 2, \"current status\": [0.054, 1.434, 0.424, 0.052, -0.084, -0.166, 0.0, 0.0], \"score\": -1.527}, {\"time\": 13, \"action\": 2, \"current status\": [0.059, 1.436, 0.443, 0.071, -0.092, -0.153, 0.0, 0.0], \"score\": -3.431}, {\"time\": 14, \"action\": 2, \"current status\": [0.063, 1.438, 0.444, 0.079, -0.1, -0.157, 0.0, 0.0], \"score\": -1.425}, {\"time\": 15, \"action\": 3, \"current status\": [0.067, 1.439, 0.455, 0.051, -0.11, -0.202, 0.0, 0.0], \"score\": -1.863}, {\"time\": 16, \"action\": 0, \"current status\": [0.072, 1.439, 0.455, 0.024, -0.12, -0.202, 0.0, 0.0], \"score\": -0.869}, {\"time\": 17, \"action\": 2, \"current status\": [0.076, 1.44, 0.45, 0.025, -0.131, -0.211, 0.0, 0.0], \"score\": -0.994}, {\"time\": 18, \"action\": 3, \"current status\": [0.081, 1.44, 0.459, -0.003, -0.143, -0.245, 0.0, 0.0], \"score\": -2.048}, {\"time\": 19, \"action\": 0, \"current status\": [0.085, 1.439, 0.459, -0.03, -0.155, -0.245, 0.0, 0.0], \"score\": -1.285}, {\"time\": 20, \"action\": 3, \"current status\": [0.09, 1.438, 0.466, -0.058, -0.169, -0.276, 0.0, 0.0], \"score\": -2.336}, {\"time\": 22, \"action\": 0, \"current status\": [0.098, 1.434, 0.454, -0.11, -0.192, -0.227, 0.0, 0.0], \"score\": -1.476}, {\"time\": 24, \"action\": 2, \"current status\": [0.107, 1.428, 0.464, -0.128, -0.21, -0.179, 0.0, 0.0], \"score\": -2.638}, {\"time\": 26, \"action\": 3, \"current status\": [0.116, 1.42, 0.464, -0.182, -0.226, -0.179, 0.0, 0.0], \"score\": -2.432}, {\"time\": 28, \"action\": 3, \"current status\": [0.126, 1.41, 0.481, -0.239, -0.249, -0.251, 0.0, 0.0], \"score\": -2.792}, {\"time\": 30, \"action\": 0, \"current status\": [0.135, 1.398, 0.49, -0.294, -0.278, -0.288, 0.0, 0.0], \"score\": -2.158}, {\"time\": 32, \"action\": 2, \"current status\": [0.145, 1.384, 0.495, -0.306, -0.307, -0.301, 0.0, 0.0], \"score\": -0.825}, {\"time\": 34, \"action\": 3, \"current status\": [0.154, 1.368, 0.506, -0.362, -0.34, -0.349, 0.0, 0.0], \"score\": -3.612}, {\"time\": 36, \"action\": 3, \"current status\": [0.165, 1.351, 0.535, -0.397, -0.376, -0.383, 0.0, 0.0], \"score\": -3.582}, {\"time\": 38, \"action\": 2, \"current status\": [0.176, 1.334, 0.582, -0.389, -0.414, -0.374, 0.0, 0.0], \"score\": -2.659}, {\"time\": 40, \"action\": 1, \"current status\": [0.187, 1.315, 0.574, -0.44, -0.449, -0.338, 0.0, 0.0], \"score\": -1.632}, {\"time\": 42, \"action\": 0, \"current status\": [0.198, 1.293, 0.585, -0.496, -0.488, -0.39, 0.0, 0.0], \"score\": -2.639}, {\"time\": 44, \"action\": 1, \"current status\": [0.21, 1.27, 0.578, -0.547, -0.525, -0.354, 0.0, 0.0], \"score\": -1.767}, {\"time\": 46, \"action\": 0, \"current status\": [0.221, 1.243, 0.585, -0.603, -0.564, -0.388, 0.0, 0.0], \"score\": -2.609}, {\"time\": 48, \"action\": 0, \"current status\": [0.233, 1.215, 0.595, -0.661, -0.608, -0.44, 0.0, 0.0], \"score\": -2.827}, {\"time\": 50, \"action\": 1, \"current status\": [0.244, 1.184, 0.586, -0.709, -0.649, -0.388, 0.0, 0.0], \"score\": -1.611}, {\"time\": 52, \"action\": 0, \"current status\": [0.256, 1.15, 0.592, -0.766, -0.692, -0.423, 0.0, 0.0], \"score\": -2.672}, {\"time\": 54, \"action\": 1, \"current status\": [0.268, 1.117, 0.652, -0.762, -0.732, -0.383, 0.0, 0.0], \"score\": -1.707}, {\"time\": 56, \"action\": 3, \"current status\": [0.281, 1.081, 0.658, -0.819, -0.772, -0.422, 0.0, 0.0], \"score\": -3.326}, {\"time\": 58, \"action\": 1, \"current status\": [0.295, 1.045, 0.702, -0.815, -0.814, -0.388, 0.0, 0.0], \"score\": -1.488}, {\"time\": 60, \"action\": 2, \"current status\": [0.309, 1.008, 0.724, -0.848, -0.853, -0.396, 0.0, 0.0], \"score\": -2.558}, {\"time\": 62, \"action\": 1, \"current status\": [0.323, 0.968, 0.719, -0.897, -0.891, -0.358, 0.0, 0.0], \"score\": -1.558}, {\"time\": 64, \"action\": 2, \"current status\": [0.339, 0.928, 0.807, -0.916, -0.925, -0.344, 0.0, 0.0], \"score\": -4.314}, {\"time\": 66, \"action\": 1, \"current status\": [0.354, 0.885, 0.802, -0.964, -0.958, -0.299, 0.0, 0.0], \"score\": -1.092}, {\"time\": 68, \"action\": 1, \"current status\": [0.37, 0.84, 0.796, -1.012, -0.985, -0.248, 0.0, 0.0], \"score\": -0.745}, {\"time\": 70, \"action\": 3, \"current status\": [0.386, 0.793, 0.795, -1.066, -1.007, -0.251, 0.0, 0.0], \"score\": -2.524}, {\"time\": 72, \"action\": 3, \"current status\": [0.403, 0.745, 0.856, -1.109, -1.033, -0.278, 0.0, 0.0], \"score\": -2.355}, {\"time\": 74, \"action\": 1, \"current status\": [0.42, 0.693, 0.856, -1.163, -1.064, -0.28, 0.0, 0.0], \"score\": -0.841}, {\"time\": 76, \"action\": 1, \"current status\": [0.437, 0.64, 0.845, -1.203, -1.083, -0.171, 0.0, 0.0], \"score\": -0.509}, {\"time\": 78, \"action\": 0, \"current status\": [0.454, 0.584, 0.845, -1.256, -1.1, -0.171, 0.0, 0.0], \"score\": -1.316}, {\"time\": 80, \"action\": 2, \"current status\": [0.471, 0.526, 0.89, -1.293, -1.113, -0.127, 0.0, 0.0], \"score\": -3.251}, {\"time\": 82, \"action\": 2, \"current status\": [0.489, 0.467, 0.932, -1.325, -1.123, -0.094, 0.0, 0.0], \"score\": -2.695}, {\"time\": 84, \"action\": 0, \"current status\": [0.508, 0.406, 0.928, -1.373, -1.128, -0.054, 0.0, 0.0], \"score\": -1.204}, {\"time\": 86, \"action\": 0, \"current status\": [0.526, 0.342, 0.928, -1.427, -1.134, -0.054, 0.0, 0.0], \"score\": -1.449}, {\"time\": 88, \"action\": 1, \"current status\": [0.545, 0.277, 0.92, -1.467, -1.132, 0.048, 0.0, 0.0], \"score\": -0.431}, {\"time\": 90, \"action\": 1, \"current status\": [0.563, 0.209, 0.911, -1.508, -1.119, 0.148, 0.0, 0.0], \"score\": -0.358}, {\"time\": 92, \"action\": 3, \"current status\": [0.581, 0.139, 0.915, -1.566, -1.107, 0.107, 0.0, 0.0], \"score\": -2.371}, {\"time\": 94, \"action\": 0, \"current status\": [0.6, 0.068, 0.945, -1.604, -1.097, 0.099, 0.0, 0.0], \"score\": -2.221}, {\"time\": 96, \"action\": 1, \"current status\": [0.619, -0.006, 0.945, -1.637, -1.089, 0.074, 1.0, 0.0], \"score\": -1.176}, {\"time\": 97, \"action\": 0, \"current status\": [0.63, -0.036, 1.462, -0.469, -1.083, 1.532, 1.0, 0.0], \"score\": -100}], \"total score\": -274.8038314207171}'"
      ]
     },
     "execution_count": 10,
     "metadata": {},
     "output_type": "execute_result"
    }
   ],
   "source": [
    "initial_logs = lunar_lander(n_games=1, display=True)\n",
    "initial_logs"
   ]
  },
  {
   "cell_type": "markdown",
   "metadata": {},
   "source": [
    "#### Logs exitosos\n",
    "Utilizar otras semillas para que no memorice el entorno"
   ]
  },
  {
   "cell_type": "code",
   "execution_count": 11,
   "metadata": {},
   "outputs": [
    {
     "name": "stdout",
     "output_type": "stream",
     "text": [
      "Semilla 130\n",
      "Número de instantes: 242. Tamaño de logs: 131\n",
      "episode  1 score 263.217 avg score 1.092\n",
      "Semilla 412\n",
      "Número de instantes: 242. Tamaño de logs: 262\n",
      "episode  2 score 266.713 avg score 1.107\n"
     ]
    },
    {
     "data": {
      "text/plain": [
       "'{\"landing attempt\": 2, \"logs\": [\"{\\\\\"time\\\\\": 0, \\\\\"action\\\\\": 1, \\\\\"current status\\\\\": [0.006, 1.393, 0.31, -0.402, -0.005, -0.029, 0.0, 0.0], \\\\\"score\\\\\": -0.567}\", \"{\\\\\"time\\\\\": 1, \\\\\"action\\\\\": 1, \\\\\"current status\\\\\": [0.009, 1.384, 0.301, -0.429, -0.005, 0.005, 0.0, 0.0], \\\\\"score\\\\\": -0.672}\", \"{\\\\\"time\\\\\": 2, \\\\\"action\\\\\": 1, \\\\\"current status\\\\\": [0.012, 1.373, 0.291, -0.456, -0.003, 0.045, 0.0, 0.0], \\\\\"score\\\\\": -0.468}\", \"{\\\\\"time\\\\\": 3, \\\\\"action\\\\\": 3, \\\\\"current status\\\\\": [0.015, 1.363, 0.303, -0.483, -0.003, -0.001, 0.0, 0.0], \\\\\"score\\\\\": -1.813}\", \"{\\\\\"time\\\\\": 4, \\\\\"action\\\\\": 1, \\\\\"current status\\\\\": [0.018, 1.351, 0.291, -0.509, -0.0, 0.045, 0.0, 0.0], \\\\\"score\\\\\": -0.367}\", \"{\\\\\"time\\\\\": 5, \\\\\"action\\\\\": 3, \\\\\"current status\\\\\": [0.021, 1.339, 0.299, -0.536, 0.0, 0.015, 0.0, 0.0], \\\\\"score\\\\\": -1.553}\", \"{\\\\\"time\\\\\": 6, \\\\\"action\\\\\": 3, \\\\\"current status\\\\\": [0.024, 1.326, 0.308, -0.563, -0.001, -0.022, 0.0, 0.0], \\\\\"score\\\\\": -1.579}\", \"{\\\\\"time\\\\\": 7, \\\\\"action\\\\\": 1, \\\\\"current status\\\\\": [0.027, 1.313, 0.3, -0.59, -0.0, 0.009, 0.0, 0.0], \\\\\"score\\\\\": -0.688}\", \"{\\\\\"time\\\\\": 8, \\\\\"action\\\\\": 2, \\\\\"current status\\\\\": [0.03, 1.3, 0.291, -0.582, -0.0, 0.001, 0.0, 0.0], \\\\\"score\\\\\": 2.115}\", \"{\\\\\"time\\\\\": 9, \\\\\"action\\\\\": 2, \\\\\"current status\\\\\": [0.033, 1.287, 0.298, -0.564, 0.0, 0.007, 0.0, 0.0], \\\\\"score\\\\\": 2.315}\", \"{\\\\\"time\\\\\": 10, \\\\\"action\\\\\": 2, \\\\\"current status\\\\\": [0.036, 1.276, 0.3, -0.527, 0.001, 0.009, 0.0, 0.0], \\\\\"score\\\\\": 3.931}\", \"{\\\\\"time\\\\\": 11, \\\\\"action\\\\\": 1, \\\\\"current status\\\\\": [0.039, 1.263, 0.288, -0.554, 0.003, 0.056, 0.0, 0.0], \\\\\"score\\\\\": -0.857}\", \"{\\\\\"time\\\\\": 12, \\\\\"action\\\\\": 2, \\\\\"current status\\\\\": [0.042, 1.251, 0.297, -0.514, 0.007, 0.065, 0.0, 0.0], \\\\\"score\\\\\": 3.58}\", \"{\\\\\"time\\\\\": 13, \\\\\"action\\\\\": 3, \\\\\"current status\\\\\": [0.045, 1.239, 0.305, -0.541, 0.008, 0.029, 0.0, 0.0], \\\\\"score\\\\\": -1.765}\", \"{\\\\\"time\\\\\": 14, \\\\\"action\\\\\": 2, \\\\\"current status\\\\\": [0.048, 1.228, 0.294, -0.507, 0.009, 0.018, 0.0, 0.0], \\\\\"score\\\\\": 4.329}\", \"{\\\\\"time\\\\\": 15, \\\\\"action\\\\\": 2, \\\\\"current status\\\\\": [0.051, 1.217, 0.297, -0.496, 0.01, 0.022, 0.0, 0.0], \\\\\"score\\\\\": 1.465}\", \"{\\\\\"time\\\\\": 16, \\\\\"action\\\\\": 1, \\\\\"current status\\\\\": [0.054, 1.205, 0.285, -0.523, 0.013, 0.068, 0.0, 0.0], \\\\\"score\\\\\": -0.982}\", \"{\\\\\"time\\\\\": 17, \\\\\"action\\\\\": 2, \\\\\"current status\\\\\": [0.057, 1.194, 0.274, -0.507, 0.016, 0.058, 0.0, 0.0], \\\\\"score\\\\\": 2.432}\", \"{\\\\\"time\\\\\": 18, \\\\\"action\\\\\": 2, \\\\\"current status\\\\\": [0.059, 1.182, 0.268, -0.507, 0.019, 0.053, 0.0, 0.0], \\\\\"score\\\\\": 0.891}\", \"{\\\\\"time\\\\\": 19, \\\\\"action\\\\\": 2, \\\\\"current status\\\\\": [0.062, 1.171, 0.254, -0.483, 0.021, 0.04, 0.0, 0.0], \\\\\"score\\\\\": 3.328}\", \"{\\\\\"time\\\\\": 20, \\\\\"action\\\\\": 2, \\\\\"current status\\\\\": [0.065, 1.161, 0.265, -0.452, 0.024, 0.053, 0.0, 0.0], \\\\\"score\\\\\": 2.595}\", \"{\\\\\"time\\\\\": 22, \\\\\"action\\\\\": 2, \\\\\"current status\\\\\": [0.07, 1.142, 0.257, -0.41, 0.029, 0.049, 0.0, 0.0], \\\\\"score\\\\\": 3.279}\", \"{\\\\\"time\\\\\": 24, \\\\\"action\\\\\": 2, \\\\\"current status\\\\\": [0.075, 1.125, 0.254, -0.368, 0.034, 0.049, 0.0, 0.0], \\\\\"score\\\\\": 2.099}\", \"{\\\\\"time\\\\\": 26, \\\\\"action\\\\\": 2, \\\\\"current status\\\\\": [0.08, 1.108, 0.224, -0.36, 0.043, 0.075, 0.0, 0.0], \\\\\"score\\\\\": 4.101}\", \"{\\\\\"time\\\\\": 28, \\\\\"action\\\\\": 2, \\\\\"current status\\\\\": [0.084, 1.094, 0.198, -0.292, 0.049, 0.057, 0.0, 0.0], \\\\\"score\\\\\": 4.354}\", \"{\\\\\"time\\\\\": 30, \\\\\"action\\\\\": 1, \\\\\"current status\\\\\": [0.088, 1.079, 0.201, -0.345, 0.052, 0.043, 0.0, 0.0], \\\\\"score\\\\\": -1.365}\", \"{\\\\\"time\\\\\": 32, \\\\\"action\\\\\": 1, \\\\\"current status\\\\\": [0.092, 1.063, 0.175, -0.37, 0.058, 0.081, 0.0, 0.0], \\\\\"score\\\\\": -1.495}\", \"{\\\\\"time\\\\\": 34, \\\\\"action\\\\\": 3, \\\\\"current status\\\\\": [0.095, 1.047, 0.169, -0.364, 0.063, 0.035, 0.0, 0.0], \\\\\"score\\\\\": -2.203}\", \"{\\\\\"time\\\\\": 36, \\\\\"action\\\\\": 3, \\\\\"current status\\\\\": [0.099, 1.032, 0.167, -0.363, 0.063, -0.02, 0.0, 0.0], \\\\\"score\\\\\": -1.995}\", \"{\\\\\"time\\\\\": 38, \\\\\"action\\\\\": 2, \\\\\"current status\\\\\": [0.102, 1.015, 0.153, -0.374, 0.065, 0.022, 0.0, 0.0], \\\\\"score\\\\\": 2.047}\", \"{\\\\\"time\\\\\": 40, \\\\\"action\\\\\": 2, \\\\\"current status\\\\\": [0.104, 0.998, 0.128, -0.365, 0.066, 0.003, 0.0, 0.0], \\\\\"score\\\\\": 0.591}\", \"{\\\\\"time\\\\\": 42, \\\\\"action\\\\\": 2, \\\\\"current status\\\\\": [0.107, 0.982, 0.121, -0.352, 0.066, 0.002, 0.0, 0.0], \\\\\"score\\\\\": 1.53}\", \"{\\\\\"time\\\\\": 44, \\\\\"action\\\\\": 1, \\\\\"current status\\\\\": [0.109, 0.964, 0.119, -0.405, 0.064, 0.01, 0.0, 0.0], \\\\\"score\\\\\": -1.372}\", \"{\\\\\"time\\\\\": 46, \\\\\"action\\\\\": 2, \\\\\"current status\\\\\": [0.112, 0.947, 0.113, -0.377, 0.066, 0.012, 0.0, 0.0], \\\\\"score\\\\\": 2.157}\", \"{\\\\\"time\\\\\": 48, \\\\\"action\\\\\": 3, \\\\\"current status\\\\\": [0.114, 0.93, 0.117, -0.389, 0.065, -0.036, 0.0, 0.0], \\\\\"score\\\\\": -1.804}\", \"{\\\\\"time\\\\\": 50, \\\\\"action\\\\\": 1, \\\\\"current status\\\\\": [0.116, 0.914, 0.088, -0.381, 0.061, -0.014, 0.0, 0.0], \\\\\"score\\\\\": -1.544}\", \"{\\\\\"time\\\\\": 52, \\\\\"action\\\\\": 3, \\\\\"current status\\\\\": [0.118, 0.898, 0.099, -0.364, 0.059, -0.045, 0.0, 0.0], \\\\\"score\\\\\": -1.815}\", \"{\\\\\"time\\\\\": 54, \\\\\"action\\\\\": 2, \\\\\"current status\\\\\": [0.119, 0.881, 0.103, -0.358, 0.058, 0.003, 0.0, 0.0], \\\\\"score\\\\\": 3.371}\", \"{\\\\\"time\\\\\": 56, \\\\\"action\\\\\": 3, \\\\\"current status\\\\\": [0.121, 0.865, 0.102, -0.37, 0.056, -0.038, 0.0, 0.0], \\\\\"score\\\\\": -1.832}\", \"{\\\\\"time\\\\\": 58, \\\\\"action\\\\\": 2, \\\\\"current status\\\\\": [0.123, 0.848, 0.085, -0.371, 0.055, -0.013, 0.0, 0.0], \\\\\"score\\\\\": 3.407}\", \"{\\\\\"time\\\\\": 60, \\\\\"action\\\\\": 1, \\\\\"current status\\\\\": [0.125, 0.832, 0.063, -0.364, 0.055, 0.019, 0.0, 0.0], \\\\\"score\\\\\": -1.804}\", \"{\\\\\"time\\\\\": 62, \\\\\"action\\\\\": 2, \\\\\"current status\\\\\": [0.126, 0.815, 0.066, -0.37, 0.053, -0.024, 0.0, 0.0], \\\\\"score\\\\\": 2.759}\", \"{\\\\\"time\\\\\": 64, \\\\\"action\\\\\": 2, \\\\\"current status\\\\\": [0.127, 0.798, 0.066, -0.353, 0.056, 0.039, 0.0, 0.0], \\\\\"score\\\\\": 4.41}\", \"{\\\\\"time\\\\\": 66, \\\\\"action\\\\\": 2, \\\\\"current status\\\\\": [0.129, 0.781, 0.07, -0.38, 0.057, 0.006, 0.0, 0.0], \\\\\"score\\\\\": 0.564}\", \"{\\\\\"time\\\\\": 68, \\\\\"action\\\\\": 2, \\\\\"current status\\\\\": [0.13, 0.765, 0.053, -0.344, 0.057, -0.003, 0.0, 0.0], \\\\\"score\\\\\": 3.98}\", \"{\\\\\"time\\\\\": 70, \\\\\"action\\\\\": 1, \\\\\"current status\\\\\": [0.131, 0.747, 0.056, -0.397, 0.054, -0.012, 0.0, 0.0], \\\\\"score\\\\\": -1.65}\", \"{\\\\\"time\\\\\": 72, \\\\\"action\\\\\": 3, \\\\\"current status\\\\\": [0.132, 0.731, 0.065, -0.384, 0.051, -0.049, 0.0, 0.0], \\\\\"score\\\\\": -1.749}\", \"{\\\\\"time\\\\\": 74, \\\\\"action\\\\\": 2, \\\\\"current status\\\\\": [0.133, 0.713, 0.05, -0.392, 0.051, 0.001, 0.0, 0.0], \\\\\"score\\\\\": 2.52}\", \"{\\\\\"time\\\\\": 76, \\\\\"action\\\\\": 3, \\\\\"current status\\\\\": [0.134, 0.696, 0.065, -0.377, 0.051, -0.018, 0.0, 0.0], \\\\\"score\\\\\": -1.867}\", \"{\\\\\"time\\\\\": 78, \\\\\"action\\\\\": 1, \\\\\"current status\\\\\": [0.135, 0.679, 0.036, -0.387, 0.05, 0.019, 0.0, 0.0], \\\\\"score\\\\\": -1.802}\", \"{\\\\\"time\\\\\": 80, \\\\\"action\\\\\": 2, \\\\\"current status\\\\\": [0.136, 0.662, 0.031, -0.381, 0.047, -0.04, 0.0, 0.0], \\\\\"score\\\\\": 4.171}\", \"{\\\\\"time\\\\\": 82, \\\\\"action\\\\\": 2, \\\\\"current status\\\\\": [0.136, 0.644, 0.006, -0.376, 0.045, -0.02, 0.0, 0.0], \\\\\"score\\\\\": 3.869}\", \"{\\\\\"time\\\\\": 84, \\\\\"action\\\\\": 2, \\\\\"current status\\\\\": [0.136, 0.627, 0.006, -0.375, 0.039, -0.064, 0.0, 0.0], \\\\\"score\\\\\": 3.585}\", \"{\\\\\"time\\\\\": 86, \\\\\"action\\\\\": 2, \\\\\"current status\\\\\": [0.136, 0.609, -0.015, -0.387, 0.037, -0.021, 0.0, 0.0], \\\\\"score\\\\\": 2.17}\", \"{\\\\\"time\\\\\": 88, \\\\\"action\\\\\": 2, \\\\\"current status\\\\\": [0.136, 0.591, -0.008, -0.375, 0.031, -0.061, 0.0, 0.0], \\\\\"score\\\\\": 4.65}\", \"{\\\\\"time\\\\\": 90, \\\\\"action\\\\\": 2, \\\\\"current status\\\\\": [0.135, 0.573, -0.026, -0.378, 0.03, -0.019, 0.0, 0.0], \\\\\"score\\\\\": 2.964}\", \"{\\\\\"time\\\\\": 92, \\\\\"action\\\\\": 2, \\\\\"current status\\\\\": [0.135, 0.555, -0.015, -0.404, 0.023, -0.065, 0.0, 0.0], \\\\\"score\\\\\": 0.98}\", \"{\\\\\"time\\\\\": 94, \\\\\"action\\\\\": 2, \\\\\"current status\\\\\": [0.135, 0.536, -0.014, -0.422, 0.021, -0.02, 0.0, 0.0], \\\\\"score\\\\\": 1.646}\", \"{\\\\\"time\\\\\": 96, \\\\\"action\\\\\": 2, \\\\\"current status\\\\\": [0.134, 0.517, -0.032, -0.413, 0.018, -0.036, 0.0, 0.0], \\\\\"score\\\\\": 0.865}\", \"{\\\\\"time\\\\\": 98, \\\\\"action\\\\\": 2, \\\\\"current status\\\\\": [0.133, 0.5, -0.035, -0.382, 0.014, -0.036, 0.0, 0.0], \\\\\"score\\\\\": 1.42}\", \"{\\\\\"time\\\\\": 100, \\\\\"action\\\\\": 2, \\\\\"current status\\\\\": [0.132, 0.482, -0.058, -0.399, 0.014, -0.007, 0.0, 0.0], \\\\\"score\\\\\": 1.343}\", \"{\\\\\"time\\\\\": 102, \\\\\"action\\\\\": 2, \\\\\"current status\\\\\": [0.131, 0.465, -0.065, -0.361, 0.014, -0.011, 0.0, 0.0], \\\\\"score\\\\\": 2.316}\", \"{\\\\\"time\\\\\": 104, \\\\\"action\\\\\": 2, \\\\\"current status\\\\\": [0.13, 0.449, -0.042, -0.354, 0.009, -0.035, 0.0, 0.0], \\\\\"score\\\\\": 4.135}\", \"{\\\\\"time\\\\\": 106, \\\\\"action\\\\\": 2, \\\\\"current status\\\\\": [0.129, 0.432, -0.053, -0.37, 0.009, -0.001, 0.0, 0.0], \\\\\"score\\\\\": 1.565}\", \"{\\\\\"time\\\\\": 108, \\\\\"action\\\\\": 2, \\\\\"current status\\\\\": [0.128, 0.416, -0.084, -0.328, 0.007, -0.03, 0.0, 0.0], \\\\\"score\\\\\": 3.713}\", \"{\\\\\"time\\\\\": 110, \\\\\"action\\\\\": 1, \\\\\"current status\\\\\": [0.126, 0.399, -0.086, -0.381, 0.003, -0.022, 0.0, 0.0], \\\\\"score\\\\\": -1.896}\", \"{\\\\\"time\\\\\": 112, \\\\\"action\\\\\": 2, \\\\\"current status\\\\\": [0.124, 0.383, -0.093, -0.365, 0.001, -0.028, 0.0, 0.0], \\\\\"score\\\\\": 1.298}\", \"{\\\\\"time\\\\\": 114, \\\\\"action\\\\\": 2, \\\\\"current status\\\\\": [0.122, 0.367, -0.091, -0.328, -0.001, -0.026, 0.0, 0.0], \\\\\"score\\\\\": 3.598}\", \"{\\\\\"time\\\\\": 116, \\\\\"action\\\\\": 1, \\\\\"current status\\\\\": [0.121, 0.351, -0.093, -0.381, -0.006, -0.02, 0.0, 0.0], \\\\\"score\\\\\": -2.131}\", \"{\\\\\"time\\\\\": 118, \\\\\"action\\\\\": 2, \\\\\"current status\\\\\": [0.119, 0.335, -0.058, -0.334, -0.005, 0.012, 0.0, 0.0], \\\\\"score\\\\\": 3.625}\", \"{\\\\\"time\\\\\": 120, \\\\\"action\\\\\": 2, \\\\\"current status\\\\\": [0.118, 0.319, -0.064, -0.344, -0.008, -0.032, 0.0, 0.0], \\\\\"score\\\\\": 1.596}\", \"{\\\\\"time\\\\\": 122, \\\\\"action\\\\\": 1, \\\\\"current status\\\\\": [0.117, 0.305, -0.066, -0.339, -0.008, 0.015, 0.0, 0.0], \\\\\"score\\\\\": -2.04}\", \"{\\\\\"time\\\\\": 124, \\\\\"action\\\\\": 2, \\\\\"current status\\\\\": [0.116, 0.291, -0.043, -0.285, -0.005, 0.036, 0.0, 0.0], \\\\\"score\\\\\": 4.807}\", \"{\\\\\"time\\\\\": 126, \\\\\"action\\\\\": 1, \\\\\"current status\\\\\": [0.115, 0.276, -0.044, -0.338, -0.003, 0.04, 0.0, 0.0], \\\\\"score\\\\\": -1.833}\", \"{\\\\\"time\\\\\": 128, \\\\\"action\\\\\": 2, \\\\\"current status\\\\\": [0.115, 0.261, -0.027, -0.322, 0.002, 0.057, 0.0, 0.0], \\\\\"score\\\\\": 1.419}\", \"{\\\\\"time\\\\\": 130, \\\\\"action\\\\\": 3, \\\\\"current status\\\\\": [0.114, 0.248, -0.01, -0.309, 0.006, 0.012, 0.0, 0.0], \\\\\"score\\\\\": -2.05}\", \"{\\\\\"time\\\\\": 132, \\\\\"action\\\\\": 2, \\\\\"current status\\\\\": [0.114, 0.233, -0.02, -0.33, 0.012, 0.058, 0.0, 0.0], \\\\\"score\\\\\": 0.716}\", \"{\\\\\"time\\\\\": 134, \\\\\"action\\\\\": 2, \\\\\"current status\\\\\": [0.114, 0.22, -0.007, -0.295, 0.018, 0.072, 0.0, 0.0], \\\\\"score\\\\\": 0.963}\", \"{\\\\\"time\\\\\": 136, \\\\\"action\\\\\": 2, \\\\\"current status\\\\\": [0.114, 0.208, 0.002, -0.253, 0.026, 0.084, 0.0, 0.0], \\\\\"score\\\\\": 3.094}\", \"{\\\\\"time\\\\\": 138, \\\\\"action\\\\\": 2, \\\\\"current status\\\\\": [0.114, 0.195, -0.004, -0.275, 0.03, 0.029, 0.0, 0.0], \\\\\"score\\\\\": 0.542}\", \"{\\\\\"time\\\\\": 140, \\\\\"action\\\\\": 1, \\\\\"current status\\\\\": [0.114, 0.184, -0.002, -0.265, 0.036, 0.072, 0.0, 0.0], \\\\\"score\\\\\": -2.522}\", \"{\\\\\"time\\\\\": 142, \\\\\"action\\\\\": 2, \\\\\"current status\\\\\": [0.114, 0.174, 0.006, -0.204, 0.044, 0.086, 0.0, 0.0], \\\\\"score\\\\\": 3.298}\", \"{\\\\\"time\\\\\": 144, \\\\\"action\\\\\": 2, \\\\\"current status\\\\\": [0.115, 0.164, -0.007, -0.196, 0.048, 0.034, 0.0, 0.0], \\\\\"score\\\\\": 3.431}\", \"{\\\\\"time\\\\\": 146, \\\\\"action\\\\\": 3, \\\\\"current status\\\\\": [0.115, 0.156, 0.001, -0.2, 0.051, 0.004, 0.0, 0.0], \\\\\"score\\\\\": -2.323}\", \"{\\\\\"time\\\\\": 148, \\\\\"action\\\\\": 2, \\\\\"current status\\\\\": [0.114, 0.146, -0.001, -0.229, 0.055, 0.049, 0.0, 0.0], \\\\\"score\\\\\": -0.41}\", \"{\\\\\"time\\\\\": 150, \\\\\"action\\\\\": 2, \\\\\"current status\\\\\": [0.114, 0.136, -0.007, -0.199, 0.059, 0.05, 0.0, 0.0], \\\\\"score\\\\\": 0.988}\", \"{\\\\\"time\\\\\": 152, \\\\\"action\\\\\": 2, \\\\\"current status\\\\\": [0.114, 0.128, 0.009, -0.178, 0.066, 0.072, 0.0, 0.0], \\\\\"score\\\\\": 1.702}\", \"{\\\\\"time\\\\\": 154, \\\\\"action\\\\\": 2, \\\\\"current status\\\\\": [0.115, 0.12, 0.016, -0.168, 0.074, 0.085, 0.0, 0.0], \\\\\"score\\\\\": 0.431}\", \"{\\\\\"time\\\\\": 156, \\\\\"action\\\\\": 3, \\\\\"current status\\\\\": [0.115, 0.113, 0.014, -0.162, 0.081, 0.051, 0.0, 0.0], \\\\\"score\\\\\": -2.656}\", \"{\\\\\"time\\\\\": 158, \\\\\"action\\\\\": 2, \\\\\"current status\\\\\": [0.116, 0.107, 0.023, -0.143, 0.088, 0.068, 0.0, 0.0], \\\\\"score\\\\\": -0.651}\", \"{\\\\\"time\\\\\": 160, \\\\\"action\\\\\": 2, \\\\\"current status\\\\\": [0.116, 0.102, 0.01, -0.098, 0.095, 0.069, 0.0, 0.0], \\\\\"score\\\\\": 3.891}\", \"{\\\\\"time\\\\\": 162, \\\\\"action\\\\\": 1, \\\\\"current status\\\\\": [0.117, 0.096, 0.015, -0.151, 0.099, 0.05, 0.0, 0.0], \\\\\"score\\\\\": -2.633}\", \"{\\\\\"time\\\\\": 164, \\\\\"action\\\\\": 3, \\\\\"current status\\\\\": [0.116, 0.09, 0.0, -0.138, 0.099, -0.016, 0.0, 0.0], \\\\\"score\\\\\": -2.317}\", \"{\\\\\"time\\\\\": 166, \\\\\"action\\\\\": 1, \\\\\"current status\\\\\": [0.117, 0.085, -0.004, -0.129, 0.101, 0.036, 0.0, 0.0], \\\\\"score\\\\\": -2.802}\", \"{\\\\\"time\\\\\": 168, \\\\\"action\\\\\": 2, \\\\\"current status\\\\\": [0.117, 0.078, 0.002, -0.128, 0.102, 0.01, 0.0, 0.0], \\\\\"score\\\\\": 2.558}\", \"{\\\\\"time\\\\\": 170, \\\\\"action\\\\\": 2, \\\\\"current status\\\\\": [0.117, 0.071, -0.003, -0.157, 0.099, -0.035, 0.0, 0.0], \\\\\"score\\\\\": -0.235}\", \"{\\\\\"time\\\\\": 172, \\\\\"action\\\\\": 2, \\\\\"current status\\\\\": [0.116, 0.065, -0.016, -0.128, 0.096, -0.036, 0.0, 0.0], \\\\\"score\\\\\": 2.18}\", \"{\\\\\"time\\\\\": 174, \\\\\"action\\\\\": 2, \\\\\"current status\\\\\": [0.116, 0.058, -0.044, -0.153, 0.096, -0.005, 0.0, 0.0], \\\\\"score\\\\\": -0.253}\", \"{\\\\\"time\\\\\": 176, \\\\\"action\\\\\": 2, \\\\\"current status\\\\\": [0.115, 0.051, -0.054, -0.159, 0.091, -0.05, 0.0, 0.0], \\\\\"score\\\\\": 1.577}\", \"{\\\\\"time\\\\\": 178, \\\\\"action\\\\\": 3, \\\\\"current status\\\\\": [0.114, 0.044, -0.047, -0.156, 0.085, -0.083, 0.0, 0.0], \\\\\"score\\\\\": -1.604}\", \"{\\\\\"time\\\\\": 180, \\\\\"action\\\\\": 2, \\\\\"current status\\\\\": [0.112, 0.038, -0.087, -0.125, 0.074, -0.112, 0.0, 0.0], \\\\\"score\\\\\": 0.907}\", \"{\\\\\"time\\\\\": 182, \\\\\"action\\\\\": 2, \\\\\"current status\\\\\": [0.11, 0.032, -0.068, -0.128, 0.06, -0.135, 0.0, 0.0], \\\\\"score\\\\\": 3.052}\", \"{\\\\\"time\\\\\": 184, \\\\\"action\\\\\": 2, \\\\\"current status\\\\\": [0.109, 0.026, -0.091, -0.113, 0.051, -0.091, 0.0, 0.0], \\\\\"score\\\\\": 3.321}\", \"{\\\\\"time\\\\\": 186, \\\\\"action\\\\\": 2, \\\\\"current status\\\\\": [0.106, 0.02, -0.108, -0.134, 0.047, -0.047, 0.0, 0.0], \\\\\"score\\\\\": 0.229}\", \"{\\\\\"time\\\\\": 188, \\\\\"action\\\\\": 3, \\\\\"current status\\\\\": [0.104, 0.014, -0.094, -0.141, 0.041, -0.071, 0.0, 0.0], \\\\\"score\\\\\": -1.104}\", \"{\\\\\"time\\\\\": 190, \\\\\"action\\\\\": 2, \\\\\"current status\\\\\": [0.102, 0.009, -0.107, -0.092, 0.034, -0.078, 0.0, 0.0], \\\\\"score\\\\\": 0.911}\", \"{\\\\\"time\\\\\": 192, \\\\\"action\\\\\": 3, \\\\\"current status\\\\\": [0.1, 0.003, -0.112, -0.145, 0.03, -0.061, 0.0, 0.0], \\\\\"score\\\\\": -1.059}\", \"{\\\\\"time\\\\\": 194, \\\\\"action\\\\\": 2, \\\\\"current status\\\\\": [0.097, -0.001, -0.106, -0.079, -0.001, -0.299, 0.0, 1.0], \\\\\"score\\\\\": 2.746}\", \"{\\\\\"time\\\\\": 196, \\\\\"action\\\\\": 2, \\\\\"current status\\\\\": [0.095, -0.002, -0.102, 0.0, 0.003, -0.0, 1.0, 1.0], \\\\\"score\\\\\": 11.835}\", \"{\\\\\"time\\\\\": 198, \\\\\"action\\\\\": 0, \\\\\"current status\\\\\": [0.093, -0.001, -0.089, 0.004, 0.003, -0.016, 1.0, 1.0], \\\\\"score\\\\\": 0.81}\", \"{\\\\\"time\\\\\": 200, \\\\\"action\\\\\": 0, \\\\\"current status\\\\\": [0.092, -0.001, -0.079, 0.001, 0.002, -0.006, 1.0, 1.0], \\\\\"score\\\\\": 0.695}\", \"{\\\\\"time\\\\\": 202, \\\\\"action\\\\\": 0, \\\\\"current status\\\\\": [0.09, -0.001, -0.068, 0.0, 0.001, -0.0, 1.0, 1.0], \\\\\"score\\\\\": 0.534}\", \"{\\\\\"time\\\\\": 204, \\\\\"action\\\\\": 0, \\\\\"current status\\\\\": [0.089, -0.001, -0.056, -0.0, 0.001, 0.0, 1.0, 1.0], \\\\\"score\\\\\": 0.623}\", \"{\\\\\"time\\\\\": 206, \\\\\"action\\\\\": 0, \\\\\"current status\\\\\": [0.088, -0.001, -0.045, 0.0, 0.001, -0.0, 1.0, 1.0], \\\\\"score\\\\\": 0.611}\", \"{\\\\\"time\\\\\": 208, \\\\\"action\\\\\": 0, \\\\\"current status\\\\\": [0.088, -0.001, -0.034, -0.0, 0.001, 0.0, 1.0, 1.0], \\\\\"score\\\\\": 0.599}\", \"{\\\\\"time\\\\\": 210, \\\\\"action\\\\\": 0, \\\\\"current status\\\\\": [0.087, -0.001, -0.006, 0.001, 0.001, -0.001, 1.0, 1.0], \\\\\"score\\\\\": 1.457}\", \"{\\\\\"time\\\\\": 212, \\\\\"action\\\\\": 0, \\\\\"current status\\\\\": [0.087, -0.001, 0.004, -0.0, 0.001, -0.001, 1.0, 1.0], \\\\\"score\\\\\": -0.212}\", \"{\\\\\"time\\\\\": 214, \\\\\"action\\\\\": 0, \\\\\"current status\\\\\": [0.087, -0.001, 0.004, -0.0, 0.001, 0.001, 1.0, 1.0], \\\\\"score\\\\\": 0.078}\", \"{\\\\\"time\\\\\": 216, \\\\\"action\\\\\": 0, \\\\\"current status\\\\\": [0.087, -0.001, 0.001, -0.0, 0.001, 0.0, 1.0, 1.0], \\\\\"score\\\\\": 0.177}\", \"{\\\\\"time\\\\\": 218, \\\\\"action\\\\\": 0, \\\\\"current status\\\\\": [0.087, -0.001, -0.0, 0.0, 0.001, 0.0, 1.0, 1.0], \\\\\"score\\\\\": -0.005}\", \"{\\\\\"time\\\\\": 220, \\\\\"action\\\\\": 0, \\\\\"current status\\\\\": [0.087, -0.001, 0.0, -0.0, 0.001, -0.0, 1.0, 1.0], \\\\\"score\\\\\": 0.01}\", \"{\\\\\"time\\\\\": 222, \\\\\"action\\\\\": 0, \\\\\"current status\\\\\": [0.087, -0.001, 0.0, -0.0, 0.001, -0.0, 1.0, 1.0], \\\\\"score\\\\\": 0.004}\", \"{\\\\\"time\\\\\": 224, \\\\\"action\\\\\": 0, \\\\\"current status\\\\\": [0.087, -0.001, -0.0, 0.0, 0.001, 0.0, 1.0, 1.0], \\\\\"score\\\\\": -0.001}\", \"{\\\\\"time\\\\\": 226, \\\\\"action\\\\\": 0, \\\\\"current status\\\\\": [0.087, -0.001, -0.0, -0.0, 0.001, 0.0, 1.0, 1.0], \\\\\"score\\\\\": 0.001}\", \"{\\\\\"time\\\\\": 228, \\\\\"action\\\\\": 0, \\\\\"current status\\\\\": [0.087, -0.001, 0.0, -0.0, 0.001, -0.0, 1.0, 1.0], \\\\\"score\\\\\": 0.0}\", \"{\\\\\"time\\\\\": 230, \\\\\"action\\\\\": 0, \\\\\"current status\\\\\": [0.087, -0.001, -0.0, -0.0, 0.001, 0.0, 1.0, 1.0], \\\\\"score\\\\\": -0.0}\", \"{\\\\\"time\\\\\": 232, \\\\\"action\\\\\": 0, \\\\\"current status\\\\\": [0.087, -0.001, -0.0, 0.0, 0.001, 0.0, 1.0, 1.0], \\\\\"score\\\\\": 0.0}\", \"{\\\\\"time\\\\\": 234, \\\\\"action\\\\\": 0, \\\\\"current status\\\\\": [0.087, -0.001, 0.0, -0.0, 0.001, -0.0, 1.0, 1.0], \\\\\"score\\\\\": -0.0}\", \"{\\\\\"time\\\\\": 236, \\\\\"action\\\\\": 0, \\\\\"current status\\\\\": [0.087, -0.001, 0.0, -0.0, 0.001, -0.0, 1.0, 1.0], \\\\\"score\\\\\": 0.0}\", \"{\\\\\"time\\\\\": 238, \\\\\"action\\\\\": 0, \\\\\"current status\\\\\": [0.087, -0.001, 0.0, -0.0, 0.001, -0.0, 1.0, 1.0], \\\\\"score\\\\\": 0.0}\", \"{\\\\\"time\\\\\": 240, \\\\\"action\\\\\": 0, \\\\\"current status\\\\\": [0.087, -0.001, 0.0, 0.0, 0.001, 0.0, 1.0, 1.0], \\\\\"score\\\\\": 100}\", \"{\\\\\"time\\\\\": 0, \\\\\"action\\\\\": 3, \\\\\"current status\\\\\": [-0.007, 1.424, -0.344, 0.284, 0.006, 0.033, 0.0, 0.0], \\\\\"score\\\\\": 1.769}\", \"{\\\\\"time\\\\\": 1, \\\\\"action\\\\\": 3, \\\\\"current status\\\\\": [-0.01, 1.43, -0.335, 0.258, 0.006, -0.002, 0.0, 0.0], \\\\\"score\\\\\": 1.729}\", \"{\\\\\"time\\\\\": 2, \\\\\"action\\\\\": 0, \\\\\"current status\\\\\": [-0.014, 1.435, -0.335, 0.231, 0.006, -0.002, 0.0, 0.0], \\\\\"score\\\\\": 1.057}\", \"{\\\\\"time\\\\\": 3, \\\\\"action\\\\\": 0, \\\\\"current status\\\\\": [-0.017, 1.44, -0.335, 0.204, 0.005, -0.002, 0.0, 0.0], \\\\\"score\\\\\": 0.998}\", \"{\\\\\"time\\\\\": 4, \\\\\"action\\\\\": 0, \\\\\"current status\\\\\": [-0.02, 1.444, -0.335, 0.178, 0.005, -0.002, 0.0, 0.0], \\\\\"score\\\\\": 0.925}\", \"{\\\\\"time\\\\\": 5, \\\\\"action\\\\\": 3, \\\\\"current status\\\\\": [-0.024, 1.447, -0.327, 0.151, 0.004, -0.035, 0.0, 0.0], \\\\\"score\\\\\": 1.727}\", \"{\\\\\"time\\\\\": 6, \\\\\"action\\\\\": 3, \\\\\"current status\\\\\": [-0.027, 1.45, -0.318, 0.124, -0.0, -0.073, 0.0, 0.0], \\\\\"score\\\\\": 1.954}\", \"{\\\\\"time\\\\\": 7, \\\\\"action\\\\\": 0, \\\\\"current status\\\\\": [-0.03, 1.452, -0.318, 0.098, -0.004, -0.073, 0.0, 0.0], \\\\\"score\\\\\": 0.29}\", \"{\\\\\"time\\\\\": 8, \\\\\"action\\\\\": 0, \\\\\"current status\\\\\": [-0.033, 1.454, -0.318, 0.071, -0.007, -0.073, 0.0, 0.0], \\\\\"score\\\\\": 0.154}\", \"{\\\\\"time\\\\\": 9, \\\\\"action\\\\\": 3, \\\\\"current status\\\\\": [-0.036, 1.455, -0.307, 0.045, -0.013, -0.113, 0.0, 0.0], \\\\\"score\\\\\": 0.766}\", \"{\\\\\"time\\\\\": 10, \\\\\"action\\\\\": 1, \\\\\"current status\\\\\": [-0.04, 1.455, -0.319, 0.018, -0.016, -0.068, 0.0, 0.0], \\\\\"score\\\\\": -1.265}\", \"{\\\\\"time\\\\\": 11, \\\\\"action\\\\\": 3, \\\\\"current status\\\\\": [-0.043, 1.455, -0.31, -0.01, -0.022, -0.103, 0.0, 0.0], \\\\\"score\\\\\": 0.365}\", \"{\\\\\"time\\\\\": 12, \\\\\"action\\\\\": 1, \\\\\"current status\\\\\": [-0.046, 1.454, -0.321, -0.036, -0.025, -0.059, 0.0, 0.0], \\\\\"score\\\\\": -1.528}\", \"{\\\\\"time\\\\\": 13, \\\\\"action\\\\\": 3, \\\\\"current status\\\\\": [-0.049, 1.453, -0.311, -0.063, -0.03, -0.101, 0.0, 0.0], \\\\\"score\\\\\": 0.194}\", \"{\\\\\"time\\\\\": 14, \\\\\"action\\\\\": 3, \\\\\"current status\\\\\": [-0.052, 1.451, -0.301, -0.091, -0.036, -0.139, 0.0, 0.0], \\\\\"score\\\\\": -0.28}\", \"{\\\\\"time\\\\\": 15, \\\\\"action\\\\\": 3, \\\\\"current status\\\\\": [-0.055, 1.448, -0.29, -0.118, -0.046, -0.184, 0.0, 0.0], \\\\\"score\\\\\": -0.531}\", \"{\\\\\"time\\\\\": 16, \\\\\"action\\\\\": 1, \\\\\"current status\\\\\": [-0.058, 1.445, -0.301, -0.143, -0.053, -0.137, 0.0, 0.0], \\\\\"score\\\\\": -2.502}\", \"{\\\\\"time\\\\\": 17, \\\\\"action\\\\\": 3, \\\\\"current status\\\\\": [-0.061, 1.441, -0.291, -0.171, -0.061, -0.179, 0.0, 0.0], \\\\\"score\\\\\": -0.911}\", \"{\\\\\"time\\\\\": 18, \\\\\"action\\\\\": 3, \\\\\"current status\\\\\": [-0.064, 1.437, -0.281, -0.197, -0.073, -0.221, 0.0, 0.0], \\\\\"score\\\\\": -1.277}\", \"{\\\\\"time\\\\\": 19, \\\\\"action\\\\\": 1, \\\\\"current status\\\\\": [-0.067, 1.432, -0.288, -0.224, -0.082, -0.19, 0.0, 0.0], \\\\\"score\\\\\": -2.663}\", \"{\\\\\"time\\\\\": 20, \\\\\"action\\\\\": 1, \\\\\"current status\\\\\": [-0.07, 1.426, -0.295, -0.25, -0.09, -0.16, 0.0, 0.0], \\\\\"score\\\\\": -2.546}\", \"{\\\\\"time\\\\\": 22, \\\\\"action\\\\\": 1, \\\\\"current status\\\\\": [-0.076, 1.413, -0.294, -0.305, -0.109, -0.165, 0.0, 0.0], \\\\\"score\\\\\": -2.813}\", \"{\\\\\"time\\\\\": 24, \\\\\"action\\\\\": 3, \\\\\"current status\\\\\": [-0.082, 1.397, -0.294, -0.359, -0.124, -0.168, 0.0, 0.0], \\\\\"score\\\\\": -1.728}\", \"{\\\\\"time\\\\\": 26, \\\\\"action\\\\\": 3, \\\\\"current status\\\\\": [-0.088, 1.38, -0.293, -0.412, -0.139, -0.169, 0.0, 0.0], \\\\\"score\\\\\": -1.637}\", \"{\\\\\"time\\\\\": 28, \\\\\"action\\\\\": 3, \\\\\"current status\\\\\": [-0.095, 1.359, -0.297, -0.465, -0.153, -0.154, 0.0, 0.0], \\\\\"score\\\\\": -1.652}\", \"{\\\\\"time\\\\\": 30, \\\\\"action\\\\\": 3, \\\\\"current status\\\\\": [-0.101, 1.337, -0.3, -0.518, -0.165, -0.141, 0.0, 0.0], \\\\\"score\\\\\": -1.518}\", \"{\\\\\"time\\\\\": 32, \\\\\"action\\\\\": 3, \\\\\"current status\\\\\": [-0.107, 1.312, -0.298, -0.572, -0.178, -0.151, 0.0, 0.0], \\\\\"score\\\\\": -1.455}\", \"{\\\\\"time\\\\\": 34, \\\\\"action\\\\\": 2, \\\\\"current status\\\\\": [-0.113, 1.285, -0.283, -0.591, -0.188, -0.098, 0.0, 0.0], \\\\\"score\\\\\": 2.07}\", \"{\\\\\"time\\\\\": 36, \\\\\"action\\\\\": 2, \\\\\"current status\\\\\": [-0.119, 1.257, -0.267, -0.616, -0.194, -0.052, 0.0, 0.0], \\\\\"score\\\\\": 1.819}\", \"{\\\\\"time\\\\\": 38, \\\\\"action\\\\\": 2, \\\\\"current status\\\\\": [-0.123, 1.231, -0.212, -0.556, -0.199, -0.033, 0.0, 0.0], \\\\\"score\\\\\": 5.648}\", \"{\\\\\"time\\\\\": 40, \\\\\"action\\\\\": 2, \\\\\"current status\\\\\": [-0.127, 1.206, -0.197, -0.542, -0.198, 0.007, 0.0, 0.0], \\\\\"score\\\\\": 5.512}\", \"{\\\\\"time\\\\\": 42, \\\\\"action\\\\\": 2, \\\\\"current status\\\\\": [-0.131, 1.183, -0.153, -0.507, -0.196, 0.023, 0.0, 0.0], \\\\\"score\\\\\": 2.897}\", \"{\\\\\"time\\\\\": 44, \\\\\"action\\\\\": 1, \\\\\"current status\\\\\": [-0.133, 1.161, -0.135, -0.493, -0.191, 0.072, 0.0, 0.0], \\\\\"score\\\\\": -1.242}\", \"{\\\\\"time\\\\\": 46, \\\\\"action\\\\\": 3, \\\\\"current status\\\\\": [-0.136, 1.139, -0.119, -0.499, -0.186, 0.036, 0.0, 0.0], \\\\\"score\\\\\": -1.229}\", \"{\\\\\"time\\\\\": 48, \\\\\"action\\\\\": 2, \\\\\"current status\\\\\": [-0.137, 1.119, -0.085, -0.454, -0.182, 0.042, 0.0, 0.0], \\\\\"score\\\\\": 1.99}\", \"{\\\\\"time\\\\\": 50, \\\\\"action\\\\\": 2, \\\\\"current status\\\\\": [-0.139, 1.099, -0.052, -0.443, -0.176, 0.057, 0.0, 0.0], \\\\\"score\\\\\": 1.042}\", \"{\\\\\"time\\\\\": 52, \\\\\"action\\\\\": 2, \\\\\"current status\\\\\": [-0.139, 1.08, -0.02, -0.41, -0.17, 0.065, 0.0, 0.0], \\\\\"score\\\\\": 3.664}\", \"{\\\\\"time\\\\\": 54, \\\\\"action\\\\\": 2, \\\\\"current status\\\\\": [-0.139, 1.06, -0.005, -0.433, -0.16, 0.115, 0.0, 0.0], \\\\\"score\\\\\": 1.609}\", \"{\\\\\"time\\\\\": 56, \\\\\"action\\\\\": 2, \\\\\"current status\\\\\": [-0.139, 1.042, 0.017, -0.396, -0.149, 0.115, 0.0, 0.0], \\\\\"score\\\\\": 4.347}\", \"{\\\\\"time\\\\\": 58, \\\\\"action\\\\\": 1, \\\\\"current status\\\\\": [-0.139, 1.025, 0.017, -0.386, -0.136, 0.146, 0.0, 0.0], \\\\\"score\\\\\": -1.013}\", \"{\\\\\"time\\\\\": 60, \\\\\"action\\\\\": 2, \\\\\"current status\\\\\": [-0.138, 1.007, 0.021, -0.39, -0.126, 0.098, 0.0, 0.0], \\\\\"score\\\\\": 3.46}\", \"{\\\\\"time\\\\\": 62, \\\\\"action\\\\\": 2, \\\\\"current status\\\\\": [-0.137, 0.989, 0.049, -0.38, -0.119, 0.065, 0.0, 0.0], \\\\\"score\\\\\": 4.46}\", \"{\\\\\"time\\\\\": 64, \\\\\"action\\\\\": 2, \\\\\"current status\\\\\": [-0.136, 0.971, 0.032, -0.382, -0.109, 0.096, 0.0, 0.0], \\\\\"score\\\\\": 3.497}\", \"{\\\\\"time\\\\\": 66, \\\\\"action\\\\\": 1, \\\\\"current status\\\\\": [-0.136, 0.952, 0.03, -0.435, -0.101, 0.104, 0.0, 0.0], \\\\\"score\\\\\": -1.005}\", \"{\\\\\"time\\\\\": 68, \\\\\"action\\\\\": 3, \\\\\"current status\\\\\": [-0.135, 0.933, 0.048, -0.429, -0.094, 0.052, 0.0, 0.0], \\\\\"score\\\\\": -1.641}\", \"{\\\\\"time\\\\\": 70, \\\\\"action\\\\\": 1, \\\\\"current status\\\\\": [-0.134, 0.915, 0.035, -0.427, -0.087, 0.088, 0.0, 0.0], \\\\\"score\\\\\": -1.148}\", \"{\\\\\"time\\\\\": 72, \\\\\"action\\\\\": 3, \\\\\"current status\\\\\": [-0.133, 0.896, 0.065, -0.417, -0.079, 0.058, 0.0, 0.0], \\\\\"score\\\\\": -1.62}\", \"{\\\\\"time\\\\\": 74, \\\\\"action\\\\\": 2, \\\\\"current status\\\\\": [-0.131, 0.879, 0.078, -0.369, -0.073, 0.06, 0.0, 0.0], \\\\\"score\\\\\": 4.502}\", \"{\\\\\"time\\\\\": 76, \\\\\"action\\\\\": 3, \\\\\"current status\\\\\": [-0.129, 0.861, 0.078, -0.423, -0.065, 0.059, 0.0, 0.0], \\\\\"score\\\\\": -1.698}\", \"{\\\\\"time\\\\\": 78, \\\\\"action\\\\\": 2, \\\\\"current status\\\\\": [-0.128, 0.843, 0.085, -0.36, -0.059, 0.054, 0.0, 0.0], \\\\\"score\\\\\": 5.086}\", \"{\\\\\"time\\\\\": 80, \\\\\"action\\\\\": 3, \\\\\"current status\\\\\": [-0.126, 0.825, 0.085, -0.414, -0.052, 0.052, 0.0, 0.0], \\\\\"score\\\\\": -1.669}\", \"{\\\\\"time\\\\\": 82, \\\\\"action\\\\\": 2, \\\\\"current status\\\\\": [-0.124, 0.807, 0.106, -0.412, -0.045, 0.068, 0.0, 0.0], \\\\\"score\\\\\": 0.53}\", \"{\\\\\"time\\\\\": 84, \\\\\"action\\\\\": 2, \\\\\"current status\\\\\": [-0.121, 0.789, 0.13, -0.4, -0.037, 0.087, 0.0, 0.0], \\\\\"score\\\\\": 1.535}\", \"{\\\\\"time\\\\\": 86, \\\\\"action\\\\\": 3, \\\\\"current status\\\\\": [-0.119, 0.771, 0.126, -0.399, -0.032, 0.042, 0.0, 0.0], \\\\\"score\\\\\": -1.737}\", \"{\\\\\"time\\\\\": 88, \\\\\"action\\\\\": 2, \\\\\"current status\\\\\": [-0.116, 0.753, 0.116, -0.385, -0.024, 0.073, 0.0, 0.0], \\\\\"score\\\\\": 4.871}\", \"{\\\\\"time\\\\\": 90, \\\\\"action\\\\\": 2, \\\\\"current status\\\\\": [-0.114, 0.734, 0.12, -0.411, -0.022, 0.022, 0.0, 0.0], \\\\\"score\\\\\": 1.136}\", \"{\\\\\"time\\\\\": 92, \\\\\"action\\\\\": 2, \\\\\"current status\\\\\": [-0.112, 0.717, 0.115, -0.387, -0.02, 0.015, 0.0, 0.0], \\\\\"score\\\\\": 2.905}\", \"{\\\\\"time\\\\\": 94, \\\\\"action\\\\\": 2, \\\\\"current status\\\\\": [-0.109, 0.699, 0.123, -0.389, -0.013, 0.074, 0.0, 0.0], \\\\\"score\\\\\": 2.807}\", \"{\\\\\"time\\\\\": 96, \\\\\"action\\\\\": 2, \\\\\"current status\\\\\": [-0.106, 0.68, 0.143, -0.398, -0.009, 0.049, 0.0, 0.0], \\\\\"score\\\\\": 2.221}\", \"{\\\\\"time\\\\\": 98, \\\\\"action\\\\\": 1, \\\\\"current status\\\\\": [-0.104, 0.663, 0.13, -0.402, -0.002, 0.093, 0.0, 0.0], \\\\\"score\\\\\": -0.796}\", \"{\\\\\"time\\\\\": 100, \\\\\"action\\\\\": 3, \\\\\"current status\\\\\": [-0.101, 0.644, 0.13, -0.419, 0.004, 0.044, 0.0, 0.0], \\\\\"score\\\\\": -2.138}\", \"{\\\\\"time\\\\\": 102, \\\\\"action\\\\\": 2, \\\\\"current status\\\\\": [-0.099, 0.627, 0.132, -0.397, 0.008, 0.046, 0.0, 0.0], \\\\\"score\\\\\": -0.011}\", \"{\\\\\"time\\\\\": 104, \\\\\"action\\\\\": 3, \\\\\"current status\\\\\": [-0.096, 0.61, 0.151, -0.382, 0.011, 0.009, 0.0, 0.0], \\\\\"score\\\\\": -2.135}\", \"{\\\\\"time\\\\\": 106, \\\\\"action\\\\\": 2, \\\\\"current status\\\\\": [-0.093, 0.592, 0.142, -0.412, 0.015, 0.039, 0.0, 0.0], \\\\\"score\\\\\": 0.227}\", \"{\\\\\"time\\\\\": 108, \\\\\"action\\\\\": 2, \\\\\"current status\\\\\": [-0.09, 0.574, 0.134, -0.396, 0.019, 0.033, 0.0, 0.0], \\\\\"score\\\\\": 1.615}\", \"{\\\\\"time\\\\\": 110, \\\\\"action\\\\\": 3, \\\\\"current status\\\\\": [-0.087, 0.556, 0.16, -0.396, 0.022, 0.007, 0.0, 0.0], \\\\\"score\\\\\": -2.055}\", \"{\\\\\"time\\\\\": 112, \\\\\"action\\\\\": 1, \\\\\"current status\\\\\": [-0.084, 0.54, 0.131, -0.383, 0.023, 0.029, 0.0, 0.0], \\\\\"score\\\\\": -1.47}\", \"{\\\\\"time\\\\\": 114, \\\\\"action\\\\\": 2, \\\\\"current status\\\\\": [-0.081, 0.522, 0.125, -0.387, 0.021, -0.024, 0.0, 0.0], \\\\\"score\\\\\": 3.386}\", \"{\\\\\"time\\\\\": 116, \\\\\"action\\\\\": 2, \\\\\"current status\\\\\": [-0.079, 0.503, 0.1, -0.399, 0.022, 0.006, 0.0, 0.0], \\\\\"score\\\\\": 2.368}\", \"{\\\\\"time\\\\\": 118, \\\\\"action\\\\\": 3, \\\\\"current status\\\\\": [-0.077, 0.486, 0.095, -0.397, 0.02, -0.044, 0.0, 0.0], \\\\\"score\\\\\": -1.724}\", \"{\\\\\"time\\\\\": 120, \\\\\"action\\\\\": 1, \\\\\"current status\\\\\": [-0.076, 0.468, 0.083, -0.42, 0.018, 0.002, 0.0, 0.0], \\\\\"score\\\\\": -1.515}\", \"{\\\\\"time\\\\\": 122, \\\\\"action\\\\\": 2, \\\\\"current status\\\\\": [-0.074, 0.449, 0.076, -0.406, 0.018, -0.003, 0.0, 0.0], \\\\\"score\\\\\": 2.342}\", \"{\\\\\"time\\\\\": 124, \\\\\"action\\\\\": 3, \\\\\"current status\\\\\": [-0.072, 0.432, 0.087, -0.403, 0.015, -0.044, 0.0, 0.0], \\\\\"score\\\\\": -1.712}\", \"{\\\\\"time\\\\\": 126, \\\\\"action\\\\\": 1, \\\\\"current status\\\\\": [-0.071, 0.414, 0.081, -0.41, 0.014, 0.006, 0.0, 0.0], \\\\\"score\\\\\": -1.496}\", \"{\\\\\"time\\\\\": 128, \\\\\"action\\\\\": 2, \\\\\"current status\\\\\": [-0.069, 0.397, 0.093, -0.368, 0.015, 0.019, 0.0, 0.0], \\\\\"score\\\\\": 1.308}\", \"{\\\\\"time\\\\\": 130, \\\\\"action\\\\\": 2, \\\\\"current status\\\\\": [-0.067, 0.379, 0.09, -0.394, 0.012, -0.032, 0.0, 0.0], \\\\\"score\\\\\": 1.109}\", \"{\\\\\"time\\\\\": 132, \\\\\"action\\\\\": 1, \\\\\"current status\\\\\": [-0.065, 0.363, 0.09, -0.38, 0.013, 0.024, 0.0, 0.0], \\\\\"score\\\\\": -1.551}\", \"{\\\\\"time\\\\\": 134, \\\\\"action\\\\\": 2, \\\\\"current status\\\\\": [-0.063, 0.348, 0.109, -0.319, 0.017, 0.045, 0.0, 0.0], \\\\\"score\\\\\": 2.223}\", \"{\\\\\"time\\\\\": 136, \\\\\"action\\\\\": 2, \\\\\"current status\\\\\": [-0.061, 0.332, 0.109, -0.343, 0.016, -0.009, 0.0, 0.0], \\\\\"score\\\\\": 1.158}\", \"{\\\\\"time\\\\\": 138, \\\\\"action\\\\\": 2, \\\\\"current status\\\\\": [-0.059, 0.317, 0.113, -0.336, 0.019, 0.036, 0.0, 0.0], \\\\\"score\\\\\": 3.155}\", \"{\\\\\"time\\\\\": 140, \\\\\"action\\\\\": 2, \\\\\"current status\\\\\": [-0.056, 0.302, 0.099, -0.313, 0.022, 0.025, 0.0, 0.0], \\\\\"score\\\\\": 2.929}\", \"{\\\\\"time\\\\\": 142, \\\\\"action\\\\\": 1, \\\\\"current status\\\\\": [-0.055, 0.288, 0.084, -0.316, 0.027, 0.065, 0.0, 0.0], \\\\\"score\\\\\": -1.961}\", \"{\\\\\"time\\\\\": 144, \\\\\"action\\\\\": 2, \\\\\"current status\\\\\": [-0.053, 0.274, 0.101, -0.301, 0.029, 0.026, 0.0, 0.0], \\\\\"score\\\\\": 4.083}\", \"{\\\\\"time\\\\\": 146, \\\\\"action\\\\\": 1, \\\\\"current status\\\\\": [-0.051, 0.261, 0.077, -0.298, 0.033, 0.064, 0.0, 0.0], \\\\\"score\\\\\": -1.886}\", \"{\\\\\"time\\\\\": 148, \\\\\"action\\\\\": 2, \\\\\"current status\\\\\": [-0.049, 0.247, 0.072, -0.314, 0.035, 0.01, 0.0, 0.0], \\\\\"score\\\\\": 1.728}\", \"{\\\\\"time\\\\\": 150, \\\\\"action\\\\\": 3, \\\\\"current status\\\\\": [-0.048, 0.234, 0.068, -0.305, 0.033, -0.04, 0.0, 0.0], \\\\\"score\\\\\": -1.946}\", \"{\\\\\"time\\\\\": 152, \\\\\"action\\\\\": 2, \\\\\"current status\\\\\": [-0.047, 0.219, 0.056, -0.334, 0.033, -0.001, 0.0, 0.0], \\\\\"score\\\\\": 0.25}\", \"{\\\\\"time\\\\\": 154, \\\\\"action\\\\\": 2, \\\\\"current status\\\\\": [-0.046, 0.204, 0.069, -0.32, 0.033, 0.015, 0.0, 0.0], \\\\\"score\\\\\": 1.694}\", \"{\\\\\"time\\\\\": 156, \\\\\"action\\\\\": 2, \\\\\"current status\\\\\": [-0.044, 0.191, 0.06, -0.277, 0.034, 0.01, 0.0, 0.0], \\\\\"score\\\\\": 2.608}\", \"{\\\\\"time\\\\\": 158, \\\\\"action\\\\\": 2, \\\\\"current status\\\\\": [-0.043, 0.18, 0.053, -0.231, 0.035, 0.008, 0.0, 0.0], \\\\\"score\\\\\": 1.943}\", \"{\\\\\"time\\\\\": 160, \\\\\"action\\\\\": 2, \\\\\"current status\\\\\": [-0.043, 0.169, 0.043, -0.244, 0.039, 0.045, 0.0, 0.0], \\\\\"score\\\\\": 1.39}\", \"{\\\\\"time\\\\\": 162, \\\\\"action\\\\\": 2, \\\\\"current status\\\\\": [-0.042, 0.159, 0.042, -0.196, 0.045, 0.049, 0.0, 0.0], \\\\\"score\\\\\": 2.528}\", \"{\\\\\"time\\\\\": 164, \\\\\"action\\\\\": 2, \\\\\"current status\\\\\": [-0.041, 0.15, 0.049, -0.189, 0.046, 0.015, 0.0, 0.0], \\\\\"score\\\\\": 3.382}\", \"{\\\\\"time\\\\\": 166, \\\\\"action\\\\\": 2, \\\\\"current status\\\\\": [-0.04, 0.141, 0.041, -0.178, 0.051, 0.05, 0.0, 0.0], \\\\\"score\\\\\": 3.608}\", \"{\\\\\"time\\\\\": 168, \\\\\"action\\\\\": 2, \\\\\"current status\\\\\": [-0.039, 0.132, 0.035, -0.197, 0.052, 0.007, 0.0, 0.0], \\\\\"score\\\\\": 1.059}\", \"{\\\\\"time\\\\\": 170, \\\\\"action\\\\\": 3, \\\\\"current status\\\\\": [-0.038, 0.124, 0.048, -0.191, 0.051, -0.027, 0.0, 0.0], \\\\\"score\\\\\": -2.23}\", \"{\\\\\"time\\\\\": 172, \\\\\"action\\\\\": 1, \\\\\"current status\\\\\": [-0.037, 0.116, 0.022, -0.203, 0.049, -0.004, 0.0, 0.0], \\\\\"score\\\\\": -2.136}\", \"{\\\\\"time\\\\\": 174, \\\\\"action\\\\\": 2, \\\\\"current status\\\\\": [-0.037, 0.107, 0.031, -0.196, 0.05, 0.008, 0.0, 0.0], \\\\\"score\\\\\": 0.079}\", \"{\\\\\"time\\\\\": 176, \\\\\"action\\\\\": 2, \\\\\"current status\\\\\": [-0.037, 0.098, 0.004, -0.186, 0.049, -0.013, 0.0, 0.0], \\\\\"score\\\\\": 1.305}\", \"{\\\\\"time\\\\\": 178, \\\\\"action\\\\\": 3, \\\\\"current status\\\\\": [-0.037, 0.09, -0.002, -0.185, 0.045, -0.058, 0.0, 0.0], \\\\\"score\\\\\": -1.912}\", \"{\\\\\"time\\\\\": 180, \\\\\"action\\\\\": 2, \\\\\"current status\\\\\": [-0.037, 0.082, -0.018, -0.182, 0.038, -0.07, 0.0, 0.0], \\\\\"score\\\\\": 0.804}\", \"{\\\\\"time\\\\\": 182, \\\\\"action\\\\\": 3, \\\\\"current status\\\\\": [-0.038, 0.075, -0.025, -0.174, 0.029, -0.115, 0.0, 0.0], \\\\\"score\\\\\": -1.534}\", \"{\\\\\"time\\\\\": 184, \\\\\"action\\\\\": 2, \\\\\"current status\\\\\": [-0.039, 0.067, -0.048, -0.166, 0.021, -0.08, 0.0, 0.0], \\\\\"score\\\\\": 3.577}\", \"{\\\\\"time\\\\\": 186, \\\\\"action\\\\\": 1, \\\\\"current status\\\\\": [-0.04, 0.06, -0.044, -0.151, 0.017, -0.022, 0.0, 0.0], \\\\\"score\\\\\": -2.478}\", \"{\\\\\"time\\\\\": 188, \\\\\"action\\\\\": 3, \\\\\"current status\\\\\": [-0.041, 0.054, -0.054, -0.162, 0.011, -0.068, 0.0, 0.0], \\\\\"score\\\\\": -1.615}\", \"{\\\\\"time\\\\\": 190, \\\\\"action\\\\\": 1, \\\\\"current status\\\\\": [-0.042, 0.048, -0.066, -0.149, 0.006, -0.035, 0.0, 0.0], \\\\\"score\\\\\": -2.467}\", \"{\\\\\"time\\\\\": 192, \\\\\"action\\\\\": 2, \\\\\"current status\\\\\": [-0.044, 0.042, -0.071, -0.127, 0.002, -0.039, 0.0, 0.0], \\\\\"score\\\\\": 1.275}\", \"{\\\\\"time\\\\\": 194, \\\\\"action\\\\\": 2, \\\\\"current status\\\\\": [-0.045, 0.035, -0.08, -0.137, 0.003, 0.014, 0.0, 0.0], \\\\\"score\\\\\": 1.373}\", \"{\\\\\"time\\\\\": 196, \\\\\"action\\\\\": 2, \\\\\"current status\\\\\": [-0.047, 0.03, -0.061, -0.111, 0.006, 0.033, 0.0, 0.0], \\\\\"score\\\\\": 1.628}\", \"{\\\\\"time\\\\\": 198, \\\\\"action\\\\\": 1, \\\\\"current status\\\\\": [-0.048, 0.025, -0.06, -0.129, 0.011, 0.074, 0.0, 0.0], \\\\\"score\\\\\": -3.076}\", \"{\\\\\"time\\\\\": 200, \\\\\"action\\\\\": 3, \\\\\"current status\\\\\": [-0.049, 0.019, -0.048, -0.136, 0.017, 0.034, 0.0, 0.0], \\\\\"score\\\\\": -2.158}\", \"{\\\\\"time\\\\\": 202, \\\\\"action\\\\\": 2, \\\\\"current status\\\\\": [-0.05, 0.014, -0.052, -0.108, 0.02, 0.032, 0.0, 0.0], \\\\\"score\\\\\": 0.312}\", \"{\\\\\"time\\\\\": 204, \\\\\"action\\\\\": 0, \\\\\"current status\\\\\": [-0.051, 0.01, -0.052, -0.105, 0.024, 0.033, 0.0, 0.0], \\\\\"score\\\\\": -2.476}\", \"{\\\\\"time\\\\\": 206, \\\\\"action\\\\\": 2, \\\\\"current status\\\\\": [-0.052, 0.005, -0.055, -0.108, 0.031, 0.083, 0.0, 0.0], \\\\\"score\\\\\": 1.723}\", \"{\\\\\"time\\\\\": 208, \\\\\"action\\\\\": 2, \\\\\"current status\\\\\": [-0.053, -0.0, -0.03, -0.068, 0.021, -0.244, 0.0, 1.0], \\\\\"score\\\\\": 17.592}\", \"{\\\\\"time\\\\\": 210, \\\\\"action\\\\\": 2, \\\\\"current status\\\\\": [-0.053, -0.0, -0.03, 0.015, -0.004, -0.052, 1.0, 1.0], \\\\\"score\\\\\": 10.207}\", \"{\\\\\"time\\\\\": 212, \\\\\"action\\\\\": 0, \\\\\"current status\\\\\": [-0.054, -0.0, -0.022, -0.0, -0.004, 0.0, 1.0, 1.0], \\\\\"score\\\\\": 0.539}\", \"{\\\\\"time\\\\\": 214, \\\\\"action\\\\\": 0, \\\\\"current status\\\\\": [-0.054, -0.0, -0.011, 0.0, -0.004, -0.0, 1.0, 1.0], \\\\\"score\\\\\": 0.555}\", \"{\\\\\"time\\\\\": 216, \\\\\"action\\\\\": 0, \\\\\"current status\\\\\": [-0.054, -0.0, 0.0, 0.0, -0.004, -0.0, 1.0, 1.0], \\\\\"score\\\\\": 0.469}\", \"{\\\\\"time\\\\\": 218, \\\\\"action\\\\\": 0, \\\\\"current status\\\\\": [-0.054, -0.0, 0.001, 0.0, -0.004, -0.0, 1.0, 1.0], \\\\\"score\\\\\": 0.068}\", \"{\\\\\"time\\\\\": 220, \\\\\"action\\\\\": 0, \\\\\"current status\\\\\": [-0.054, -0.0, -0.0, -0.0, -0.004, 0.0, 1.0, 1.0], \\\\\"score\\\\\": -0.014}\", \"{\\\\\"time\\\\\": 222, \\\\\"action\\\\\": 0, \\\\\"current status\\\\\": [-0.054, -0.0, -0.0, -0.0, -0.004, 0.0, 1.0, 1.0], \\\\\"score\\\\\": 0.016}\", \"{\\\\\"time\\\\\": 224, \\\\\"action\\\\\": 0, \\\\\"current status\\\\\": [-0.054, -0.0, 0.0, 0.0, -0.004, -0.0, 1.0, 1.0], \\\\\"score\\\\\": -0.001}\", \"{\\\\\"time\\\\\": 226, \\\\\"action\\\\\": 0, \\\\\"current status\\\\\": [-0.054, -0.0, -0.0, -0.0, -0.004, 0.0, 1.0, 1.0], \\\\\"score\\\\\": 0.001}\", \"{\\\\\"time\\\\\": 228, \\\\\"action\\\\\": 0, \\\\\"current status\\\\\": [-0.054, -0.0, -0.0, -0.0, -0.004, 0.0, 1.0, 1.0], \\\\\"score\\\\\": 0.0}\", \"{\\\\\"time\\\\\": 230, \\\\\"action\\\\\": 0, \\\\\"current status\\\\\": [-0.054, -0.0, 0.0, 0.0, -0.004, -0.0, 1.0, 1.0], \\\\\"score\\\\\": -0.0}\", \"{\\\\\"time\\\\\": 232, \\\\\"action\\\\\": 0, \\\\\"current status\\\\\": [-0.054, -0.0, 0.0, 0.0, -0.004, -0.0, 1.0, 1.0], \\\\\"score\\\\\": 0.0}\", \"{\\\\\"time\\\\\": 234, \\\\\"action\\\\\": 0, \\\\\"current status\\\\\": [-0.054, -0.0, -0.0, 0.0, -0.004, 0.0, 1.0, 1.0], \\\\\"score\\\\\": 0.0}\", \"{\\\\\"time\\\\\": 236, \\\\\"action\\\\\": 0, \\\\\"current status\\\\\": [-0.054, -0.0, 0.0, -0.0, -0.004, -0.0, 1.0, 1.0], \\\\\"score\\\\\": 0.0}\", \"{\\\\\"time\\\\\": 238, \\\\\"action\\\\\": 0, \\\\\"current status\\\\\": [-0.054, -0.0, 0.0, -0.0, -0.004, -0.0, 1.0, 1.0], \\\\\"score\\\\\": -0.0}\", \"{\\\\\"time\\\\\": 240, \\\\\"action\\\\\": 0, \\\\\"current status\\\\\": [-0.054, -0.0, 0.0, 0.0, -0.004, 0.0, 1.0, 1.0], \\\\\"score\\\\\": 100}\"], \"total score\": 266.7125926571116}'"
      ]
     },
     "execution_count": 11,
     "metadata": {},
     "output_type": "execute_result"
    }
   ],
   "source": [
    "import DuelingDQN\n",
    "\n",
    "agent = DuelingDQN.Agent(num_observaciones=8, num_acciones=4, red_modelo=DuelingDQN.DuelingQNetwork, seed=0)\n",
    "# Cargamos los pesos del agente entrenado.\n",
    "agent.load_weights('checkpoint_Dueling.pth')\n",
    "\n",
    "seeds = [130, 412]\n",
    "\n",
    "success_logs = lunar_lander(n_games=len(seeds), display=True, seed=seeds, agent=agent)\n",
    "success_logs"
   ]
  },
  {
   "cell_type": "markdown",
   "metadata": {},
   "source": [
    "#### Bucle iterativo\n",
    "\n",
    "Sección principal del código encargada de conectar con el asistente de la API de OpenAI e iterar en la generación de código nuevo a partir de los registros del generado previamente."
   ]
  },
  {
   "cell_type": "code",
   "execution_count": 12,
   "metadata": {},
   "outputs": [],
   "source": [
    "import traceback, importlib\n",
    "import Action\n",
    "\n",
    "Action = importlib.reload(Action)\n",
    "\n",
    "def create_and_run_llm_loop(Incial_msg, logger, model=\"gpt-3.5-turbo\", num_iterations=10):\n",
    "    \n",
    "    agente = AssistantOpenAI(ARCLABKEY_OPENAI)\n",
    "\n",
    "    # Crea un asistente\n",
    "    asistente = agente.create_assistant(model=model, description=DESCRIPTION, instructions=INSTRUCTIONS, name=NAME, tools=TOOLS)\n",
    "    \n",
    "    # Crea un hilo\n",
    "    hilo = agente.create_thread()\n",
    "    \n",
    "    # Añade un mensaje inicial al hilo.\n",
    "    msg = agente.add_message(hilo.id, role=\"user\", content=Incial_msg)\n",
    "\n",
    "    # Bucle de aprendizaje del asistente.\n",
    "    for i in range(num_iterations):\n",
    "        \n",
    "        logger.info(f\"Iteration: {i+1}\")\n",
    "        compiled = False\n",
    "\n",
    "        # Si en la presente iteración no se ha compilado el código, se pide al asistente corregir los errores antes de iterar.\n",
    "        while not compiled:\n",
    "            # Ejecuta el hilo\n",
    "            ejecucion = agente.run(hilo.id, asistente.id)\n",
    "            response = agente.get_run(ejecucion.id, hilo.id)\n",
    "\n",
    "            # Esperamos a que la respuesta esté lista.\n",
    "            while response.status not in [\"completed\", \"failed\", \"requires_action\"]:\n",
    "                logger.info(f\"Status: {ejecucion.status}\")\n",
    "                response = agente.get_run(ejecucion.id, hilo.id)\n",
    "                time.sleep(20)\n",
    "\n",
    "            # Descomponemos los elementos de la respuesta.\n",
    "            logger.info(f\"Status: {response.status}\")\n",
    "            if response.status == \"completed\":\n",
    "                return response\n",
    "            tool_call = response.required_action.submit_tool_outputs.tool_calls\n",
    "            print(f\"Tool call: {tool_call}\")\n",
    "\n",
    "            # Convierte el string a un diccionario\n",
    "            code_dict = json.loads(tool_call[0].function.arguments)\n",
    "            logger.info(f\"Arguments: {code_dict}\")\n",
    "            \n",
    "            # Obtén el código Python de la llamada a la herramienta\n",
    "            code = code_dict[\"code\"]\n",
    "            filename = code_dict[\"filename\"]  \n",
    "\n",
    "            logger.info(f\"\\nCodigo generado:\\n{code}\")\n",
    "\n",
    "            # Ejecuta el código Python\n",
    "            try:\n",
    "                store_code_in_file(code, filename)\n",
    "                time.sleep(1) # Pequeño retraso para que el sistema operativo pueda reflejar los cambios en el archivo\n",
    "                \n",
    "                # Hacemos commit de los cambios en el repositorio para analizar las modificaciones del agente.\n",
    "                commit_changes(r\"C:\\Users\\adria\\Repos\\TFM__LLM_landing_self-refinement\", f\"4o. Iteración {i+1}.\") \n",
    "                \n",
    "                importlib.reload(Action) # Recargamos el módulo de acciones para que se actualice con las modificaciones del agente.\n",
    "\n",
    "                # Ejecutamos el código generado.\n",
    "                logs = lunar_lander(n_games=1, display=True, recoder=True, video_filename=f\"video/iteration_{i+1}.mp4\")\n",
    "                \n",
    "                # Devolvemos la respuesta al asistente.\n",
    "                for call in tool_call:\n",
    "                    agente.devolver_respuesta(response.id, hilo.id, tool_outputs=[{\"tool_call_id\": call.id, \"output\": \"Run successful.\"}])            \n",
    "                compiled = True\n",
    "                logger.info(f\"Compilación exitosa.\")\n",
    "                \n",
    "                # Esperamos a que el agente esté listo para recibir mensajes y le añadimos el resultado de la iteración.\n",
    "                while response.status not in [\"completed\", \"failed\", \"expired\"]:\n",
    "                    logger.info(f\"Status: {response.status}\")\n",
    "                    response = agente.get_run(response.id, hilo.id)\n",
    "                    time.sleep(20)\n",
    "                \n",
    "                msg = f\"\"\"These are the logs generated by your last code: {logs}. Analyze the performance of the spacecraft and how it differs from the desired result. Be guided by the scoring system. Identify the cause of errors in your code and modify it without fear of making major changes. Think deeply about the priorities of your code and how to order and combine them correctly to achieve success.\"\"\"\n",
    "                logger.info(msg)    \n",
    "                agente.add_message(hilo.id, role=\"user\", content=msg)\n",
    "            \n",
    "            # Alimentamos el asistente con el error generado en la ejecución del código.    \n",
    "            except Exception as e:\n",
    "                logger.exception(\"Error: %s\", e)\n",
    "                error_trace = traceback.format_exc()\n",
    "                for call in tool_call:\n",
    "                    agente.devolver_respuesta(response.id, hilo.id, tool_outputs=[{\"tool_call_id\": call.id, \"output\": \"ERROR.\"}]) \n",
    "                logger.error(f\"Error: {e}.\")\n",
    "                while response.status not in [\"completed\", \"failed\", \"expired\"]:\n",
    "                    logger.info(f\"Status: {response.status}\")\n",
    "                    response = agente.get_run(ejecucion.id, hilo.id)\n",
    "                    time.sleep(30)\n",
    "                msg = f\"The code generated has an error. Please, try again. Error: {e}. Trace: {error_trace}\"   \n",
    "                logger.error(msg)   \n",
    "                agente.add_message(hilo.id, role=\"assistant\", content=msg)\n",
    "    \n",
    "    agente.mostrar_mensajes(hilo.id)  \n",
    "    vaciar_agente(agente)\n",
    "    \n",
    "    logger.info(\"\\nEjecución finalizada.\\n\\n\")       \n",
    "\n",
    "    return response\n",
    "\n",
    "\n",
    "def vaciar_agente(agente):\n",
    "    for assistant in agente.assistants:\n",
    "        agente.delete_assistant(assistant)\n",
    "\n",
    "    for thread in agente.threads:\n",
    "        agente.delete_thread(thread)\n",
    "        \n",
    "    print(\"Asistente vaciado.\")\n"
   ]
  },
  {
   "cell_type": "markdown",
   "metadata": {},
   "source": [
    "#### Logger"
   ]
  },
  {
   "cell_type": "code",
   "execution_count": 13,
   "metadata": {},
   "outputs": [],
   "source": [
    "def configura_log(nombre_archivo):\n",
    "    \"\"\" \n",
    "    Configura el logger para que guarde los logs en un archivo y los muestre en la consola.\n",
    "    \n",
    "    Args:\n",
    "        nombre_archivo: str Nombre del archivo donde se guardarán los logs.\n",
    "        \n",
    "    Returns:\n",
    "        logger: logging.Logger Objeto logger configurado.\n",
    "    \"\"\"\n",
    "    # Crear la carpeta logs si no existe\n",
    "    if not os.path.exists('logs'):\n",
    "        os.makedirs('logs')\n",
    "    # Configura el logger\n",
    "    logging.basicConfig(filename=f'logs/{nombre_archivo}', level=logging.INFO, format='%(asctime)s - %(levelname)s - %(message)s')\n",
    "    logger = logging.getLogger()\n",
    "    \n",
    "    # Añade un StreamHandler para mostrar los logs en la consola\n",
    "    console_handler = logging.StreamHandler()\n",
    "    console_handler.setLevel(logging.INFO)\n",
    "    formatter = logging.Formatter('%(asctime)s - %(levelname)s - %(message)s')\n",
    "    console_handler.setFormatter(formatter)\n",
    "    logger.addHandler(console_handler)\n",
    "    \n",
    "    return logger"
   ]
  },
  {
   "cell_type": "markdown",
   "metadata": {},
   "source": [
    "### Ejecución con el asistente\n",
    "\n",
    "Prompt inicial y mensajes del sistema para el asistente."
   ]
  },
  {
   "cell_type": "code",
   "execution_count": 14,
   "metadata": {},
   "outputs": [
    {
     "name": "stderr",
     "output_type": "stream",
     "text": [
      "2024-06-25 12:54:05,317 - INFO - HTTP Request: POST https://api.openai.com/v1/assistants \"HTTP/1.1 200 OK\"\n",
      "2024-06-25 12:54:05,646 - INFO - HTTP Request: POST https://api.openai.com/v1/threads \"HTTP/1.1 200 OK\"\n",
      "2024-06-25 12:54:06,026 - INFO - HTTP Request: POST https://api.openai.com/v1/threads/thread_FjycrwXuowzQlfTMVUsY8mbR/messages \"HTTP/1.1 200 OK\"\n",
      "2024-06-25 12:54:06,291 - INFO - Iteration: 1\n",
      "2024-06-25 12:54:06,868 - INFO - HTTP Request: POST https://api.openai.com/v1/threads/thread_FjycrwXuowzQlfTMVUsY8mbR/runs \"HTTP/1.1 200 OK\"\n",
      "2024-06-25 12:54:07,209 - INFO - HTTP Request: GET https://api.openai.com/v1/threads/thread_FjycrwXuowzQlfTMVUsY8mbR/runs/run_CdSA0VbpnhkVlAkUyMCR3kcT \"HTTP/1.1 200 OK\"\n",
      "2024-06-25 12:54:07,216 - INFO - Status: queued\n",
      "2024-06-25 12:54:07,427 - INFO - HTTP Request: GET https://api.openai.com/v1/threads/thread_FjycrwXuowzQlfTMVUsY8mbR/runs/run_CdSA0VbpnhkVlAkUyMCR3kcT \"HTTP/1.1 200 OK\"\n"
     ]
    },
    {
     "ename": "KeyboardInterrupt",
     "evalue": "",
     "output_type": "error",
     "traceback": [
      "\u001b[1;31m---------------------------------------------------------------------------\u001b[0m",
      "\u001b[1;31mKeyboardInterrupt\u001b[0m                         Traceback (most recent call last)",
      "Cell \u001b[1;32mIn[14], line 20\u001b[0m\n\u001b[0;32m     17\u001b[0m initial_msg \u001b[38;5;241m=\u001b[39m \u001b[38;5;124mf\u001b[39m\u001b[38;5;124m\"\u001b[39m\u001b[38;5;124mThis is the record of an example of a successful landing in this environment, but under other conditions: \u001b[39m\u001b[38;5;132;01m{\u001b[39;00msuccess_logs\u001b[38;5;132;01m}\u001b[39;00m\u001b[38;5;124m. You have to be able to learn from it to land successfully with any other conditions. This is the code of the initial function: \u001b[39m\u001b[38;5;132;01m{\u001b[39;00magent_initial_code\u001b[38;5;132;01m}\u001b[39;00m\u001b[38;5;124m and these are the execution logs of one landing attempt: \u001b[39m\u001b[38;5;132;01m{\u001b[39;00minitial_logs\u001b[38;5;132;01m}\u001b[39;00m\u001b[38;5;124m.Take a deep breath and reason step-by-step. After reasoning analyze the results, learn and make better code.\u001b[39m\u001b[38;5;124m\"\u001b[39m\n\u001b[0;32m     19\u001b[0m logger \u001b[38;5;241m=\u001b[39m configura_log(\u001b[38;5;124m'\u001b[39m\u001b[38;5;124mSpacecraft_4o_betterprompt.log\u001b[39m\u001b[38;5;124m'\u001b[39m)\n\u001b[1;32m---> 20\u001b[0m response \u001b[38;5;241m=\u001b[39m create_and_run_llm_loop(initial_msg, logger, model\u001b[38;5;241m=\u001b[39m\u001b[38;5;124m\"\u001b[39m\u001b[38;5;124mgpt-4o\u001b[39m\u001b[38;5;124m\"\u001b[39m, num_iterations\u001b[38;5;241m=\u001b[39m\u001b[38;5;241m5\u001b[39m)\n\u001b[0;32m     22\u001b[0m \u001b[38;5;28mprint\u001b[39m(response)\n",
      "Cell \u001b[1;32mIn[12], line 35\u001b[0m, in \u001b[0;36mcreate_and_run_llm_loop\u001b[1;34m(Incial_msg, logger, model, num_iterations)\u001b[0m\n\u001b[0;32m     33\u001b[0m     logger\u001b[38;5;241m.\u001b[39minfo(\u001b[38;5;124mf\u001b[39m\u001b[38;5;124m\"\u001b[39m\u001b[38;5;124mStatus: \u001b[39m\u001b[38;5;132;01m{\u001b[39;00mejecucion\u001b[38;5;241m.\u001b[39mstatus\u001b[38;5;132;01m}\u001b[39;00m\u001b[38;5;124m\"\u001b[39m)\n\u001b[0;32m     34\u001b[0m     response \u001b[38;5;241m=\u001b[39m agente\u001b[38;5;241m.\u001b[39mget_run(ejecucion\u001b[38;5;241m.\u001b[39mid, hilo\u001b[38;5;241m.\u001b[39mid)\n\u001b[1;32m---> 35\u001b[0m     time\u001b[38;5;241m.\u001b[39msleep(\u001b[38;5;241m20\u001b[39m)\n\u001b[0;32m     37\u001b[0m \u001b[38;5;66;03m# Descomponemos los elementos de la respuesta.\u001b[39;00m\n\u001b[0;32m     38\u001b[0m logger\u001b[38;5;241m.\u001b[39minfo(\u001b[38;5;124mf\u001b[39m\u001b[38;5;124m\"\u001b[39m\u001b[38;5;124mStatus: \u001b[39m\u001b[38;5;132;01m{\u001b[39;00mresponse\u001b[38;5;241m.\u001b[39mstatus\u001b[38;5;132;01m}\u001b[39;00m\u001b[38;5;124m\"\u001b[39m)\n",
      "\u001b[1;31mKeyboardInterrupt\u001b[0m: "
     ]
    }
   ],
   "source": [
    "DESCRIPTION = \"You are an expert programer in Pyhton. Your specialty is to generate the code responsible for making decisions about actions to be taken in various spacecraft landing environments.The objective is to land the spacecraft within a target zone in the shortest possible time and very gently. A scoring system is used to evaluate the landings, which must be maximized.\"\n",
    "INSTRUCTIONS = f\"\"\"Your task is:\n",
    "1. Analyze and reason about the logs received in the last landing attempts.\n",
    "2. Your goal is to be able to make the correct decision based on what you have learned from the results of previous iterations. You must code the decision making based on your reasoning in a Python function.\n",
    "3. IMPORTANT. Use the following tips in your reasoning to achieve a successful landing:\n",
    "    - First you have to stabilize the falling ship (angle and location), keep falling under control and then land gently at the end.\n",
    "    - It is mandatory to use all the elements of the array of observations received by parameter in your code when deciding what action to take at any given moment. Both position and velocities must be taken into account to know how the ship is doing and towards which states it is heading. All of these must be considered to achieve stability.\n",
    "    - Learn how actions taken affect the future states of the spacecraft in the logs of past events so that you can take this into account when developing code to reach the landing zone.\n",
    "    - The landing zone is in the central area of the x-axis.\n",
    "    - Carefully choose the actions involving the lateral engines according to the rotation of the spacecraft.\n",
    "4. You should analyze the performance that appear in the logs of the code you have generated. You should improve the code generated in the 'act' function in the last iteration without fear of making major changes, seeking to maximize the score received and generate a higher quality code.\n",
    "5. Save the code of the act function in the file 'Action.py' using store_code_in_file function.\n",
    "\"\"\"\n",
    "# 6. Improve your results and correct also any programming error you may have generated in your last code if they exist.\n",
    "NAME = \"Spacecraft Landing Master\"\n",
    "\n",
    "initial_msg = f\"This is the record of an example of a successful landing in this environment, but under other conditions: {success_logs}. You have to be able to learn from it to land successfully with any other conditions. This is the code of the initial function: {agent_initial_code} and these are the execution logs of one landing attempt: {initial_logs}.Take a deep breath and reason step-by-step. After reasoning analyze the results, learn and make better code.\"\n",
    "\n",
    "logger = configura_log('Spacecraft_4o_betterprompt.log')\n",
    "response = create_and_run_llm_loop(initial_msg, logger, model=\"gpt-4o\", num_iterations=5)\n",
    "\n",
    "print(response)"
   ]
  },
  {
   "cell_type": "markdown",
   "metadata": {},
   "source": [
    "#### Prueba de cambio grande en el prompt."
   ]
  },
  {
   "cell_type": "code",
   "execution_count": 15,
   "metadata": {},
   "outputs": [
    {
     "name": "stderr",
     "output_type": "stream",
     "text": [
      "2024-06-25 12:54:41,295 - INFO - HTTP Request: POST https://api.openai.com/v1/assistants \"HTTP/1.1 200 OK\"\n",
      "2024-06-25 12:54:41,295 - INFO - HTTP Request: POST https://api.openai.com/v1/assistants \"HTTP/1.1 200 OK\"\n",
      "2024-06-25 12:54:41,506 - INFO - HTTP Request: POST https://api.openai.com/v1/threads \"HTTP/1.1 200 OK\"\n",
      "2024-06-25 12:54:41,506 - INFO - HTTP Request: POST https://api.openai.com/v1/threads \"HTTP/1.1 200 OK\"\n",
      "2024-06-25 12:54:41,826 - INFO - HTTP Request: POST https://api.openai.com/v1/threads/thread_gv7RGZijLZhFV6knKWfvAa6G/messages \"HTTP/1.1 200 OK\"\n",
      "2024-06-25 12:54:41,826 - INFO - HTTP Request: POST https://api.openai.com/v1/threads/thread_gv7RGZijLZhFV6knKWfvAa6G/messages \"HTTP/1.1 200 OK\"\n",
      "2024-06-25 12:54:42,076 - INFO - Iteration: 1\n",
      "2024-06-25 12:54:42,076 - INFO - Iteration: 1\n",
      "2024-06-25 12:54:42,516 - INFO - HTTP Request: POST https://api.openai.com/v1/threads/thread_gv7RGZijLZhFV6knKWfvAa6G/runs \"HTTP/1.1 200 OK\"\n",
      "2024-06-25 12:54:42,516 - INFO - HTTP Request: POST https://api.openai.com/v1/threads/thread_gv7RGZijLZhFV6knKWfvAa6G/runs \"HTTP/1.1 200 OK\"\n"
     ]
    },
    {
     "ename": "KeyboardInterrupt",
     "evalue": "",
     "output_type": "error",
     "traceback": [
      "\u001b[1;31m---------------------------------------------------------------------------\u001b[0m",
      "\u001b[1;31mKeyboardInterrupt\u001b[0m                         Traceback (most recent call last)",
      "Cell \u001b[1;32mIn[15], line 26\u001b[0m\n\u001b[0;32m     23\u001b[0m initial_msg \u001b[38;5;241m=\u001b[39m \u001b[38;5;124mf\u001b[39m\u001b[38;5;124m\"\u001b[39m\u001b[38;5;124mThis is the record of an example of a successful landing in this environment, but under other conditions: \u001b[39m\u001b[38;5;132;01m{\u001b[39;00msuccess_logs\u001b[38;5;132;01m}\u001b[39;00m\u001b[38;5;124m. You have to be able to learn from it to land successfully with any other conditions. This is the code of the initial function: \u001b[39m\u001b[38;5;132;01m{\u001b[39;00magent_initial_code\u001b[38;5;132;01m}\u001b[39;00m\u001b[38;5;124m and these are the execution logs of one landing attempt: \u001b[39m\u001b[38;5;132;01m{\u001b[39;00minitial_logs\u001b[38;5;132;01m}\u001b[39;00m\u001b[38;5;124m.Take a deep breath and reason step-by-step. After reasoning analyze the results, learn and make better code.\u001b[39m\u001b[38;5;124m\"\u001b[39m\n\u001b[0;32m     25\u001b[0m logger \u001b[38;5;241m=\u001b[39m configura_log(\u001b[38;5;124m'\u001b[39m\u001b[38;5;124mSpacecraft_4o_SecondPrompt.log\u001b[39m\u001b[38;5;124m'\u001b[39m)\n\u001b[1;32m---> 26\u001b[0m response \u001b[38;5;241m=\u001b[39m create_and_run_llm_loop(initial_msg, logger, model\u001b[38;5;241m=\u001b[39m\u001b[38;5;124m\"\u001b[39m\u001b[38;5;124mgpt-4o\u001b[39m\u001b[38;5;124m\"\u001b[39m, num_iterations\u001b[38;5;241m=\u001b[39m\u001b[38;5;241m5\u001b[39m)\n\u001b[0;32m     28\u001b[0m \u001b[38;5;28mprint\u001b[39m(response)\n",
      "Cell \u001b[1;32mIn[12], line 29\u001b[0m, in \u001b[0;36mcreate_and_run_llm_loop\u001b[1;34m(Incial_msg, logger, model, num_iterations)\u001b[0m\n\u001b[0;32m     26\u001b[0m \u001b[38;5;28;01mwhile\u001b[39;00m \u001b[38;5;129;01mnot\u001b[39;00m compiled:\n\u001b[0;32m     27\u001b[0m     \u001b[38;5;66;03m# Ejecuta el hilo\u001b[39;00m\n\u001b[0;32m     28\u001b[0m     ejecucion \u001b[38;5;241m=\u001b[39m agente\u001b[38;5;241m.\u001b[39mrun(hilo\u001b[38;5;241m.\u001b[39mid, asistente\u001b[38;5;241m.\u001b[39mid)\n\u001b[1;32m---> 29\u001b[0m     response \u001b[38;5;241m=\u001b[39m agente\u001b[38;5;241m.\u001b[39mget_run(ejecucion\u001b[38;5;241m.\u001b[39mid, hilo\u001b[38;5;241m.\u001b[39mid)\n\u001b[0;32m     31\u001b[0m     \u001b[38;5;66;03m# Esperamos a que la respuesta esté lista.\u001b[39;00m\n\u001b[0;32m     32\u001b[0m     \u001b[38;5;28;01mwhile\u001b[39;00m response\u001b[38;5;241m.\u001b[39mstatus \u001b[38;5;129;01mnot\u001b[39;00m \u001b[38;5;129;01min\u001b[39;00m [\u001b[38;5;124m\"\u001b[39m\u001b[38;5;124mcompleted\u001b[39m\u001b[38;5;124m\"\u001b[39m, \u001b[38;5;124m\"\u001b[39m\u001b[38;5;124mfailed\u001b[39m\u001b[38;5;124m\"\u001b[39m, \u001b[38;5;124m\"\u001b[39m\u001b[38;5;124mrequires_action\u001b[39m\u001b[38;5;124m\"\u001b[39m]:\n",
      "File \u001b[1;32mc:\\Users\\adria\\Repos\\TFM__LLM_landing_self-refinement\\Assistant.py:156\u001b[0m, in \u001b[0;36mAssistantOpenAI.get_run\u001b[1;34m(self, run_id, thread_id, **kwargs)\u001b[0m\n\u001b[0;32m    145\u001b[0m \u001b[38;5;28;01mdef\u001b[39;00m \u001b[38;5;21mget_run\u001b[39m(\u001b[38;5;28mself\u001b[39m, run_id, thread_id, \u001b[38;5;241m*\u001b[39m\u001b[38;5;241m*\u001b[39mkwargs):\n\u001b[0;32m    146\u001b[0m \u001b[38;5;250m    \u001b[39m\u001b[38;5;124;03m\"\"\" Obtiene la información de una ejecución.\u001b[39;00m\n\u001b[0;32m    147\u001b[0m \u001b[38;5;124;03m    \u001b[39;00m\n\u001b[0;32m    148\u001b[0m \u001b[38;5;124;03m    Args:\u001b[39;00m\n\u001b[1;32m   (...)\u001b[0m\n\u001b[0;32m    154\u001b[0m \u001b[38;5;124;03m        dict: Información de la ejecución.\u001b[39;00m\n\u001b[0;32m    155\u001b[0m \u001b[38;5;124;03m    \"\"\"\u001b[39;00m\n\u001b[1;32m--> 156\u001b[0m     response \u001b[38;5;241m=\u001b[39m \u001b[38;5;28mself\u001b[39m\u001b[38;5;241m.\u001b[39mclient\u001b[38;5;241m.\u001b[39mbeta\u001b[38;5;241m.\u001b[39mthreads\u001b[38;5;241m.\u001b[39mruns\u001b[38;5;241m.\u001b[39mretrieve(run_id, thread_id\u001b[38;5;241m=\u001b[39mthread_id, \u001b[38;5;241m*\u001b[39m\u001b[38;5;241m*\u001b[39mkwargs)\n\u001b[0;32m    157\u001b[0m     \u001b[38;5;28;01mreturn\u001b[39;00m response\n",
      "File \u001b[1;32mc:\\Users\\adria\\anaconda3\\Lib\\site-packages\\openai\\resources\\beta\\threads\\runs\\runs.py:629\u001b[0m, in \u001b[0;36mRuns.retrieve\u001b[1;34m(self, run_id, thread_id, extra_headers, extra_query, extra_body, timeout)\u001b[0m\n\u001b[0;32m    627\u001b[0m     \u001b[38;5;28;01mraise\u001b[39;00m \u001b[38;5;167;01mValueError\u001b[39;00m(\u001b[38;5;124mf\u001b[39m\u001b[38;5;124m\"\u001b[39m\u001b[38;5;124mExpected a non-empty value for `run_id` but received \u001b[39m\u001b[38;5;132;01m{\u001b[39;00mrun_id\u001b[38;5;132;01m!r}\u001b[39;00m\u001b[38;5;124m\"\u001b[39m)\n\u001b[0;32m    628\u001b[0m extra_headers \u001b[38;5;241m=\u001b[39m {\u001b[38;5;124m\"\u001b[39m\u001b[38;5;124mOpenAI-Beta\u001b[39m\u001b[38;5;124m\"\u001b[39m: \u001b[38;5;124m\"\u001b[39m\u001b[38;5;124massistants=v2\u001b[39m\u001b[38;5;124m\"\u001b[39m, \u001b[38;5;241m*\u001b[39m\u001b[38;5;241m*\u001b[39m(extra_headers \u001b[38;5;129;01mor\u001b[39;00m {})}\n\u001b[1;32m--> 629\u001b[0m \u001b[38;5;28;01mreturn\u001b[39;00m \u001b[38;5;28mself\u001b[39m\u001b[38;5;241m.\u001b[39m_get(\n\u001b[0;32m    630\u001b[0m     \u001b[38;5;124mf\u001b[39m\u001b[38;5;124m\"\u001b[39m\u001b[38;5;124m/threads/\u001b[39m\u001b[38;5;132;01m{\u001b[39;00mthread_id\u001b[38;5;132;01m}\u001b[39;00m\u001b[38;5;124m/runs/\u001b[39m\u001b[38;5;132;01m{\u001b[39;00mrun_id\u001b[38;5;132;01m}\u001b[39;00m\u001b[38;5;124m\"\u001b[39m,\n\u001b[0;32m    631\u001b[0m     options\u001b[38;5;241m=\u001b[39mmake_request_options(\n\u001b[0;32m    632\u001b[0m         extra_headers\u001b[38;5;241m=\u001b[39mextra_headers, extra_query\u001b[38;5;241m=\u001b[39mextra_query, extra_body\u001b[38;5;241m=\u001b[39mextra_body, timeout\u001b[38;5;241m=\u001b[39mtimeout\n\u001b[0;32m    633\u001b[0m     ),\n\u001b[0;32m    634\u001b[0m     cast_to\u001b[38;5;241m=\u001b[39mRun,\n\u001b[0;32m    635\u001b[0m )\n",
      "File \u001b[1;32mc:\\Users\\adria\\anaconda3\\Lib\\site-packages\\openai\\_base_client.py:1183\u001b[0m, in \u001b[0;36mSyncAPIClient.get\u001b[1;34m(self, path, cast_to, options, stream, stream_cls)\u001b[0m\n\u001b[0;32m   1180\u001b[0m opts \u001b[38;5;241m=\u001b[39m FinalRequestOptions\u001b[38;5;241m.\u001b[39mconstruct(method\u001b[38;5;241m=\u001b[39m\u001b[38;5;124m\"\u001b[39m\u001b[38;5;124mget\u001b[39m\u001b[38;5;124m\"\u001b[39m, url\u001b[38;5;241m=\u001b[39mpath, \u001b[38;5;241m*\u001b[39m\u001b[38;5;241m*\u001b[39moptions)\n\u001b[0;32m   1181\u001b[0m \u001b[38;5;66;03m# cast is required because mypy complains about returning Any even though\u001b[39;00m\n\u001b[0;32m   1182\u001b[0m \u001b[38;5;66;03m# it understands the type variables\u001b[39;00m\n\u001b[1;32m-> 1183\u001b[0m \u001b[38;5;28;01mreturn\u001b[39;00m cast(ResponseT, \u001b[38;5;28mself\u001b[39m\u001b[38;5;241m.\u001b[39mrequest(cast_to, opts, stream\u001b[38;5;241m=\u001b[39mstream, stream_cls\u001b[38;5;241m=\u001b[39mstream_cls))\n",
      "File \u001b[1;32mc:\\Users\\adria\\anaconda3\\Lib\\site-packages\\openai\\_base_client.py:921\u001b[0m, in \u001b[0;36mSyncAPIClient.request\u001b[1;34m(self, cast_to, options, remaining_retries, stream, stream_cls)\u001b[0m\n\u001b[0;32m    912\u001b[0m \u001b[38;5;28;01mdef\u001b[39;00m \u001b[38;5;21mrequest\u001b[39m(\n\u001b[0;32m    913\u001b[0m     \u001b[38;5;28mself\u001b[39m,\n\u001b[0;32m    914\u001b[0m     cast_to: Type[ResponseT],\n\u001b[1;32m   (...)\u001b[0m\n\u001b[0;32m    919\u001b[0m     stream_cls: \u001b[38;5;28mtype\u001b[39m[_StreamT] \u001b[38;5;241m|\u001b[39m \u001b[38;5;28;01mNone\u001b[39;00m \u001b[38;5;241m=\u001b[39m \u001b[38;5;28;01mNone\u001b[39;00m,\n\u001b[0;32m    920\u001b[0m ) \u001b[38;5;241m-\u001b[39m\u001b[38;5;241m>\u001b[39m ResponseT \u001b[38;5;241m|\u001b[39m _StreamT:\n\u001b[1;32m--> 921\u001b[0m     \u001b[38;5;28;01mreturn\u001b[39;00m \u001b[38;5;28mself\u001b[39m\u001b[38;5;241m.\u001b[39m_request(\n\u001b[0;32m    922\u001b[0m         cast_to\u001b[38;5;241m=\u001b[39mcast_to,\n\u001b[0;32m    923\u001b[0m         options\u001b[38;5;241m=\u001b[39moptions,\n\u001b[0;32m    924\u001b[0m         stream\u001b[38;5;241m=\u001b[39mstream,\n\u001b[0;32m    925\u001b[0m         stream_cls\u001b[38;5;241m=\u001b[39mstream_cls,\n\u001b[0;32m    926\u001b[0m         remaining_retries\u001b[38;5;241m=\u001b[39mremaining_retries,\n\u001b[0;32m    927\u001b[0m     )\n",
      "File \u001b[1;32mc:\\Users\\adria\\anaconda3\\Lib\\site-packages\\openai\\_base_client.py:952\u001b[0m, in \u001b[0;36mSyncAPIClient._request\u001b[1;34m(self, cast_to, options, remaining_retries, stream, stream_cls)\u001b[0m\n\u001b[0;32m    949\u001b[0m log\u001b[38;5;241m.\u001b[39mdebug(\u001b[38;5;124m\"\u001b[39m\u001b[38;5;124mSending HTTP Request: \u001b[39m\u001b[38;5;132;01m%s\u001b[39;00m\u001b[38;5;124m \u001b[39m\u001b[38;5;132;01m%s\u001b[39;00m\u001b[38;5;124m\"\u001b[39m, request\u001b[38;5;241m.\u001b[39mmethod, request\u001b[38;5;241m.\u001b[39murl)\n\u001b[0;32m    951\u001b[0m \u001b[38;5;28;01mtry\u001b[39;00m:\n\u001b[1;32m--> 952\u001b[0m     response \u001b[38;5;241m=\u001b[39m \u001b[38;5;28mself\u001b[39m\u001b[38;5;241m.\u001b[39m_client\u001b[38;5;241m.\u001b[39msend(\n\u001b[0;32m    953\u001b[0m         request,\n\u001b[0;32m    954\u001b[0m         stream\u001b[38;5;241m=\u001b[39mstream \u001b[38;5;129;01mor\u001b[39;00m \u001b[38;5;28mself\u001b[39m\u001b[38;5;241m.\u001b[39m_should_stream_response_body(request\u001b[38;5;241m=\u001b[39mrequest),\n\u001b[0;32m    955\u001b[0m         \u001b[38;5;241m*\u001b[39m\u001b[38;5;241m*\u001b[39mkwargs,\n\u001b[0;32m    956\u001b[0m     )\n\u001b[0;32m    957\u001b[0m \u001b[38;5;28;01mexcept\u001b[39;00m httpx\u001b[38;5;241m.\u001b[39mTimeoutException \u001b[38;5;28;01mas\u001b[39;00m err:\n\u001b[0;32m    958\u001b[0m     log\u001b[38;5;241m.\u001b[39mdebug(\u001b[38;5;124m\"\u001b[39m\u001b[38;5;124mEncountered httpx.TimeoutException\u001b[39m\u001b[38;5;124m\"\u001b[39m, exc_info\u001b[38;5;241m=\u001b[39m\u001b[38;5;28;01mTrue\u001b[39;00m)\n",
      "File \u001b[1;32mc:\\Users\\adria\\anaconda3\\Lib\\site-packages\\httpx\\_client.py:914\u001b[0m, in \u001b[0;36mClient.send\u001b[1;34m(self, request, stream, auth, follow_redirects)\u001b[0m\n\u001b[0;32m    906\u001b[0m follow_redirects \u001b[38;5;241m=\u001b[39m (\n\u001b[0;32m    907\u001b[0m     \u001b[38;5;28mself\u001b[39m\u001b[38;5;241m.\u001b[39mfollow_redirects\n\u001b[0;32m    908\u001b[0m     \u001b[38;5;28;01mif\u001b[39;00m \u001b[38;5;28misinstance\u001b[39m(follow_redirects, UseClientDefault)\n\u001b[0;32m    909\u001b[0m     \u001b[38;5;28;01melse\u001b[39;00m follow_redirects\n\u001b[0;32m    910\u001b[0m )\n\u001b[0;32m    912\u001b[0m auth \u001b[38;5;241m=\u001b[39m \u001b[38;5;28mself\u001b[39m\u001b[38;5;241m.\u001b[39m_build_request_auth(request, auth)\n\u001b[1;32m--> 914\u001b[0m response \u001b[38;5;241m=\u001b[39m \u001b[38;5;28mself\u001b[39m\u001b[38;5;241m.\u001b[39m_send_handling_auth(\n\u001b[0;32m    915\u001b[0m     request,\n\u001b[0;32m    916\u001b[0m     auth\u001b[38;5;241m=\u001b[39mauth,\n\u001b[0;32m    917\u001b[0m     follow_redirects\u001b[38;5;241m=\u001b[39mfollow_redirects,\n\u001b[0;32m    918\u001b[0m     history\u001b[38;5;241m=\u001b[39m[],\n\u001b[0;32m    919\u001b[0m )\n\u001b[0;32m    920\u001b[0m \u001b[38;5;28;01mtry\u001b[39;00m:\n\u001b[0;32m    921\u001b[0m     \u001b[38;5;28;01mif\u001b[39;00m \u001b[38;5;129;01mnot\u001b[39;00m stream:\n",
      "File \u001b[1;32mc:\\Users\\adria\\anaconda3\\Lib\\site-packages\\httpx\\_client.py:942\u001b[0m, in \u001b[0;36mClient._send_handling_auth\u001b[1;34m(self, request, auth, follow_redirects, history)\u001b[0m\n\u001b[0;32m    939\u001b[0m request \u001b[38;5;241m=\u001b[39m \u001b[38;5;28mnext\u001b[39m(auth_flow)\n\u001b[0;32m    941\u001b[0m \u001b[38;5;28;01mwhile\u001b[39;00m \u001b[38;5;28;01mTrue\u001b[39;00m:\n\u001b[1;32m--> 942\u001b[0m     response \u001b[38;5;241m=\u001b[39m \u001b[38;5;28mself\u001b[39m\u001b[38;5;241m.\u001b[39m_send_handling_redirects(\n\u001b[0;32m    943\u001b[0m         request,\n\u001b[0;32m    944\u001b[0m         follow_redirects\u001b[38;5;241m=\u001b[39mfollow_redirects,\n\u001b[0;32m    945\u001b[0m         history\u001b[38;5;241m=\u001b[39mhistory,\n\u001b[0;32m    946\u001b[0m     )\n\u001b[0;32m    947\u001b[0m     \u001b[38;5;28;01mtry\u001b[39;00m:\n\u001b[0;32m    948\u001b[0m         \u001b[38;5;28;01mtry\u001b[39;00m:\n",
      "File \u001b[1;32mc:\\Users\\adria\\anaconda3\\Lib\\site-packages\\httpx\\_client.py:979\u001b[0m, in \u001b[0;36mClient._send_handling_redirects\u001b[1;34m(self, request, follow_redirects, history)\u001b[0m\n\u001b[0;32m    976\u001b[0m \u001b[38;5;28;01mfor\u001b[39;00m hook \u001b[38;5;129;01min\u001b[39;00m \u001b[38;5;28mself\u001b[39m\u001b[38;5;241m.\u001b[39m_event_hooks[\u001b[38;5;124m\"\u001b[39m\u001b[38;5;124mrequest\u001b[39m\u001b[38;5;124m\"\u001b[39m]:\n\u001b[0;32m    977\u001b[0m     hook(request)\n\u001b[1;32m--> 979\u001b[0m response \u001b[38;5;241m=\u001b[39m \u001b[38;5;28mself\u001b[39m\u001b[38;5;241m.\u001b[39m_send_single_request(request)\n\u001b[0;32m    980\u001b[0m \u001b[38;5;28;01mtry\u001b[39;00m:\n\u001b[0;32m    981\u001b[0m     \u001b[38;5;28;01mfor\u001b[39;00m hook \u001b[38;5;129;01min\u001b[39;00m \u001b[38;5;28mself\u001b[39m\u001b[38;5;241m.\u001b[39m_event_hooks[\u001b[38;5;124m\"\u001b[39m\u001b[38;5;124mresponse\u001b[39m\u001b[38;5;124m\"\u001b[39m]:\n",
      "File \u001b[1;32mc:\\Users\\adria\\anaconda3\\Lib\\site-packages\\httpx\\_client.py:1015\u001b[0m, in \u001b[0;36mClient._send_single_request\u001b[1;34m(self, request)\u001b[0m\n\u001b[0;32m   1010\u001b[0m     \u001b[38;5;28;01mraise\u001b[39;00m \u001b[38;5;167;01mRuntimeError\u001b[39;00m(\n\u001b[0;32m   1011\u001b[0m         \u001b[38;5;124m\"\u001b[39m\u001b[38;5;124mAttempted to send an async request with a sync Client instance.\u001b[39m\u001b[38;5;124m\"\u001b[39m\n\u001b[0;32m   1012\u001b[0m     )\n\u001b[0;32m   1014\u001b[0m \u001b[38;5;28;01mwith\u001b[39;00m request_context(request\u001b[38;5;241m=\u001b[39mrequest):\n\u001b[1;32m-> 1015\u001b[0m     response \u001b[38;5;241m=\u001b[39m transport\u001b[38;5;241m.\u001b[39mhandle_request(request)\n\u001b[0;32m   1017\u001b[0m \u001b[38;5;28;01massert\u001b[39;00m \u001b[38;5;28misinstance\u001b[39m(response\u001b[38;5;241m.\u001b[39mstream, SyncByteStream)\n\u001b[0;32m   1019\u001b[0m response\u001b[38;5;241m.\u001b[39mrequest \u001b[38;5;241m=\u001b[39m request\n",
      "File \u001b[1;32mc:\\Users\\adria\\anaconda3\\Lib\\site-packages\\httpx\\_transports\\default.py:233\u001b[0m, in \u001b[0;36mHTTPTransport.handle_request\u001b[1;34m(self, request)\u001b[0m\n\u001b[0;32m    220\u001b[0m req \u001b[38;5;241m=\u001b[39m httpcore\u001b[38;5;241m.\u001b[39mRequest(\n\u001b[0;32m    221\u001b[0m     method\u001b[38;5;241m=\u001b[39mrequest\u001b[38;5;241m.\u001b[39mmethod,\n\u001b[0;32m    222\u001b[0m     url\u001b[38;5;241m=\u001b[39mhttpcore\u001b[38;5;241m.\u001b[39mURL(\n\u001b[1;32m   (...)\u001b[0m\n\u001b[0;32m    230\u001b[0m     extensions\u001b[38;5;241m=\u001b[39mrequest\u001b[38;5;241m.\u001b[39mextensions,\n\u001b[0;32m    231\u001b[0m )\n\u001b[0;32m    232\u001b[0m \u001b[38;5;28;01mwith\u001b[39;00m map_httpcore_exceptions():\n\u001b[1;32m--> 233\u001b[0m     resp \u001b[38;5;241m=\u001b[39m \u001b[38;5;28mself\u001b[39m\u001b[38;5;241m.\u001b[39m_pool\u001b[38;5;241m.\u001b[39mhandle_request(req)\n\u001b[0;32m    235\u001b[0m \u001b[38;5;28;01massert\u001b[39;00m \u001b[38;5;28misinstance\u001b[39m(resp\u001b[38;5;241m.\u001b[39mstream, typing\u001b[38;5;241m.\u001b[39mIterable)\n\u001b[0;32m    237\u001b[0m \u001b[38;5;28;01mreturn\u001b[39;00m Response(\n\u001b[0;32m    238\u001b[0m     status_code\u001b[38;5;241m=\u001b[39mresp\u001b[38;5;241m.\u001b[39mstatus,\n\u001b[0;32m    239\u001b[0m     headers\u001b[38;5;241m=\u001b[39mresp\u001b[38;5;241m.\u001b[39mheaders,\n\u001b[0;32m    240\u001b[0m     stream\u001b[38;5;241m=\u001b[39mResponseStream(resp\u001b[38;5;241m.\u001b[39mstream),\n\u001b[0;32m    241\u001b[0m     extensions\u001b[38;5;241m=\u001b[39mresp\u001b[38;5;241m.\u001b[39mextensions,\n\u001b[0;32m    242\u001b[0m )\n",
      "File \u001b[1;32mc:\\Users\\adria\\anaconda3\\Lib\\site-packages\\httpcore\\_sync\\connection_pool.py:216\u001b[0m, in \u001b[0;36mConnectionPool.handle_request\u001b[1;34m(self, request)\u001b[0m\n\u001b[0;32m    213\u001b[0m         closing \u001b[38;5;241m=\u001b[39m \u001b[38;5;28mself\u001b[39m\u001b[38;5;241m.\u001b[39m_assign_requests_to_connections()\n\u001b[0;32m    215\u001b[0m     \u001b[38;5;28mself\u001b[39m\u001b[38;5;241m.\u001b[39m_close_connections(closing)\n\u001b[1;32m--> 216\u001b[0m     \u001b[38;5;28;01mraise\u001b[39;00m exc \u001b[38;5;28;01mfrom\u001b[39;00m \u001b[38;5;28;01mNone\u001b[39;00m\n\u001b[0;32m    218\u001b[0m \u001b[38;5;66;03m# Return the response. Note that in this case we still have to manage\u001b[39;00m\n\u001b[0;32m    219\u001b[0m \u001b[38;5;66;03m# the point at which the response is closed.\u001b[39;00m\n\u001b[0;32m    220\u001b[0m \u001b[38;5;28;01massert\u001b[39;00m \u001b[38;5;28misinstance\u001b[39m(response\u001b[38;5;241m.\u001b[39mstream, Iterable)\n",
      "File \u001b[1;32mc:\\Users\\adria\\anaconda3\\Lib\\site-packages\\httpcore\\_sync\\connection_pool.py:196\u001b[0m, in \u001b[0;36mConnectionPool.handle_request\u001b[1;34m(self, request)\u001b[0m\n\u001b[0;32m    192\u001b[0m connection \u001b[38;5;241m=\u001b[39m pool_request\u001b[38;5;241m.\u001b[39mwait_for_connection(timeout\u001b[38;5;241m=\u001b[39mtimeout)\n\u001b[0;32m    194\u001b[0m \u001b[38;5;28;01mtry\u001b[39;00m:\n\u001b[0;32m    195\u001b[0m     \u001b[38;5;66;03m# Send the request on the assigned connection.\u001b[39;00m\n\u001b[1;32m--> 196\u001b[0m     response \u001b[38;5;241m=\u001b[39m connection\u001b[38;5;241m.\u001b[39mhandle_request(\n\u001b[0;32m    197\u001b[0m         pool_request\u001b[38;5;241m.\u001b[39mrequest\n\u001b[0;32m    198\u001b[0m     )\n\u001b[0;32m    199\u001b[0m \u001b[38;5;28;01mexcept\u001b[39;00m ConnectionNotAvailable:\n\u001b[0;32m    200\u001b[0m     \u001b[38;5;66;03m# In some cases a connection may initially be available to\u001b[39;00m\n\u001b[0;32m    201\u001b[0m     \u001b[38;5;66;03m# handle a request, but then become unavailable.\u001b[39;00m\n\u001b[0;32m    202\u001b[0m     \u001b[38;5;66;03m#\u001b[39;00m\n\u001b[0;32m    203\u001b[0m     \u001b[38;5;66;03m# In this case we clear the connection and try again.\u001b[39;00m\n\u001b[0;32m    204\u001b[0m     pool_request\u001b[38;5;241m.\u001b[39mclear_connection()\n",
      "File \u001b[1;32mc:\\Users\\adria\\anaconda3\\Lib\\site-packages\\httpcore\\_sync\\connection.py:101\u001b[0m, in \u001b[0;36mHTTPConnection.handle_request\u001b[1;34m(self, request)\u001b[0m\n\u001b[0;32m     98\u001b[0m     \u001b[38;5;28mself\u001b[39m\u001b[38;5;241m.\u001b[39m_connect_failed \u001b[38;5;241m=\u001b[39m \u001b[38;5;28;01mTrue\u001b[39;00m\n\u001b[0;32m     99\u001b[0m     \u001b[38;5;28;01mraise\u001b[39;00m exc\n\u001b[1;32m--> 101\u001b[0m \u001b[38;5;28;01mreturn\u001b[39;00m \u001b[38;5;28mself\u001b[39m\u001b[38;5;241m.\u001b[39m_connection\u001b[38;5;241m.\u001b[39mhandle_request(request)\n",
      "File \u001b[1;32mc:\\Users\\adria\\anaconda3\\Lib\\site-packages\\httpcore\\_sync\\http11.py:143\u001b[0m, in \u001b[0;36mHTTP11Connection.handle_request\u001b[1;34m(self, request)\u001b[0m\n\u001b[0;32m    141\u001b[0m     \u001b[38;5;28;01mwith\u001b[39;00m Trace(\u001b[38;5;124m\"\u001b[39m\u001b[38;5;124mresponse_closed\u001b[39m\u001b[38;5;124m\"\u001b[39m, logger, request) \u001b[38;5;28;01mas\u001b[39;00m trace:\n\u001b[0;32m    142\u001b[0m         \u001b[38;5;28mself\u001b[39m\u001b[38;5;241m.\u001b[39m_response_closed()\n\u001b[1;32m--> 143\u001b[0m \u001b[38;5;28;01mraise\u001b[39;00m exc\n",
      "File \u001b[1;32mc:\\Users\\adria\\anaconda3\\Lib\\site-packages\\httpcore\\_sync\\http11.py:113\u001b[0m, in \u001b[0;36mHTTP11Connection.handle_request\u001b[1;34m(self, request)\u001b[0m\n\u001b[0;32m    102\u001b[0m     \u001b[38;5;28;01mpass\u001b[39;00m\n\u001b[0;32m    104\u001b[0m \u001b[38;5;28;01mwith\u001b[39;00m Trace(\n\u001b[0;32m    105\u001b[0m     \u001b[38;5;124m\"\u001b[39m\u001b[38;5;124mreceive_response_headers\u001b[39m\u001b[38;5;124m\"\u001b[39m, logger, request, kwargs\n\u001b[0;32m    106\u001b[0m ) \u001b[38;5;28;01mas\u001b[39;00m trace:\n\u001b[0;32m    107\u001b[0m     (\n\u001b[0;32m    108\u001b[0m         http_version,\n\u001b[0;32m    109\u001b[0m         status,\n\u001b[0;32m    110\u001b[0m         reason_phrase,\n\u001b[0;32m    111\u001b[0m         headers,\n\u001b[0;32m    112\u001b[0m         trailing_data,\n\u001b[1;32m--> 113\u001b[0m     ) \u001b[38;5;241m=\u001b[39m \u001b[38;5;28mself\u001b[39m\u001b[38;5;241m.\u001b[39m_receive_response_headers(\u001b[38;5;241m*\u001b[39m\u001b[38;5;241m*\u001b[39mkwargs)\n\u001b[0;32m    114\u001b[0m     trace\u001b[38;5;241m.\u001b[39mreturn_value \u001b[38;5;241m=\u001b[39m (\n\u001b[0;32m    115\u001b[0m         http_version,\n\u001b[0;32m    116\u001b[0m         status,\n\u001b[0;32m    117\u001b[0m         reason_phrase,\n\u001b[0;32m    118\u001b[0m         headers,\n\u001b[0;32m    119\u001b[0m     )\n\u001b[0;32m    121\u001b[0m network_stream \u001b[38;5;241m=\u001b[39m \u001b[38;5;28mself\u001b[39m\u001b[38;5;241m.\u001b[39m_network_stream\n",
      "File \u001b[1;32mc:\\Users\\adria\\anaconda3\\Lib\\site-packages\\httpcore\\_sync\\http11.py:186\u001b[0m, in \u001b[0;36mHTTP11Connection._receive_response_headers\u001b[1;34m(self, request)\u001b[0m\n\u001b[0;32m    183\u001b[0m timeout \u001b[38;5;241m=\u001b[39m timeouts\u001b[38;5;241m.\u001b[39mget(\u001b[38;5;124m\"\u001b[39m\u001b[38;5;124mread\u001b[39m\u001b[38;5;124m\"\u001b[39m, \u001b[38;5;28;01mNone\u001b[39;00m)\n\u001b[0;32m    185\u001b[0m \u001b[38;5;28;01mwhile\u001b[39;00m \u001b[38;5;28;01mTrue\u001b[39;00m:\n\u001b[1;32m--> 186\u001b[0m     event \u001b[38;5;241m=\u001b[39m \u001b[38;5;28mself\u001b[39m\u001b[38;5;241m.\u001b[39m_receive_event(timeout\u001b[38;5;241m=\u001b[39mtimeout)\n\u001b[0;32m    187\u001b[0m     \u001b[38;5;28;01mif\u001b[39;00m \u001b[38;5;28misinstance\u001b[39m(event, h11\u001b[38;5;241m.\u001b[39mResponse):\n\u001b[0;32m    188\u001b[0m         \u001b[38;5;28;01mbreak\u001b[39;00m\n",
      "File \u001b[1;32mc:\\Users\\adria\\anaconda3\\Lib\\site-packages\\httpcore\\_sync\\http11.py:224\u001b[0m, in \u001b[0;36mHTTP11Connection._receive_event\u001b[1;34m(self, timeout)\u001b[0m\n\u001b[0;32m    221\u001b[0m     event \u001b[38;5;241m=\u001b[39m \u001b[38;5;28mself\u001b[39m\u001b[38;5;241m.\u001b[39m_h11_state\u001b[38;5;241m.\u001b[39mnext_event()\n\u001b[0;32m    223\u001b[0m \u001b[38;5;28;01mif\u001b[39;00m event \u001b[38;5;129;01mis\u001b[39;00m h11\u001b[38;5;241m.\u001b[39mNEED_DATA:\n\u001b[1;32m--> 224\u001b[0m     data \u001b[38;5;241m=\u001b[39m \u001b[38;5;28mself\u001b[39m\u001b[38;5;241m.\u001b[39m_network_stream\u001b[38;5;241m.\u001b[39mread(\n\u001b[0;32m    225\u001b[0m         \u001b[38;5;28mself\u001b[39m\u001b[38;5;241m.\u001b[39mREAD_NUM_BYTES, timeout\u001b[38;5;241m=\u001b[39mtimeout\n\u001b[0;32m    226\u001b[0m     )\n\u001b[0;32m    228\u001b[0m     \u001b[38;5;66;03m# If we feed this case through h11 we'll raise an exception like:\u001b[39;00m\n\u001b[0;32m    229\u001b[0m     \u001b[38;5;66;03m#\u001b[39;00m\n\u001b[0;32m    230\u001b[0m     \u001b[38;5;66;03m#     httpcore.RemoteProtocolError: can't handle event type\u001b[39;00m\n\u001b[1;32m   (...)\u001b[0m\n\u001b[0;32m    234\u001b[0m     \u001b[38;5;66;03m# perspective. Instead we handle this case distinctly and treat\u001b[39;00m\n\u001b[0;32m    235\u001b[0m     \u001b[38;5;66;03m# it as a ConnectError.\u001b[39;00m\n\u001b[0;32m    236\u001b[0m     \u001b[38;5;28;01mif\u001b[39;00m data \u001b[38;5;241m==\u001b[39m \u001b[38;5;124mb\u001b[39m\u001b[38;5;124m\"\u001b[39m\u001b[38;5;124m\"\u001b[39m \u001b[38;5;129;01mand\u001b[39;00m \u001b[38;5;28mself\u001b[39m\u001b[38;5;241m.\u001b[39m_h11_state\u001b[38;5;241m.\u001b[39mtheir_state \u001b[38;5;241m==\u001b[39m h11\u001b[38;5;241m.\u001b[39mSEND_RESPONSE:\n",
      "File \u001b[1;32mc:\\Users\\adria\\anaconda3\\Lib\\site-packages\\httpcore\\_backends\\sync.py:126\u001b[0m, in \u001b[0;36mSyncStream.read\u001b[1;34m(self, max_bytes, timeout)\u001b[0m\n\u001b[0;32m    124\u001b[0m \u001b[38;5;28;01mwith\u001b[39;00m map_exceptions(exc_map):\n\u001b[0;32m    125\u001b[0m     \u001b[38;5;28mself\u001b[39m\u001b[38;5;241m.\u001b[39m_sock\u001b[38;5;241m.\u001b[39msettimeout(timeout)\n\u001b[1;32m--> 126\u001b[0m     \u001b[38;5;28;01mreturn\u001b[39;00m \u001b[38;5;28mself\u001b[39m\u001b[38;5;241m.\u001b[39m_sock\u001b[38;5;241m.\u001b[39mrecv(max_bytes)\n",
      "File \u001b[1;32mc:\\Users\\adria\\anaconda3\\Lib\\ssl.py:1296\u001b[0m, in \u001b[0;36mSSLSocket.recv\u001b[1;34m(self, buflen, flags)\u001b[0m\n\u001b[0;32m   1292\u001b[0m     \u001b[38;5;28;01mif\u001b[39;00m flags \u001b[38;5;241m!=\u001b[39m \u001b[38;5;241m0\u001b[39m:\n\u001b[0;32m   1293\u001b[0m         \u001b[38;5;28;01mraise\u001b[39;00m \u001b[38;5;167;01mValueError\u001b[39;00m(\n\u001b[0;32m   1294\u001b[0m             \u001b[38;5;124m\"\u001b[39m\u001b[38;5;124mnon-zero flags not allowed in calls to recv() on \u001b[39m\u001b[38;5;132;01m%s\u001b[39;00m\u001b[38;5;124m\"\u001b[39m \u001b[38;5;241m%\u001b[39m\n\u001b[0;32m   1295\u001b[0m             \u001b[38;5;28mself\u001b[39m\u001b[38;5;241m.\u001b[39m\u001b[38;5;18m__class__\u001b[39m)\n\u001b[1;32m-> 1296\u001b[0m     \u001b[38;5;28;01mreturn\u001b[39;00m \u001b[38;5;28mself\u001b[39m\u001b[38;5;241m.\u001b[39mread(buflen)\n\u001b[0;32m   1297\u001b[0m \u001b[38;5;28;01melse\u001b[39;00m:\n\u001b[0;32m   1298\u001b[0m     \u001b[38;5;28;01mreturn\u001b[39;00m \u001b[38;5;28msuper\u001b[39m()\u001b[38;5;241m.\u001b[39mrecv(buflen, flags)\n",
      "File \u001b[1;32mc:\\Users\\adria\\anaconda3\\Lib\\ssl.py:1169\u001b[0m, in \u001b[0;36mSSLSocket.read\u001b[1;34m(self, len, buffer)\u001b[0m\n\u001b[0;32m   1167\u001b[0m         \u001b[38;5;28;01mreturn\u001b[39;00m \u001b[38;5;28mself\u001b[39m\u001b[38;5;241m.\u001b[39m_sslobj\u001b[38;5;241m.\u001b[39mread(\u001b[38;5;28mlen\u001b[39m, buffer)\n\u001b[0;32m   1168\u001b[0m     \u001b[38;5;28;01melse\u001b[39;00m:\n\u001b[1;32m-> 1169\u001b[0m         \u001b[38;5;28;01mreturn\u001b[39;00m \u001b[38;5;28mself\u001b[39m\u001b[38;5;241m.\u001b[39m_sslobj\u001b[38;5;241m.\u001b[39mread(\u001b[38;5;28mlen\u001b[39m)\n\u001b[0;32m   1170\u001b[0m \u001b[38;5;28;01mexcept\u001b[39;00m SSLError \u001b[38;5;28;01mas\u001b[39;00m x:\n\u001b[0;32m   1171\u001b[0m     \u001b[38;5;28;01mif\u001b[39;00m x\u001b[38;5;241m.\u001b[39margs[\u001b[38;5;241m0\u001b[39m] \u001b[38;5;241m==\u001b[39m SSL_ERROR_EOF \u001b[38;5;129;01mand\u001b[39;00m \u001b[38;5;28mself\u001b[39m\u001b[38;5;241m.\u001b[39msuppress_ragged_eofs:\n",
      "\u001b[1;31mKeyboardInterrupt\u001b[0m: "
     ]
    }
   ],
   "source": [
    "DESCRIPTION = \"You are an expert spacecraft landing agent. Your specialty is to take the appropriate action at each instant of time based on the environment and state of the spacecraft. To achieve this, you put your knowledge base and the knowledge you acquire by analyzing each execution into a python function in charge of directing the landing.\"\n",
    "INSTRUCTIONS = f\"\"\"To complete the task you must follow the following steps and indications:\n",
    "1. Analyze and reason about the records received in the last landing attempts to learn how the spacecraft behaves in the environment. Keep in mind that conditions may vary.\n",
    "2. To measure how good a landing is, a scoring system that appears in the logs is used, your role is to maximize it. To do so, keep the following in mind:\n",
    "    - Increases/decreases the closer/further the spacecraft is from the landing area (both axes).\n",
    "    - Increased/decreased the slower/faster the spacecraft is moving.\n",
    "    - Decreased the more the spacecraft is tilted.\n",
    "    - Decreased by 0.03 points each frame a side engine is firing and 0.3 points for the center engine.\n",
    "    - Receive 100 points for a successful landing and lose them for crashing.\n",
    "3. IMPORTANT. Use the following tips in your reasoning to achieve a successful landing:\n",
    "    - First you have to stabilize the falling ship (speed, angle and location), keep falling under control and then land gently at the end.\n",
    "    - Use all the elements of the vector of observations, all are relevant to make the right decision.\n",
    "    - Pay close attention to successful events.\n",
    "    - Environment and ship conditions may change but your code must be effective for all cases.\n",
    "    - Find a balance in your landing policy to maximize your score (must exceed 200 points).\n",
    "    - If you are rotating to the left (negative values), you should fire the left engine and vice versa. But always prioritizing a controlled speed with the main engine.\n",
    "4. Add your decision code to the 'act' method and locate errors in it if the landing is unsuccessful.\n",
    "5. Save the code of the act function in the file 'Action.py' using store_code_in_file function.\n",
    "\"\"\"\n",
    "# 6. Improve your results and correct also any programming error you may have generated in your last code if they exist.\n",
    "NAME = \"Spacecraft Landing Master\"\n",
    "\n",
    "initial_msg = f\"This is the record of an example of a successful landing in this environment, but under other conditions: {success_logs}. You have to be able to learn from it to land successfully with any other conditions. This is the code of the initial function: {agent_initial_code} and these are the execution logs of one landing attempt: {initial_logs}.Take a deep breath and reason step-by-step. After reasoning analyze the results, learn and make better code.\"\n",
    "\n",
    "logger = configura_log('Spacecraft_4o_SecondPrompt.log')\n",
    "response = create_and_run_llm_loop(initial_msg, logger, model=\"gpt-4o\", num_iterations=5)\n",
    "\n",
    "print(response)"
   ]
  },
  {
   "cell_type": "markdown",
   "metadata": {},
   "source": [
    "#### Take a step back.\n",
    "Abstraer primero el problema."
   ]
  },
  {
   "cell_type": "code",
   "execution_count": 16,
   "metadata": {},
   "outputs": [
    {
     "name": "stderr",
     "output_type": "stream",
     "text": [
      "2024-06-25 13:10:16,235 - INFO - HTTP Request: POST https://api.openai.com/v1/assistants \"HTTP/1.1 200 OK\"\n",
      "2024-06-25 13:10:16,235 - INFO - HTTP Request: POST https://api.openai.com/v1/assistants \"HTTP/1.1 200 OK\"\n",
      "2024-06-25 13:10:16,484 - INFO - HTTP Request: POST https://api.openai.com/v1/threads \"HTTP/1.1 200 OK\"\n",
      "2024-06-25 13:10:16,484 - INFO - HTTP Request: POST https://api.openai.com/v1/threads \"HTTP/1.1 200 OK\"\n",
      "2024-06-25 13:10:16,762 - INFO - HTTP Request: POST https://api.openai.com/v1/threads/thread_IqQCYcmDbJuCTavag1ztZnIp/messages \"HTTP/1.1 200 OK\"\n",
      "2024-06-25 13:10:16,762 - INFO - HTTP Request: POST https://api.openai.com/v1/threads/thread_IqQCYcmDbJuCTavag1ztZnIp/messages \"HTTP/1.1 200 OK\"\n",
      "2024-06-25 13:10:17,458 - INFO - HTTP Request: POST https://api.openai.com/v1/threads/thread_IqQCYcmDbJuCTavag1ztZnIp/runs \"HTTP/1.1 200 OK\"\n",
      "2024-06-25 13:10:17,458 - INFO - HTTP Request: POST https://api.openai.com/v1/threads/thread_IqQCYcmDbJuCTavag1ztZnIp/runs \"HTTP/1.1 200 OK\"\n",
      "2024-06-25 13:10:17,688 - INFO - HTTP Request: GET https://api.openai.com/v1/threads/thread_IqQCYcmDbJuCTavag1ztZnIp/runs/run_13mChlT7vN6YXwf12NKDjFTy \"HTTP/1.1 200 OK\"\n",
      "2024-06-25 13:10:17,688 - INFO - HTTP Request: GET https://api.openai.com/v1/threads/thread_IqQCYcmDbJuCTavag1ztZnIp/runs/run_13mChlT7vN6YXwf12NKDjFTy \"HTTP/1.1 200 OK\"\n",
      "2024-06-25 13:10:17,690 - INFO - Status: queued\n",
      "2024-06-25 13:10:17,690 - INFO - Status: queued\n",
      "2024-06-25 13:10:17,921 - INFO - HTTP Request: GET https://api.openai.com/v1/threads/thread_IqQCYcmDbJuCTavag1ztZnIp/runs/run_13mChlT7vN6YXwf12NKDjFTy \"HTTP/1.1 200 OK\"\n",
      "2024-06-25 13:10:17,921 - INFO - HTTP Request: GET https://api.openai.com/v1/threads/thread_IqQCYcmDbJuCTavag1ztZnIp/runs/run_13mChlT7vN6YXwf12NKDjFTy \"HTTP/1.1 200 OK\"\n",
      "2024-06-25 13:10:37,926 - INFO - Status: queued\n",
      "2024-06-25 13:10:37,926 - INFO - Status: queued\n",
      "2024-06-25 13:10:38,219 - INFO - HTTP Request: GET https://api.openai.com/v1/threads/thread_IqQCYcmDbJuCTavag1ztZnIp/runs/run_13mChlT7vN6YXwf12NKDjFTy \"HTTP/1.1 200 OK\"\n",
      "2024-06-25 13:10:38,219 - INFO - HTTP Request: GET https://api.openai.com/v1/threads/thread_IqQCYcmDbJuCTavag1ztZnIp/runs/run_13mChlT7vN6YXwf12NKDjFTy \"HTTP/1.1 200 OK\"\n"
     ]
    },
    {
     "name": "stdout",
     "output_type": "stream",
     "text": [
      "Run(id='run_13mChlT7vN6YXwf12NKDjFTy', assistant_id='asst_lCPv3JayNTdn2TWQpG7M9NDT', cancelled_at=None, completed_at=None, created_at=1719313815, expires_at=1719314415, failed_at=None, incomplete_details=None, instructions=\"To complete the task you must follow the following steps and indications:\\n1. Analyze and reason about the records received in the last landing attempts to learn how the spacecraft behaves in the environment. Keep in mind that conditions may vary.\\n2. To measure how good a landing is, a scoring system that appears in the logs is used, your role is to maximize it. To do so, keep the following in mind:\\n    - Increases/decreases the closer/further the spacecraft is from the landing area (both axes).\\n    - Increased/decreased the slower/faster the spacecraft is moving.\\n    - Decreased the more the spacecraft is tilted.\\n    - Decreased by 0.03 points each frame a side engine is firing and 0.3 points for the center engine.\\n    - Receive 100 points for a successful landing and lose them for crashing.\\n3. IMPORTANT. Use the following tips in your reasoning to achieve a successful landing:\\n    - First you have to stabilize the falling ship (speed, angle and location), keep falling under control and then land gently at the end.\\n    - Use all the elements of the vector of observations, all are relevant to make the right decision.\\n    - Pay close attention to successful events.\\n    - Environment and ship conditions may change but your code must be effective for all cases.\\n    - Find a balance in your landing policy to maximize your score (must exceed 200 points).\\n    - If you are rotating to the left (negative values), you should fire the left engine and vice versa. But always prioritizing a controlled speed with the main engine.\\n4. Add your decision code to the 'act' method and locate errors in it if the landing is unsuccessful.\\n5. Save the code of the act function in the file 'Action.py' using store_code_in_file function.\\n\", last_error=None, max_completion_tokens=None, max_prompt_tokens=None, metadata={}, model='gpt-3.5-turbo', object='thread.run', required_action=RequiredAction(submit_tool_outputs=RequiredActionSubmitToolOutputs(tool_calls=[RequiredActionFunctionToolCall(id='call_joyBEbyi3RlCDmMLZSHZwiVx', function=Function(arguments='{\"code\": \"def act(observation):\\\\n    (position, velocity, angle, angle_velocity, left_contact, right_contact, main_contact, status_contact) = observation\\\\n    if angle < -0.1 or angle > 0.1:\\\\n        if angle_velocity < -0.01:\\\\n            return 1\\\\n        else:\\\\n            return 2\\\\n    else:\\\\n        if position < 0:\\\\n            return 3\\\\n        else:\\\\n            return 0\\\\n\", \"filename\": \"Action.py\"}', name='store_code_in_file'), type='function'), RequiredActionFunctionToolCall(id='call_C0Ztbkf3Kp1uI2wmrasZjvnC', function=Function(arguments='{\"code\": \"# The code in the file \\'Action.py\\' determines the best action to take based on the given observation.\\\\n# The spacecraft should:\\\\n# - Try to stabilize if the angle is not within a safe range\\\\n# - Take action based on angle velocity to correct the tilt\\\\n# - If the angle is safe, adjust based on the position\\\\n# - If everything looks good, take no action (0)\\\\n# The actions are:\\\\n# 0: Do nothing\\\\n# 1: Fire left thruster\\\\n# 2: Fire main thruster\\\\n# 3: Fire right thruster\\\\n\\\\n# Define the function to determine the action based on the observation\\\\n\\\\ndef act(observation):\\\\n    (position, velocity, angle, angle_velocity, left_contact, right_contact, main_contact, status_contact) = observation\\\\n    if angle < -0.1 or angle > 0.1:\\\\n        if angle_velocity < -0.01:\\\\n            return 1\\\\n        else:\\\\n            return 2\\\\n    else:\\\\n        if position < 0:\\\\n            return 3\\\\n        else:\\\\n            return 0\\\\n\", \"filename\": \"Action.txt\"}', name='store_code_in_file'), type='function')]), type='submit_tool_outputs'), response_format='auto', started_at=1719313816, status='requires_action', thread_id='thread_IqQCYcmDbJuCTavag1ztZnIp', tool_choice='required', tools=[FunctionTool(function=FunctionDefinition(name='store_code_in_file', description='Store code in a file', parameters={'type': 'object', 'properties': {'code': {'type': 'string', 'description': 'The Python code to store.'}, 'filename': {'type': 'string', 'description': 'The filename to store the code in.'}}, 'required': ['code', 'filename']}), type='function')], truncation_strategy=TruncationStrategy(type='auto', last_messages=None), usage=None, temperature=1.0, top_p=1.0, tool_resources={}, parallel_tool_calls=True)\n"
     ]
    }
   ],
   "source": [
    "agente = AssistantOpenAI(ARCLABKEY_OPENAI)\n",
    "\n",
    "# Crea un asistente\n",
    "asistente = agente.create_assistant(model=\"gpt-3.5-turbo\", description=DESCRIPTION, instructions=INSTRUCTIONS, name=NAME, tools=TOOLS)\n",
    "    \n",
    "# Crea un hilo\n",
    "hilo = agente.create_thread()\n",
    "\n",
    "initial_msg = f\"This is the record of an example of a successful landing in this environment, but under other conditions: {success_logs}. This is the code of the initial function: {agent_initial_code} and these are the execution logs of one landing attempt: {initial_logs}.Before coding take a deep breath and reason step-by-step.What does each value and each change in the observations mean? What effects does each action have on the current state observations? What are the steps to follow to achieve a successful landing?\"\n",
    "    \n",
    "# Añade un mensaje inicial al hilo.\n",
    "msg = agente.add_message(hilo.id, role=\"user\", content=initial_msg)\n",
    "\n",
    "\n",
    "# Ejecuta el hilo\n",
    "ejecucion = agente.run(hilo.id, asistente.id)\n",
    "response = agente.get_run(ejecucion.id, hilo.id)\n",
    "\n",
    "# Esperamos a que la respuesta esté lista.\n",
    "while response.status not in [\"completed\", \"failed\", \"requires_action\"]:\n",
    "    logger.info(f\"Status: {ejecucion.status}\")\n",
    "    response = agente.get_run(ejecucion.id, hilo.id)\n",
    "    time.sleep(20)\n",
    "print(response)\n"
   ]
  },
  {
   "cell_type": "code",
   "execution_count": 12,
   "metadata": {},
   "outputs": [
    {
     "ename": "NameError",
     "evalue": "name 'agente' is not defined",
     "output_type": "error",
     "traceback": [
      "\u001b[1;31m---------------------------------------------------------------------------\u001b[0m",
      "\u001b[1;31mNameError\u001b[0m                                 Traceback (most recent call last)",
      "Cell \u001b[1;32mIn[12], line 1\u001b[0m\n\u001b[1;32m----> 1\u001b[0m agente\u001b[38;5;241m.\u001b[39mmostrar_mensajes(hilo\u001b[38;5;241m.\u001b[39mid)  \n\u001b[0;32m      2\u001b[0m vaciar_agente(agente)\n",
      "\u001b[1;31mNameError\u001b[0m: name 'agente' is not defined"
     ]
    }
   ],
   "source": [
    "agente.mostrar_mensajes(hilo.id)  \n",
    "vaciar_agente(agente)"
   ]
  },
  {
   "cell_type": "markdown",
   "metadata": {},
   "source": [
    "### Tasks\n",
    "- Corregir rotación.\n",
    "- Cantidad de logs.\n",
    "- Partir de ejemplo exitoso para afinarlo. (y generalizar)\n",
    "- Incluir take step back.\n",
    "- Probar con 2 modelos. Uno encargado del razonamiento y otro de codificar. (O uno que retroalimente al otro con las conclusiones obtenidas)"
   ]
  }
 ],
 "metadata": {
  "kernelspec": {
   "display_name": "base",
   "language": "python",
   "name": "python3"
  },
  "language_info": {
   "codemirror_mode": {
    "name": "ipython",
    "version": 3
   },
   "file_extension": ".py",
   "mimetype": "text/x-python",
   "name": "python",
   "nbconvert_exporter": "python",
   "pygments_lexer": "ipython3",
   "version": "3.11.5"
  }
 },
 "nbformat": 4,
 "nbformat_minor": 2
}
