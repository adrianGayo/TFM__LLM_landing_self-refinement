{
 "cells": [
  {
   "cell_type": "markdown",
   "metadata": {},
   "source": [
    "#### Imports"
   ]
  },
  {
   "cell_type": "code",
   "execution_count": 1,
   "metadata": {},
   "outputs": [],
   "source": [
    "import time\n",
    "from openai import OpenAI\n",
    "from Assistant import AssistantOpenAI\n",
    "import logging\n",
    "import os\n",
    "import json\n",
    "import gymnasium as gym\n",
    "import random\n",
    "import matplotlib.pyplot as plt\n",
    "import os\n",
    "import time\n",
    "from git import Repo\n",
    "\n",
    "import numpy as np\n",
    "from collections import deque, namedtuple\n",
    "\n",
    "# For visualization\n",
    "import gymnasium.wrappers.record_video as record_video"
   ]
  },
  {
   "cell_type": "markdown",
   "metadata": {},
   "source": [
    "#### Parameters"
   ]
  },
  {
   "cell_type": "code",
   "execution_count": 2,
   "metadata": {},
   "outputs": [],
   "source": [
    "num_episodes = 200\n",
    "ARCLABKEY_OPENAI = \"sk-proj-DvHDR3hpgbm2r3kCA9jKT3BlbkFJL57ABXkfaWAIYKBxdhM6\"\n",
    "ARCLABKEY_OPENAI = \"sk-proj-GvaDXazpibWA2M1I5Pu2T3BlbkFJxDuKlr9AcoVG98ctJZ7Q\""
   ]
  },
  {
   "cell_type": "code",
   "execution_count": 3,
   "metadata": {},
   "outputs": [],
   "source": [
    "def store_code_in_file(code, filename):\n",
    "    \"\"\" Store code in a file\n",
    "    \n",
    "    Args:\n",
    "        code: str: code to store\n",
    "        filename: str: filename to store code in\n",
    "    \n",
    "    Returns:\n",
    "        None\n",
    "    \"\"\"\n",
    "    with open(filename, 'w') as f:\n",
    "        f.write(code)\n",
    "        \n",
    "store_code_in_file_schema = {\n",
    "    \"name\": \"store_code_in_file\",\n",
    "    \"description\": \"Store code in a file\",\n",
    "    \"parameters\": {\n",
    "        \"type\": \"object\",\n",
    "        \"properties\": {\n",
    "            \"code\": {\n",
    "                \"type\": \"string\",\n",
    "                \"description\": \"The Python code to store.\"\n",
    "            },\n",
    "            \"filename\": {\n",
    "                \"type\": \"string\",\n",
    "                \"description\": \"The filename to store the code in.\"\n",
    "            }\n",
    "        },\n",
    "        \"required\": [\"code\", \"filename\"]\n",
    "    }\n",
    "}\n",
    "\n",
    "TOOLS = [{\"type\": \"function\", \"function\": store_code_in_file_schema}]"
   ]
  },
  {
   "cell_type": "markdown",
   "metadata": {},
   "source": [
    "### Entorno Lunnar Lander"
   ]
  },
  {
   "cell_type": "code",
   "execution_count": 4,
   "metadata": {},
   "outputs": [
    {
     "name": "stdout",
     "output_type": "stream",
     "text": [
      "State shape:  (8,)\n",
      "Number of actions:  4\n"
     ]
    }
   ],
   "source": [
    "env = gym.make('LunarLander-v2')\n",
    "print('State shape: ', env.observation_space.shape)\n",
    "print('Number of actions: ', env.action_space.n)"
   ]
  },
  {
   "cell_type": "code",
   "execution_count": 5,
   "metadata": {},
   "outputs": [],
   "source": [
    "agent_initial_code = \"\"\"\n",
    "def act(observation):\n",
    "    '''\n",
    "    The function that codifies the action to be taken in each instant of time.\n",
    "\n",
    "    Args:\n",
    "        observation (numpy.array):\n",
    "            \"description\": \"The state of the environment after the action is taken.\",\n",
    "            \"positions\": {  \n",
    "                \"0\": \"X position\",\n",
    "                \"1\": \"Y position\",\n",
    "                \"2\": \"X velocity\",\n",
    "                \"3\": \"Y velocity\",\n",
    "                \"4\": \"Angle\",\n",
    "                \"5\": \"Angular velocity\",\n",
    "                \"6\": \"Left contact sensor\",\n",
    "                \"7\": \"Right contact sensor\"\n",
    "            },\n",
    "            \"min_values\": [-1.5, -1.5, -5.0, -5.0, -3.14, -5.0, 0, 0],\n",
    "            \"max_values\": [1.5, 1.5, 5.0, 5.0, 3.14, 5.0, 1, 1]\n",
    "\n",
    "    Returns:\n",
    "        Integer  : The action to be taken.\n",
    "    '''\n",
    "    return random.randint(0, 3)\n",
    "\"\"\""
   ]
  },
  {
   "cell_type": "markdown",
   "metadata": {},
   "source": [
    "#### Mapeador de logs a JSON"
   ]
  },
  {
   "cell_type": "code",
   "execution_count": 6,
   "metadata": {},
   "outputs": [],
   "source": [
    "log_description = {\n",
    "    \"description\": \"Log data for each step of the spacecraft landing environment.\",\n",
    "    \"landing attempt\": {\n",
    "        \"type\": \"integer\",\n",
    "        \"description\": \"The episode number.\"\n",
    "    },\n",
    "    \"logs\": {\n",
    "        \"instant\": {\n",
    "            \"type\": \"integer\",\n",
    "            \"description\": \"The instant within the landing attempt where the current log is taken.\"\n",
    "        },\n",
    "        \"action\": {\n",
    "            \"type\": \"integer\",\n",
    "            \"description\": \"The possible actions taken.\",\n",
    "            \"options\": {\n",
    "                1 : \"Switch off engines\",\n",
    "                2 : \"Push left engine\",\n",
    "                3 : \"Push both engines (upwards)\",\n",
    "                4 : \"Push right engine\"\n",
    "            }\n",
    "        },  \n",
    "        \"current status\": {\n",
    "            \"type\": \"array\",\n",
    "            \"description\": \"The state of the environment after the action is taken.\",\n",
    "            \"positions\": {  \n",
    "                \"0\": \"X position\",\n",
    "                \"1\": \"Y position\",\n",
    "                \"2\": \"X velocity\",\n",
    "                \"3\": \"Y velocity\",\n",
    "                \"4\": \"Angle\",\n",
    "                \"5\": \"Angular velocity\",\n",
    "                \"6\": \"Left contact sensor\",\n",
    "                \"7\": \"Right contact sensor\"\n",
    "            },\n",
    "            \"min_values\": [-1.5, -1.5, -5.0, -5.0, -3.14, -5.0, 0, 0],\n",
    "            \"max_values\": [1.5, 1.5, 5.0, 5.0, 3.14, 5.0, 1, 1] \n",
    "        }, \n",
    "        \"score\": {\n",
    "            \"type\": \"number\",\n",
    "            \"description\": \"The score received for the action.\"\n",
    "        },  \n",
    "        \"completed\": {\n",
    "            \"type\": \"boolean\",\n",
    "            \"description\": \"Whether the landing event has ended (landing or accident).\"\n",
    "        }\n",
    "    },\n",
    "    \"total score\": {\n",
    "        \"type\": \"number\",\n",
    "        \"description\": \"The total score received for the landing attempt.\"\n",
    "    }\n",
    "}"
   ]
  },
  {
   "cell_type": "markdown",
   "metadata": {},
   "source": [
    "### UTILS"
   ]
  },
  {
   "cell_type": "code",
   "execution_count": 7,
   "metadata": {},
   "outputs": [],
   "source": [
    "import json\n",
    "\n",
    "def format_step_data(instant, action, next_state, reward, terminated):\n",
    "    \"\"\" Format the step data into a JSON string\n",
    "    \n",
    "    Args:\n",
    "        instant: int: the instant within the landing attempt where the current log is taken\n",
    "        action: int: the action taken\n",
    "        next_state: np.array: the next state of the environment\n",
    "        reward: float: the reward received\n",
    "        terminated: bool: whether the landing event has ended\n",
    "        \n",
    "    Returns:\n",
    "        str: the step data formatted as a JSON string\n",
    "    \"\"\"\n",
    "    # Convertir el array numpy a una lista\n",
    "    next_state_list = next_state.tolist()\n",
    "\n",
    "    # Redondear los elementos de la lista a 4 decimales\n",
    "    next_state_list_rounded = [round(x, 3) for x in next_state_list]\n",
    "\n",
    "    step_data = {\n",
    "        'instant': instant,\n",
    "        'action' : int(action),\n",
    "        'current status': next_state_list_rounded,  # Convert numpy array to list\n",
    "        'score': round(reward, 3),\n",
    "        'completed': terminated,\n",
    "        #'truncated': truncated\n",
    "        #'info': info\n",
    "    }\n",
    "    \n",
    "    #print(step_data)\n",
    "\n",
    "    # Convert the dictionary to a JSON string\n",
    "    step_data_json = json.dumps(step_data)\n",
    "\n",
    "    return step_data_json\n",
    "\n",
    "\n",
    "def format_episode_logs(logs, episode, total_score):\n",
    "    \"\"\" Format the logs into a JSON string\n",
    "    \n",
    "    Args:\n",
    "        logs: list: the logs for each step of the environment\n",
    "        episode: int: the episode number\n",
    "        \n",
    "    Returns:\n",
    "        str: the logs formatted as a JSON string\n",
    "    \"\"\"\n",
    "    logs_data = {\n",
    "        'landing attempt': episode,\n",
    "        'logs': logs,\n",
    "        'total score': total_score\n",
    "    }\n",
    "\n",
    "    # Convert the dictionary to a JSON string\n",
    "    logs_json = json.dumps(logs_data)\n",
    "\n",
    "    return logs_json"
   ]
  },
  {
   "cell_type": "code",
   "execution_count": 8,
   "metadata": {},
   "outputs": [],
   "source": [
    "def commit_changes(repo_path, commit_message):\n",
    "    \"\"\" Commit changes to the repository.\n",
    "\n",
    "    Args:\n",
    "        repo_path (str): Path to the repository.\n",
    "        commit_message (str): The commit message.\n",
    "    \"\"\"\n",
    "    repo = Repo(repo_path)\n",
    "    repo.git.add(update=True)\n",
    "    repo.index.commit(commit_message)\n",
    "    origin = repo.remote(name='origin')\n",
    "    origin.push()"
   ]
  },
  {
   "cell_type": "code",
   "execution_count": 9,
   "metadata": {},
   "outputs": [],
   "source": [
    "import Action\n",
    "\n",
    "def lunar_lander(max_t=1000, n_games=1, display=False, seed=38, agent=None):\n",
    "    \n",
    "    # Incluimos la opción del entorno gráfico.\n",
    "    if display:\n",
    "        env = gym.make('LunarLander-v2', render_mode='human')\n",
    "    else:\n",
    "        env = gym.make('LunarLander-v2')\n",
    "\n",
    "    logs = []\n",
    "    for episode in range(1, n_games+1):\n",
    "        state = env.reset(seed=seed) # Set a seed for the environment\n",
    "        state = state[0] # Eliminamos el diccionario vacio y dejamos unicamente el estado de 8 elementos.\n",
    "        score = 0\n",
    "        instant = 0\n",
    "        episode_actions = []\n",
    "        episode_rewards = []\n",
    "        for i in range(max_t):\n",
    "            if agent: \n",
    "                action = agent.act(state)\n",
    "            else:\n",
    "                action = Action.act(state)\n",
    "                \n",
    "            next_state, reward, terminated, truncated, info = env.step(action)\n",
    "            json_logs = format_step_data(instant, action, next_state, reward, terminated)\n",
    "            episode_rewards.append(reward)\n",
    "            score += reward\n",
    "            instant += 1\n",
    "            if len(episode_actions) == 0 or len(episode_actions) % 3 == 0 or terminated:\n",
    "                logs.append(json_logs)\n",
    "            episode_actions.append(action)\n",
    "            state = next_state\n",
    "            if terminated:\n",
    "                break\n",
    "        json_episode_logs = format_episode_logs(logs, episode, score) \n",
    "        \n",
    "        print(f\"Número de instantes: {instant+1}. Tamaño de logs: {len(logs)}\")\n",
    "        print('episode ', episode, 'score %.3f' % float(score), 'avg score %.3f' % (float(score) / instant))\n",
    "        \n",
    "    env.close()\n",
    "    return json_episode_logs"
   ]
  },
  {
   "cell_type": "markdown",
   "metadata": {},
   "source": [
    "#### Logs del código inicial"
   ]
  },
  {
   "cell_type": "code",
   "execution_count": 10,
   "metadata": {},
   "outputs": [
    {
     "name": "stdout",
     "output_type": "stream",
     "text": [
      "Número de instantes: 95. Tamaño de logs: 32\n",
      "episode  1 score -89.201 avg score -0.949\n",
      "Número de instantes: 127. Tamaño de logs: 75\n",
      "episode  2 score -594.506 avg score -4.718\n"
     ]
    },
    {
     "data": {
      "text/plain": [
       "'{\"landing attempt\": 2, \"logs\": [\"{\\\\\"instant\\\\\": 0, \\\\\"action\\\\\": 0, \\\\\"current status\\\\\": [0.008, 1.417, 0.38, 0.131, -0.009, -0.085, 0.0, 0.0], \\\\\"score\\\\\": 0.232, \\\\\"completed\\\\\": false}\", \"{\\\\\"instant\\\\\": 3, \\\\\"action\\\\\": 0, \\\\\"current status\\\\\": [0.019, 1.423, 0.371, 0.051, -0.018, -0.048, 0.0, 0.0], \\\\\"score\\\\\": 0.094, \\\\\"completed\\\\\": false}\", \"{\\\\\"instant\\\\\": 6, \\\\\"action\\\\\": 2, \\\\\"current status\\\\\": [0.03, 1.425, 0.363, 0.058, -0.019, -0.011, 0.0, 0.0], \\\\\"score\\\\\": -0.031, \\\\\"completed\\\\\": false}\", \"{\\\\\"instant\\\\\": 9, \\\\\"action\\\\\": 3, \\\\\"current status\\\\\": [0.041, 1.426, 0.391, -0.023, -0.031, -0.122, 0.0, 0.0], \\\\\"score\\\\\": -1.674, \\\\\"completed\\\\\": false}\", \"{\\\\\"instant\\\\\": 12, \\\\\"action\\\\\": 1, \\\\\"current status\\\\\": [0.053, 1.421, 0.384, -0.102, -0.052, -0.095, 0.0, 0.0], \\\\\"score\\\\\": 0.155, \\\\\"completed\\\\\": false}\", \"{\\\\\"instant\\\\\": 15, \\\\\"action\\\\\": 0, \\\\\"current status\\\\\": [0.064, 1.413, 0.391, -0.136, -0.06, -0.04, 0.0, 0.0], \\\\\"score\\\\\": -0.707, \\\\\"completed\\\\\": false}\", \"{\\\\\"instant\\\\\": 18, \\\\\"action\\\\\": 1, \\\\\"current status\\\\\": [0.075, 1.401, 0.357, -0.215, -0.052, 0.096, 0.0, 0.0], \\\\\"score\\\\\": 0.614, \\\\\"completed\\\\\": false}\", \"{\\\\\"instant\\\\\": 21, \\\\\"action\\\\\": 3, \\\\\"current status\\\\\": [0.087, 1.382, 0.383, -0.296, -0.048, -0.007, 0.0, 0.0], \\\\\"score\\\\\": -1.642, \\\\\"completed\\\\\": false}\", \"{\\\\\"instant\\\\\": 24, \\\\\"action\\\\\": 2, \\\\\"current status\\\\\": [0.098, 1.36, 0.397, -0.341, -0.052, -0.009, 0.0, 0.0], \\\\\"score\\\\\": 0.06, \\\\\"completed\\\\\": false}\", \"{\\\\\"instant\\\\\": 27, \\\\\"action\\\\\": 0, \\\\\"current status\\\\\": [0.11, 1.333, 0.397, -0.421, -0.052, -0.009, 0.0, 0.0], \\\\\"score\\\\\": -1.042, \\\\\"completed\\\\\": false}\", \"{\\\\\"instant\\\\\": 30, \\\\\"action\\\\\": 3, \\\\\"current status\\\\\": [0.122, 1.301, 0.417, -0.502, -0.059, -0.089, 0.0, 0.0], \\\\\"score\\\\\": -2.162, \\\\\"completed\\\\\": false}\", \"{\\\\\"instant\\\\\": 33, \\\\\"action\\\\\": 0, \\\\\"current status\\\\\": [0.135, 1.266, 0.427, -0.546, -0.076, -0.122, 0.0, 0.0], \\\\\"score\\\\\": -1.516, \\\\\"completed\\\\\": false}\", \"{\\\\\"instant\\\\\": 36, \\\\\"action\\\\\": 0, \\\\\"current status\\\\\": [0.148, 1.225, 0.45, -0.628, -0.106, -0.214, 0.0, 0.0], \\\\\"score\\\\\": -1.873, \\\\\"completed\\\\\": false}\", \"{\\\\\"instant\\\\\": 39, \\\\\"action\\\\\": 1, \\\\\"current status\\\\\": [0.161, 1.181, 0.441, -0.68, -0.13, -0.116, 0.0, 0.0], \\\\\"score\\\\\": -0.579, \\\\\"completed\\\\\": false}\", \"{\\\\\"instant\\\\\": 42, \\\\\"action\\\\\": 0, \\\\\"current status\\\\\": [0.175, 1.132, 0.464, -0.762, -0.159, -0.211, 0.0, 0.0], \\\\\"score\\\\\": -1.695, \\\\\"completed\\\\\": false}\", \"{\\\\\"instant\\\\\": 45, \\\\\"action\\\\\": 0, \\\\\"current status\\\\\": [0.189, 1.079, 0.487, -0.81, -0.188, -0.195, 0.0, 0.0], \\\\\"score\\\\\": -1.539, \\\\\"completed\\\\\": false}\", \"{\\\\\"instant\\\\\": 48, \\\\\"action\\\\\": 3, \\\\\"current status\\\\\": [0.204, 1.021, 0.508, -0.892, -0.226, -0.278, 0.0, 0.0], \\\\\"score\\\\\": -2.476, \\\\\"completed\\\\\": false}\", \"{\\\\\"instant\\\\\": 51, \\\\\"action\\\\\": 3, \\\\\"current status\\\\\": [0.219, 0.957, 0.534, -0.977, -0.279, -0.388, 0.0, 0.0], \\\\\"score\\\\\": -2.791, \\\\\"completed\\\\\": false}\", \"{\\\\\"instant\\\\\": 54, \\\\\"action\\\\\": 1, \\\\\"current status\\\\\": [0.235, 0.888, 0.525, -1.054, -0.337, -0.347, 0.0, 0.0], \\\\\"score\\\\\": -1.405, \\\\\"completed\\\\\": false}\", \"{\\\\\"instant\\\\\": 57, \\\\\"action\\\\\": 0, \\\\\"current status\\\\\": [0.25, 0.813, 0.533, -1.136, -0.393, -0.383, 0.0, 0.0], \\\\\"score\\\\\": -2.034, \\\\\"completed\\\\\": false}\", \"{\\\\\"instant\\\\\": 60, \\\\\"action\\\\\": 1, \\\\\"current status\\\\\": [0.265, 0.733, 0.512, -1.211, -0.441, -0.29, 0.0, 0.0], \\\\\"score\\\\\": -0.882, \\\\\"completed\\\\\": false}\", \"{\\\\\"instant\\\\\": 63, \\\\\"action\\\\\": 1, \\\\\"current status\\\\\": [0.28, 0.648, 0.511, -1.291, -0.488, -0.287, 0.0, 0.0], \\\\\"score\\\\\": -0.926, \\\\\"completed\\\\\": false}\", \"{\\\\\"instant\\\\\": 66, \\\\\"action\\\\\": 2, \\\\\"current status\\\\\": [0.296, 0.559, 0.565, -1.324, -0.535, -0.328, 0.0, 0.0], \\\\\"score\\\\\": 0.862, \\\\\"completed\\\\\": false}\", \"{\\\\\"instant\\\\\": 69, \\\\\"action\\\\\": 0, \\\\\"current status\\\\\": [0.312, 0.466, 0.548, -1.398, -0.574, -0.245, 0.0, 0.0], \\\\\"score\\\\\": -1.357, \\\\\"completed\\\\\": false}\", \"{\\\\\"instant\\\\\": 72, \\\\\"action\\\\\": 0, \\\\\"current status\\\\\": [0.328, 0.369, 0.551, -1.48, -0.611, -0.263, 0.0, 0.0], \\\\\"score\\\\\": -1.623, \\\\\"completed\\\\\": false}\", \"{\\\\\"instant\\\\\": 75, \\\\\"action\\\\\": 1, \\\\\"current status\\\\\": [0.346, 0.267, 0.592, -1.535, -0.649, -0.229, 0.0, 0.0], \\\\\"score\\\\\": -1.104, \\\\\"completed\\\\\": false}\", \"{\\\\\"instant\\\\\": 78, \\\\\"action\\\\\": 1, \\\\\"current status\\\\\": [0.364, 0.162, 0.645, -1.572, -0.687, -0.222, 0.0, 0.0], \\\\\"score\\\\\": -1.908, \\\\\"completed\\\\\": false}\", \"{\\\\\"instant\\\\\": 81, \\\\\"action\\\\\": 3, \\\\\"current status\\\\\": [0.386, 0.057, 0.765, -1.589, -0.72, -0.258, 0.0, 0.0], \\\\\"score\\\\\": -4.686, \\\\\"completed\\\\\": false}\", \"{\\\\\"instant\\\\\": 84, \\\\\"action\\\\\": 1, \\\\\"current status\\\\\": [0.405, 0.005, 0.622, -0.404, -0.896, -1.408, 1.0, 0.0], \\\\\"score\\\\\": -5.19, \\\\\"completed\\\\\": false}\", \"{\\\\\"instant\\\\\": 87, \\\\\"action\\\\\": 2, \\\\\"current status\\\\\": [0.426, -0.006, 0.682, -0.138, -0.726, 1.183, 1.0, 0.0], \\\\\"score\\\\\": 1.96, \\\\\"completed\\\\\": false}\", \"{\\\\\"instant\\\\\": 90, \\\\\"action\\\\\": 3, \\\\\"current status\\\\\": [0.448, -0.021, 0.687, -0.221, -0.546, 1.145, 0.0, 0.0], \\\\\"score\\\\\": -6.639, \\\\\"completed\\\\\": false}\", \"{\\\\\"instant\\\\\": 93, \\\\\"action\\\\\": 1, \\\\\"current status\\\\\": [0.471, -0.039, 0.68, -0.211, -0.361, 1.645, 0.0, 0.0], \\\\\"score\\\\\": -100, \\\\\"completed\\\\\": true}\", \"{\\\\\"instant\\\\\": 0, \\\\\"action\\\\\": 3, \\\\\"current status\\\\\": [0.008, 1.417, 0.39, 0.131, -0.01, -0.123, 0.0, 0.0], \\\\\"score\\\\\": -0.871, \\\\\"completed\\\\\": false}\", \"{\\\\\"instant\\\\\": 3, \\\\\"action\\\\\": 1, \\\\\"current status\\\\\": [0.019, 1.425, 0.384, 0.098, -0.026, -0.073, 0.0, 0.0], \\\\\"score\\\\\": 1.196, \\\\\"completed\\\\\": false}\", \"{\\\\\"instant\\\\\": 6, \\\\\"action\\\\\": 2, \\\\\"current status\\\\\": [0.031, 1.429, 0.389, 0.058, -0.042, -0.124, 0.0, 0.0], \\\\\"score\\\\\": -0.684, \\\\\"completed\\\\\": false}\", \"{\\\\\"instant\\\\\": 9, \\\\\"action\\\\\": 1, \\\\\"current status\\\\\": [0.042, 1.429, 0.397, -0.023, -0.067, -0.156, 0.0, 0.0], \\\\\"score\\\\\": 0.132, \\\\\"completed\\\\\": false}\", \"{\\\\\"instant\\\\\": 12, \\\\\"action\\\\\": 0, \\\\\"current status\\\\\": [0.054, 1.424, 0.39, -0.103, -0.088, -0.125, 0.0, 0.0], \\\\\"score\\\\\": -1.007, \\\\\"completed\\\\\": false}\", \"{\\\\\"instant\\\\\": 15, \\\\\"action\\\\\": 1, \\\\\"current status\\\\\": [0.065, 1.413, 0.381, -0.182, -0.105, -0.09, 0.0, 0.0], \\\\\"score\\\\\": -0.347, \\\\\"completed\\\\\": false}\", \"{\\\\\"instant\\\\\": 18, \\\\\"action\\\\\": 3, \\\\\"current status\\\\\": [0.077, 1.399, 0.385, -0.236, -0.121, -0.133, 0.0, 0.0], \\\\\"score\\\\\": -2.308, \\\\\"completed\\\\\": false}\", \"{\\\\\"instant\\\\\": 21, \\\\\"action\\\\\": 3, \\\\\"current status\\\\\": [0.089, 1.383, 0.415, -0.259, -0.145, -0.192, 0.0, 0.0], \\\\\"score\\\\\": -2.484, \\\\\"completed\\\\\": false}\", \"{\\\\\"instant\\\\\": 24, \\\\\"action\\\\\": 1, \\\\\"current status\\\\\": [0.101, 1.364, 0.418, -0.3, -0.172, -0.154, 0.0, 0.0], \\\\\"score\\\\\": -0.943, \\\\\"completed\\\\\": false}\", \"{\\\\\"instant\\\\\": 27, \\\\\"action\\\\\": 2, \\\\\"current status\\\\\": [0.113, 1.341, 0.417, -0.35, -0.197, -0.163, 0.0, 0.0], \\\\\"score\\\\\": -0.097, \\\\\"completed\\\\\": false}\", \"{\\\\\"instant\\\\\": 30, \\\\\"action\\\\\": 2, \\\\\"current status\\\\\": [0.126, 1.314, 0.455, -0.391, -0.23, -0.23, 0.0, 0.0], \\\\\"score\\\\\": -1.147, \\\\\"completed\\\\\": false}\", \"{\\\\\"instant\\\\\": 33, \\\\\"action\\\\\": 2, \\\\\"current status\\\\\": [0.139, 1.285, 0.44, -0.439, -0.26, -0.205, 0.0, 0.0], \\\\\"score\\\\\": 0.237, \\\\\"completed\\\\\": false}\", \"{\\\\\"instant\\\\\": 36, \\\\\"action\\\\\": 2, \\\\\"current status\\\\\": [0.153, 1.254, 0.496, -0.439, -0.297, -0.244, 0.0, 0.0], \\\\\"score\\\\\": -0.23, \\\\\"completed\\\\\": false}\", \"{\\\\\"instant\\\\\": 39, \\\\\"action\\\\\": 1, \\\\\"current status\\\\\": [0.168, 1.221, 0.495, -0.519, -0.338, -0.24, 0.0, 0.0], \\\\\"score\\\\\": -1.021, \\\\\"completed\\\\\": false}\", \"{\\\\\"instant\\\\\": 42, \\\\\"action\\\\\": 0, \\\\\"current status\\\\\": [0.182, 1.183, 0.499, -0.599, -0.377, -0.254, 0.0, 0.0], \\\\\"score\\\\\": -2.049, \\\\\"completed\\\\\": false}\", \"{\\\\\"instant\\\\\": 45, \\\\\"action\\\\\": 1, \\\\\"current status\\\\\": [0.197, 1.139, 0.48, -0.675, -0.408, -0.173, 0.0, 0.0], \\\\\"score\\\\\": -0.746, \\\\\"completed\\\\\": false}\", \"{\\\\\"instant\\\\\": 48, \\\\\"action\\\\\": 0, \\\\\"current status\\\\\": [0.212, 1.091, 0.517, -0.724, -0.433, -0.159, 0.0, 0.0], \\\\\"score\\\\\": -1.45, \\\\\"completed\\\\\": false}\", \"{\\\\\"instant\\\\\": 51, \\\\\"action\\\\\": 3, \\\\\"current status\\\\\": [0.227, 1.039, 0.534, -0.81, -0.465, -0.238, 0.0, 0.0], \\\\\"score\\\\\": -2.376, \\\\\"completed\\\\\": false}\", \"{\\\\\"instant\\\\\": 54, \\\\\"action\\\\\": 1, \\\\\"current status\\\\\": [0.244, 0.985, 0.584, -0.801, -0.5, -0.207, 0.0, 0.0], \\\\\"score\\\\\": -0.885, \\\\\"completed\\\\\": false}\", \"{\\\\\"instant\\\\\": 57, \\\\\"action\\\\\": 1, \\\\\"current status\\\\\": [0.261, 0.928, 0.573, -0.877, -0.528, -0.154, 0.0, 0.0], \\\\\"score\\\\\": -0.324, \\\\\"completed\\\\\": false}\", \"{\\\\\"instant\\\\\": 60, \\\\\"action\\\\\": 3, \\\\\"current status\\\\\": [0.278, 0.865, 0.588, -0.963, -0.559, -0.229, 0.0, 0.0], \\\\\"score\\\\\": -2.23, \\\\\"completed\\\\\": false}\", \"{\\\\\"instant\\\\\": 63, \\\\\"action\\\\\": 3, \\\\\"current status\\\\\": [0.298, 0.801, 0.678, -0.965, -0.596, -0.274, 0.0, 0.0], \\\\\"score\\\\\": -2.62, \\\\\"completed\\\\\": false}\", \"{\\\\\"instant\\\\\": 66, \\\\\"action\\\\\": 2, \\\\\"current status\\\\\": [0.321, 0.738, 0.824, -0.921, -0.636, -0.261, 0.0, 0.0], \\\\\"score\\\\\": -1.964, \\\\\"completed\\\\\": false}\", \"{\\\\\"instant\\\\\": 69, \\\\\"action\\\\\": 1, \\\\\"current status\\\\\": [0.346, 0.675, 0.85, -0.949, -0.667, -0.178, 0.0, 0.0], \\\\\"score\\\\\": -0.388, \\\\\"completed\\\\\": false}\", \"{\\\\\"instant\\\\\": 72, \\\\\"action\\\\\": 2, \\\\\"current status\\\\\": [0.372, 0.609, 0.923, -0.984, -0.697, -0.227, 0.0, 0.0], \\\\\"score\\\\\": -1.253, \\\\\"completed\\\\\": false}\", \"{\\\\\"instant\\\\\": 75, \\\\\"action\\\\\": 0, \\\\\"current status\\\\\": [0.4, 0.54, 0.917, -1.061, -0.726, -0.193, 0.0, 0.0], \\\\\"score\\\\\": -1.567, \\\\\"completed\\\\\": false}\", \"{\\\\\"instant\\\\\": 78, \\\\\"action\\\\\": 0, \\\\\"current status\\\\\": [0.427, 0.465, 0.91, -1.136, -0.751, -0.15, 0.0, 0.0], \\\\\"score\\\\\": -1.511, \\\\\"completed\\\\\": false}\", \"{\\\\\"instant\\\\\": 81, \\\\\"action\\\\\": 2, \\\\\"current status\\\\\": [0.455, 0.385, 0.959, -1.209, -0.777, -0.182, 0.0, 0.0], \\\\\"score\\\\\": -3.816, \\\\\"completed\\\\\": false}\", \"{\\\\\"instant\\\\\": 84, \\\\\"action\\\\\": 3, \\\\\"current status\\\\\": [0.483, 0.3, 0.974, -1.299, -0.814, -0.275, 0.0, 0.0], \\\\\"score\\\\\": -3.627, \\\\\"completed\\\\\": false}\", \"{\\\\\"instant\\\\\": 87, \\\\\"action\\\\\": 0, \\\\\"current status\\\\\": [0.513, 0.208, 0.989, -1.39, -0.868, -0.378, 0.0, 0.0], \\\\\"score\\\\\": -3.695, \\\\\"completed\\\\\": false}\", \"{\\\\\"instant\\\\\": 90, \\\\\"action\\\\\": 0, \\\\\"current status\\\\\": [0.543, 0.113, 1.063, -1.438, -0.93, -0.415, 0.0, 0.0], \\\\\"score\\\\\": -4.485, \\\\\"completed\\\\\": false}\", \"{\\\\\"instant\\\\\": 93, \\\\\"action\\\\\": 2, \\\\\"current status\\\\\": [0.574, 0.043, 1.037, -0.325, -1.083, -2.228, 1.0, 0.0], \\\\\"score\\\\\": 60.683, \\\\\"completed\\\\\": false}\", \"{\\\\\"instant\\\\\": 96, \\\\\"action\\\\\": 3, \\\\\"current status\\\\\": [0.607, 0.047, 1.119, -0.077, -1.512, -2.895, 0.0, 0.0], \\\\\"score\\\\\": -25.8, \\\\\"completed\\\\\": false}\", \"{\\\\\"instant\\\\\": 99, \\\\\"action\\\\\": 3, \\\\\"current status\\\\\": [0.643, 0.044, 1.205, -0.156, -1.943, -2.882, 0.0, 0.0], \\\\\"score\\\\\": -15.55, \\\\\"completed\\\\\": false}\", \"{\\\\\"instant\\\\\": 102, \\\\\"action\\\\\": 2, \\\\\"current status\\\\\": [0.682, 0.035, 1.236, -0.257, -2.373, -2.866, 0.0, 0.0], \\\\\"score\\\\\": -20.355, \\\\\"completed\\\\\": false}\", \"{\\\\\"instant\\\\\": 105, \\\\\"action\\\\\": 3, \\\\\"current status\\\\\": [0.723, 0.018, 1.241, -0.326, -2.791, -2.787, 0.0, 0.0], \\\\\"score\\\\\": -15.097, \\\\\"completed\\\\\": false}\", \"{\\\\\"instant\\\\\": 108, \\\\\"action\\\\\": 3, \\\\\"current status\\\\\": [0.764, -0.006, 1.23, -0.403, -3.212, -2.814, 0.0, 0.0], \\\\\"score\\\\\": -15.415, \\\\\"completed\\\\\": false}\", \"{\\\\\"instant\\\\\": 111, \\\\\"action\\\\\": 0, \\\\\"current status\\\\\": [0.805, -0.038, 1.229, -0.477, -3.632, -2.814, 0.0, 0.0], \\\\\"score\\\\\": -16.414, \\\\\"completed\\\\\": false}\", \"{\\\\\"instant\\\\\": 114, \\\\\"action\\\\\": 0, \\\\\"current status\\\\\": [0.844, -0.082, 1.176, -0.608, -4.051, -2.793, 0.0, 0.0], \\\\\"score\\\\\": -16.643, \\\\\"completed\\\\\": false}\", \"{\\\\\"instant\\\\\": 117, \\\\\"action\\\\\": 2, \\\\\"current status\\\\\": [0.88, -0.132, 1.089, -0.693, -4.479, -2.868, 0.0, 0.0], \\\\\"score\\\\\": -11.283, \\\\\"completed\\\\\": false}\", \"{\\\\\"instant\\\\\": 120, \\\\\"action\\\\\": 2, \\\\\"current status\\\\\": [0.912, -0.189, 1.012, -0.777, -4.903, -2.814, 0.0, 1.0], \\\\\"score\\\\\": -0.559, \\\\\"completed\\\\\": false}\", \"{\\\\\"instant\\\\\": 123, \\\\\"action\\\\\": 2, \\\\\"current status\\\\\": [0.944, -0.214, 1.01, -0.428, -4.739, 1.132, 0.0, 1.0], \\\\\"score\\\\\": 9.535, \\\\\"completed\\\\\": false}\", \"{\\\\\"instant\\\\\": 125, \\\\\"action\\\\\": 1, \\\\\"current status\\\\\": [0.965, -0.23, 1.097, -0.285, -4.657, 0.106, 0.0, 1.0], \\\\\"score\\\\\": -100, \\\\\"completed\\\\\": true}\"], \"total score\": -594.5055593765743}'"
      ]
     },
     "execution_count": 10,
     "metadata": {},
     "output_type": "execute_result"
    }
   ],
   "source": [
    "initial_logs = lunar_lander(n_games=2, display=True)\n",
    "initial_logs"
   ]
  },
  {
   "cell_type": "markdown",
   "metadata": {},
   "source": [
    "#### Logs exitosos\n",
    "Utilizar otras semillas para que no memorice el entorno"
   ]
  },
  {
   "cell_type": "code",
   "execution_count": 11,
   "metadata": {},
   "outputs": [
    {
     "name": "stdout",
     "output_type": "stream",
     "text": [
      "Número de instantes: 294. Tamaño de logs: 99\n",
      "episode  1 score 250.956 avg score 0.857\n"
     ]
    },
    {
     "data": {
      "text/plain": [
       "'{\"landing attempt\": 1, \"logs\": [\"{\\\\\"instant\\\\\": 0, \\\\\"action\\\\\": 1, \\\\\"current status\\\\\": [0.004, 1.425, 0.22, 0.295, -0.003, -0.004, 0.0, 0.0], \\\\\"score\\\\\": 2.08, \\\\\"completed\\\\\": false}\", \"{\\\\\"instant\\\\\": 3, \\\\\"action\\\\\": 0, \\\\\"current status\\\\\": [0.011, 1.441, 0.22, 0.215, -0.003, -0.004, 0.0, 0.0], \\\\\"score\\\\\": 1.413, \\\\\"completed\\\\\": false}\", \"{\\\\\"instant\\\\\": 6, \\\\\"action\\\\\": 1, \\\\\"current status\\\\\": [0.018, 1.452, 0.211, 0.135, -0.002, 0.032, 0.0, 0.0], \\\\\"score\\\\\": 2.092, \\\\\"completed\\\\\": false}\", \"{\\\\\"instant\\\\\": 9, \\\\\"action\\\\\": 0, \\\\\"current status\\\\\": [0.024, 1.457, 0.211, 0.055, 0.003, 0.032, 0.0, 0.0], \\\\\"score\\\\\": 0.528, \\\\\"completed\\\\\": false}\", \"{\\\\\"instant\\\\\": 12, \\\\\"action\\\\\": 0, \\\\\"current status\\\\\": [0.03, 1.458, 0.202, -0.026, 0.011, 0.068, 0.0, 0.0], \\\\\"score\\\\\": -0.45, \\\\\"completed\\\\\": false}\", \"{\\\\\"instant\\\\\": 15, \\\\\"action\\\\\": 0, \\\\\"current status\\\\\": [0.036, 1.452, 0.202, -0.106, 0.021, 0.068, 0.0, 0.0], \\\\\"score\\\\\": -1.215, \\\\\"completed\\\\\": false}\", \"{\\\\\"instant\\\\\": 18, \\\\\"action\\\\\": 3, \\\\\"current status\\\\\": [0.043, 1.441, 0.213, -0.185, 0.029, 0.025, 0.0, 0.0], \\\\\"score\\\\\": -2.239, \\\\\"completed\\\\\": false}\", \"{\\\\\"instant\\\\\": 21, \\\\\"action\\\\\": 1, \\\\\"current status\\\\\": [0.049, 1.425, 0.203, -0.266, 0.037, 0.066, 0.0, 0.0], \\\\\"score\\\\\": -1.118, \\\\\"completed\\\\\": false}\", \"{\\\\\"instant\\\\\": 24, \\\\\"action\\\\\": 1, \\\\\"current status\\\\\": [0.056, 1.404, 0.214, -0.346, 0.038, 0.02, 0.0, 0.0], \\\\\"score\\\\\": -1.145, \\\\\"completed\\\\\": false}\", \"{\\\\\"instant\\\\\": 27, \\\\\"action\\\\\": 2, \\\\\"current status\\\\\": [0.062, 1.378, 0.208, -0.393, 0.04, 0.022, 0.0, 0.0], \\\\\"score\\\\\": 1.279, \\\\\"completed\\\\\": false}\", \"{\\\\\"instant\\\\\": 30, \\\\\"action\\\\\": 1, \\\\\"current status\\\\\": [0.068, 1.352, 0.195, -0.411, 0.04, 0.014, 0.0, 0.0], \\\\\"score\\\\\": -1.205, \\\\\"completed\\\\\": false}\", \"{\\\\\"instant\\\\\": 33, \\\\\"action\\\\\": 3, \\\\\"current status\\\\\": [0.074, 1.326, 0.203, -0.387, 0.041, -0.012, 0.0, 0.0], \\\\\"score\\\\\": -1.801, \\\\\"completed\\\\\": false}\", \"{\\\\\"instant\\\\\": 36, \\\\\"action\\\\\": 2, \\\\\"current status\\\\\": [0.08, 1.3, 0.184, -0.38, 0.047, 0.034, 0.0, 0.0], \\\\\"score\\\\\": 0.83, \\\\\"completed\\\\\": false}\", \"{\\\\\"instant\\\\\": 39, \\\\\"action\\\\\": 3, \\\\\"current status\\\\\": [0.085, 1.274, 0.192, -0.386, 0.05, -0.005, 0.0, 0.0], \\\\\"score\\\\\": -1.996, \\\\\"completed\\\\\": false}\", \"{\\\\\"instant\\\\\": 42, \\\\\"action\\\\\": 2, \\\\\"current status\\\\\": [0.09, 1.249, 0.169, -0.361, 0.051, 0.018, 0.0, 0.0], \\\\\"score\\\\\": 3.903, \\\\\"completed\\\\\": false}\", \"{\\\\\"instant\\\\\": 45, \\\\\"action\\\\\": 2, \\\\\"current status\\\\\": [0.096, 1.222, 0.161, -0.397, 0.049, -0.003, 0.0, 0.0], \\\\\"score\\\\\": 2.616, \\\\\"completed\\\\\": false}\", \"{\\\\\"instant\\\\\": 48, \\\\\"action\\\\\": 2, \\\\\"current status\\\\\": [0.1, 1.196, 0.16, -0.367, 0.05, 0.003, 0.0, 0.0], \\\\\"score\\\\\": 1.501, \\\\\"completed\\\\\": false}\", \"{\\\\\"instant\\\\\": 51, \\\\\"action\\\\\": 3, \\\\\"current status\\\\\": [0.105, 1.171, 0.165, -0.388, 0.054, 0.001, 0.0, 0.0], \\\\\"score\\\\\": -2.018, \\\\\"completed\\\\\": false}\", \"{\\\\\"instant\\\\\": 54, \\\\\"action\\\\\": 2, \\\\\"current status\\\\\": [0.11, 1.145, 0.154, -0.393, 0.059, 0.047, 0.0, 0.0], \\\\\"score\\\\\": 0.279, \\\\\"completed\\\\\": false}\", \"{\\\\\"instant\\\\\": 57, \\\\\"action\\\\\": 2, \\\\\"current status\\\\\": [0.114, 1.119, 0.15, -0.375, 0.065, 0.053, 0.0, 0.0], \\\\\"score\\\\\": 0.32, \\\\\"completed\\\\\": false}\", \"{\\\\\"instant\\\\\": 60, \\\\\"action\\\\\": 2, \\\\\"current status\\\\\": [0.119, 1.095, 0.14, -0.337, 0.069, 0.017, 0.0, 0.0], \\\\\"score\\\\\": 4.455, \\\\\"completed\\\\\": false}\", \"{\\\\\"instant\\\\\": 63, \\\\\"action\\\\\": 2, \\\\\"current status\\\\\": [0.123, 1.07, 0.133, -0.35, 0.071, 0.027, 0.0, 0.0], \\\\\"score\\\\\": 4.269, \\\\\"completed\\\\\": false}\", \"{\\\\\"instant\\\\\": 66, \\\\\"action\\\\\": 2, \\\\\"current status\\\\\": [0.127, 1.046, 0.117, -0.348, 0.069, -0.023, 0.0, 0.0], \\\\\"score\\\\\": 2.82, \\\\\"completed\\\\\": false}\", \"{\\\\\"instant\\\\\": 69, \\\\\"action\\\\\": 2, \\\\\"current status\\\\\": [0.13, 1.021, 0.111, -0.369, 0.071, 0.016, 0.0, 0.0], \\\\\"score\\\\\": 0.527, \\\\\"completed\\\\\": false}\", \"{\\\\\"instant\\\\\": 72, \\\\\"action\\\\\": 2, \\\\\"current status\\\\\": [0.134, 0.995, 0.135, -0.383, 0.071, -0.009, 0.0, 0.0], \\\\\"score\\\\\": 0.435, \\\\\"completed\\\\\": false}\", \"{\\\\\"instant\\\\\": 75, \\\\\"action\\\\\": 1, \\\\\"current status\\\\\": [0.137, 0.97, 0.098, -0.381, 0.068, 0.004, 0.0, 0.0], \\\\\"score\\\\\": -1.563, \\\\\"completed\\\\\": false}\", \"{\\\\\"instant\\\\\": 78, \\\\\"action\\\\\": 2, \\\\\"current status\\\\\": [0.14, 0.946, 0.118, -0.35, 0.072, 0.035, 0.0, 0.0], \\\\\"score\\\\\": 0.819, \\\\\"completed\\\\\": false}\", \"{\\\\\"instant\\\\\": 81, \\\\\"action\\\\\": 2, \\\\\"current status\\\\\": [0.144, 0.922, 0.112, -0.334, 0.07, -0.022, 0.0, 0.0], \\\\\"score\\\\\": 4.148, \\\\\"completed\\\\\": false}\", \"{\\\\\"instant\\\\\": 84, \\\\\"action\\\\\": 3, \\\\\"current status\\\\\": [0.147, 0.898, 0.104, -0.366, 0.069, -0.039, 0.0, 0.0], \\\\\"score\\\\\": -1.816, \\\\\"completed\\\\\": false}\", \"{\\\\\"instant\\\\\": 87, \\\\\"action\\\\\": 2, \\\\\"current status\\\\\": [0.149, 0.874, 0.059, -0.34, 0.065, -0.017, 0.0, 0.0], \\\\\"score\\\\\": 4.722, \\\\\"completed\\\\\": false}\", \"{\\\\\"instant\\\\\": 90, \\\\\"action\\\\\": 2, \\\\\"current status\\\\\": [0.151, 0.849, 0.067, -0.369, 0.061, -0.005, 0.0, 0.0], \\\\\"score\\\\\": 2.859, \\\\\"completed\\\\\": false}\", \"{\\\\\"instant\\\\\": 93, \\\\\"action\\\\\": 3, \\\\\"current status\\\\\": [0.153, 0.825, 0.077, -0.356, 0.059, -0.028, 0.0, 0.0], \\\\\"score\\\\\": -1.862, \\\\\"completed\\\\\": false}\", \"{\\\\\"instant\\\\\": 96, \\\\\"action\\\\\": 2, \\\\\"current status\\\\\": [0.154, 0.8, 0.054, -0.385, 0.057, -0.0, 0.0, 0.0], \\\\\"score\\\\\": 0.799, \\\\\"completed\\\\\": false}\", \"{\\\\\"instant\\\\\": 99, \\\\\"action\\\\\": 2, \\\\\"current status\\\\\": [0.156, 0.777, 0.063, -0.319, 0.059, 0.021, 0.0, 0.0], \\\\\"score\\\\\": 3.197, \\\\\"completed\\\\\": false}\", \"{\\\\\"instant\\\\\": 102, \\\\\"action\\\\\": 1, \\\\\"current status\\\\\": [0.158, 0.755, 0.052, -0.333, 0.059, 0.025, 0.0, 0.0], \\\\\"score\\\\\": -1.941, \\\\\"completed\\\\\": false}\", \"{\\\\\"instant\\\\\": 105, \\\\\"action\\\\\": 2, \\\\\"current status\\\\\": [0.16, 0.731, 0.076, -0.351, 0.057, -0.008, 0.0, 0.0], \\\\\"score\\\\\": 0.286, \\\\\"completed\\\\\": false}\", \"{\\\\\"instant\\\\\": 108, \\\\\"action\\\\\": 2, \\\\\"current status\\\\\": [0.162, 0.709, 0.045, -0.311, 0.058, 0.024, 0.0, 0.0], \\\\\"score\\\\\": 4.417, \\\\\"completed\\\\\": false}\", \"{\\\\\"instant\\\\\": 111, \\\\\"action\\\\\": 2, \\\\\"current status\\\\\": [0.163, 0.684, 0.032, -0.367, 0.057, -0.001, 0.0, 0.0], \\\\\"score\\\\\": 0.364, \\\\\"completed\\\\\": false}\", \"{\\\\\"instant\\\\\": 114, \\\\\"action\\\\\": 2, \\\\\"current status\\\\\": [0.164, 0.661, 0.055, -0.333, 0.055, -0.019, 0.0, 0.0], \\\\\"score\\\\\": 2.887, \\\\\"completed\\\\\": false}\", \"{\\\\\"instant\\\\\": 117, \\\\\"action\\\\\": 3, \\\\\"current status\\\\\": [0.166, 0.637, 0.051, -0.372, 0.056, -0.027, 0.0, 0.0], \\\\\"score\\\\\": -1.826, \\\\\"completed\\\\\": false}\", \"{\\\\\"instant\\\\\": 120, \\\\\"action\\\\\": 1, \\\\\"current status\\\\\": [0.167, 0.613, 0.032, -0.373, 0.054, 0.02, 0.0, 0.0], \\\\\"score\\\\\": -1.863, \\\\\"completed\\\\\": false}\", \"{\\\\\"instant\\\\\": 123, \\\\\"action\\\\\": 2, \\\\\"current status\\\\\": [0.168, 0.588, 0.026, -0.359, 0.058, 0.022, 0.0, 0.0], \\\\\"score\\\\\": 1.555, \\\\\"completed\\\\\": false}\", \"{\\\\\"instant\\\\\": 126, \\\\\"action\\\\\": 2, \\\\\"current status\\\\\": [0.168, 0.563, 0.0, -0.374, 0.054, -0.039, 0.0, 0.0], \\\\\"score\\\\\": 0.886, \\\\\"completed\\\\\": false}\", \"{\\\\\"instant\\\\\": 129, \\\\\"action\\\\\": 2, \\\\\"current status\\\\\": [0.168, 0.538, -0.02, -0.348, 0.047, -0.05, 0.0, 0.0], \\\\\"score\\\\\": 3.486, \\\\\"completed\\\\\": false}\", \"{\\\\\"instant\\\\\": 132, \\\\\"action\\\\\": 3, \\\\\"current status\\\\\": [0.167, 0.514, -0.013, -0.365, 0.045, -0.032, 0.0, 0.0], \\\\\"score\\\\\": -1.729, \\\\\"completed\\\\\": false}\", \"{\\\\\"instant\\\\\": 135, \\\\\"action\\\\\": 1, \\\\\"current status\\\\\": [0.166, 0.49, -0.041, -0.362, 0.041, -0.001, 0.0, 0.0], \\\\\"score\\\\\": -2.079, \\\\\"completed\\\\\": false}\", \"{\\\\\"instant\\\\\": 138, \\\\\"action\\\\\": 2, \\\\\"current status\\\\\": [0.165, 0.466, -0.07, -0.314, 0.034, -0.061, 0.0, 0.0], \\\\\"score\\\\\": 4.248, \\\\\"completed\\\\\": false}\", \"{\\\\\"instant\\\\\": 141, \\\\\"action\\\\\": 2, \\\\\"current status\\\\\": [0.163, 0.443, -0.064, -0.333, 0.021, -0.071, 0.0, 0.0], \\\\\"score\\\\\": 4.077, \\\\\"completed\\\\\": false}\", \"{\\\\\"instant\\\\\": 144, \\\\\"action\\\\\": 3, \\\\\"current status\\\\\": [0.16, 0.419, -0.067, -0.364, 0.015, -0.062, 0.0, 0.0], \\\\\"score\\\\\": -1.297, \\\\\"completed\\\\\": false}\", \"{\\\\\"instant\\\\\": 147, \\\\\"action\\\\\": 2, \\\\\"current status\\\\\": [0.158, 0.395, -0.078, -0.357, 0.011, -0.013, 0.0, 0.0], \\\\\"score\\\\\": 2.316, \\\\\"completed\\\\\": false}\", \"{\\\\\"instant\\\\\": 150, \\\\\"action\\\\\": 3, \\\\\"current status\\\\\": [0.156, 0.371, -0.079, -0.363, 0.006, -0.067, 0.0, 0.0], \\\\\"score\\\\\": -1.251, \\\\\"completed\\\\\": false}\", \"{\\\\\"instant\\\\\": 153, \\\\\"action\\\\\": 1, \\\\\"current status\\\\\": [0.153, 0.348, -0.075, -0.34, 0.0, -0.013, 0.0, 0.0], \\\\\"score\\\\\": -2.061, \\\\\"completed\\\\\": false}\", \"{\\\\\"instant\\\\\": 156, \\\\\"action\\\\\": 3, \\\\\"current status\\\\\": [0.151, 0.326, -0.07, -0.357, 0.001, -0.005, 0.0, 0.0], \\\\\"score\\\\\": -1.649, \\\\\"completed\\\\\": false}\", \"{\\\\\"instant\\\\\": 159, \\\\\"action\\\\\": 1, \\\\\"current status\\\\\": [0.149, 0.305, -0.078, -0.324, 0.002, 0.035, 0.0, 0.0], \\\\\"score\\\\\": -2.364, \\\\\"completed\\\\\": false}\", \"{\\\\\"instant\\\\\": 162, \\\\\"action\\\\\": 2, \\\\\"current status\\\\\": [0.147, 0.281, -0.036, -0.347, 0.003, 0.021, 0.0, 0.0], \\\\\"score\\\\\": 0.805, \\\\\"completed\\\\\": false}\", \"{\\\\\"instant\\\\\": 165, \\\\\"action\\\\\": 1, \\\\\"current status\\\\\": [0.147, 0.261, -0.034, -0.306, 0.01, 0.079, 0.0, 0.0], \\\\\"score\\\\\": -2.523, \\\\\"completed\\\\\": false}\", \"{\\\\\"instant\\\\\": 168, \\\\\"action\\\\\": 2, \\\\\"current status\\\\\": [0.145, 0.241, -0.039, -0.286, 0.016, 0.034, 0.0, 0.0], \\\\\"score\\\\\": 2.398, \\\\\"completed\\\\\": false}\", \"{\\\\\"instant\\\\\": 171, \\\\\"action\\\\\": 1, \\\\\"current status\\\\\": [0.144, 0.221, -0.037, -0.321, 0.019, 0.027, 0.0, 0.0], \\\\\"score\\\\\": -2.302, \\\\\"completed\\\\\": false}\", \"{\\\\\"instant\\\\\": 174, \\\\\"action\\\\\": 2, \\\\\"current status\\\\\": [0.142, 0.203, -0.072, -0.252, 0.019, -0.002, 0.0, 0.0], \\\\\"score\\\\\": 2.742, \\\\\"completed\\\\\": false}\", \"{\\\\\"instant\\\\\": 177, \\\\\"action\\\\\": 1, \\\\\"current status\\\\\": [0.141, 0.184, -0.059, -0.292, 0.016, 0.012, 0.0, 0.0], \\\\\"score\\\\\": -2.342, \\\\\"completed\\\\\": false}\", \"{\\\\\"instant\\\\\": 180, \\\\\"action\\\\\": 2, \\\\\"current status\\\\\": [0.138, 0.167, -0.083, -0.234, 0.016, -0.008, 0.0, 0.0], \\\\\"score\\\\\": 3.916, \\\\\"completed\\\\\": false}\", \"{\\\\\"instant\\\\\": 183, \\\\\"action\\\\\": 2, \\\\\"current status\\\\\": [0.136, 0.154, -0.065, -0.164, 0.017, 0.014, 0.0, 0.0], \\\\\"score\\\\\": 2.989, \\\\\"completed\\\\\": false}\", \"{\\\\\"instant\\\\\": 186, \\\\\"action\\\\\": 2, \\\\\"current status\\\\\": [0.135, 0.14, -0.048, -0.215, 0.015, 0.007, 0.0, 0.0], \\\\\"score\\\\\": 0.55, \\\\\"completed\\\\\": false}\", \"{\\\\\"instant\\\\\": 189, \\\\\"action\\\\\": 1, \\\\\"current status\\\\\": [0.133, 0.127, -0.068, -0.192, 0.017, 0.041, 0.0, 0.0], \\\\\"score\\\\\": -2.799, \\\\\"completed\\\\\": false}\", \"{\\\\\"instant\\\\\": 192, \\\\\"action\\\\\": 2, \\\\\"current status\\\\\": [0.131, 0.116, -0.053, -0.173, 0.019, 0.01, 0.0, 0.0], \\\\\"score\\\\\": 1.411, \\\\\"completed\\\\\": false}\", \"{\\\\\"instant\\\\\": 195, \\\\\"action\\\\\": 1, \\\\\"current status\\\\\": [0.129, 0.108, -0.065, -0.124, 0.021, 0.042, 0.0, 0.0], \\\\\"score\\\\\": -2.775, \\\\\"completed\\\\\": false}\", \"{\\\\\"instant\\\\\": 198, \\\\\"action\\\\\": 2, \\\\\"current status\\\\\": [0.128, 0.096, -0.049, -0.176, 0.025, 0.043, 0.0, 0.0], \\\\\"score\\\\\": 0.251, \\\\\"completed\\\\\": false}\", \"{\\\\\"instant\\\\\": 201, \\\\\"action\\\\\": 2, \\\\\"current status\\\\\": [0.126, 0.085, -0.038, -0.169, 0.031, 0.057, 0.0, 0.0], \\\\\"score\\\\\": 0.571, \\\\\"completed\\\\\": false}\", \"{\\\\\"instant\\\\\": 204, \\\\\"action\\\\\": 2, \\\\\"current status\\\\\": [0.124, 0.075, -0.066, -0.12, 0.037, 0.037, 0.0, 0.0], \\\\\"score\\\\\": 2.295, \\\\\"completed\\\\\": false}\", \"{\\\\\"instant\\\\\": 207, \\\\\"action\\\\\": 2, \\\\\"current status\\\\\": [0.123, 0.065, -0.057, -0.134, 0.039, 0.033, 0.0, 0.0], \\\\\"score\\\\\": 3.669, \\\\\"completed\\\\\": false}\", \"{\\\\\"instant\\\\\": 210, \\\\\"action\\\\\": 2, \\\\\"current status\\\\\": [0.12, 0.054, -0.079, -0.16, 0.048, 0.056, 0.0, 0.0], \\\\\"score\\\\\": -0.221, \\\\\"completed\\\\\": false}\", \"{\\\\\"instant\\\\\": 213, \\\\\"action\\\\\": 2, \\\\\"current status\\\\\": [0.118, 0.044, -0.1, -0.12, 0.048, -0.008, 0.0, 0.0], \\\\\"score\\\\\": 1.605, \\\\\"completed\\\\\": false}\", \"{\\\\\"instant\\\\\": 216, \\\\\"action\\\\\": 3, \\\\\"current status\\\\\": [0.115, 0.035, -0.079, -0.131, 0.039, -0.09, 0.0, 0.0], \\\\\"score\\\\\": -0.975, \\\\\"completed\\\\\": false}\", \"{\\\\\"instant\\\\\": 219, \\\\\"action\\\\\": 2, \\\\\"current status\\\\\": [0.112, 0.026, -0.114, -0.128, 0.029, -0.08, 0.0, 0.0], \\\\\"score\\\\\": -0.458, \\\\\"completed\\\\\": false}\", \"{\\\\\"instant\\\\\": 222, \\\\\"action\\\\\": 1, \\\\\"current status\\\\\": [0.109, 0.018, -0.119, -0.139, 0.014, -0.077, 0.0, 0.0], \\\\\"score\\\\\": -2.236, \\\\\"completed\\\\\": false}\", \"{\\\\\"instant\\\\\": 225, \\\\\"action\\\\\": 2, \\\\\"current status\\\\\": [0.105, 0.011, -0.122, -0.098, 0.006, -0.033, 0.0, 0.0], \\\\\"score\\\\\": 2.885, \\\\\"completed\\\\\": false}\", \"{\\\\\"instant\\\\\": 228, \\\\\"action\\\\\": 3, \\\\\"current status\\\\\": [0.101, 0.003, -0.125, -0.137, 0.006, -0.027, 0.0, 0.0], \\\\\"score\\\\\": -1.037, \\\\\"completed\\\\\": false}\", \"{\\\\\"instant\\\\\": 231, \\\\\"action\\\\\": 2, \\\\\"current status\\\\\": [0.097, -0.003, -0.12, -0.031, 0.001, -0.019, 1.0, 1.0], \\\\\"score\\\\\": 24.449, \\\\\"completed\\\\\": false}\", \"{\\\\\"instant\\\\\": 234, \\\\\"action\\\\\": 0, \\\\\"current status\\\\\": [0.094, -0.002, -0.088, 0.042, 0.002, 0.009, 1.0, 1.0], \\\\\"score\\\\\": 0.319, \\\\\"completed\\\\\": false}\", \"{\\\\\"instant\\\\\": 237, \\\\\"action\\\\\": 0, \\\\\"current status\\\\\": [0.091, -0.001, -0.08, -0.0, -0.009, 0.001, 1.0, 0.0], \\\\\"score\\\\\": -9.578, \\\\\"completed\\\\\": false}\", \"{\\\\\"instant\\\\\": 240, \\\\\"action\\\\\": 2, \\\\\"current status\\\\\": [0.089, 0.001, -0.081, 0.02, -0.002, 0.051, 1.0, 0.0], \\\\\"score\\\\\": 0.256, \\\\\"completed\\\\\": false}\", \"{\\\\\"instant\\\\\": 243, \\\\\"action\\\\\": 0, \\\\\"current status\\\\\": [0.087, 0.001, -0.08, -0.02, 0.006, 0.052, 0.0, 0.0], \\\\\"score\\\\\": -0.387, \\\\\"completed\\\\\": false}\", \"{\\\\\"instant\\\\\": 246, \\\\\"action\\\\\": 2, \\\\\"current status\\\\\": [0.084, -0.001, -0.089, -0.0, -0.009, 0.0, 1.0, 0.0], \\\\\"score\\\\\": 0.542, \\\\\"completed\\\\\": false}\", \"{\\\\\"instant\\\\\": 249, \\\\\"action\\\\\": 2, \\\\\"current status\\\\\": [0.082, 0.002, -0.09, 0.042, 0.005, 0.075, 0.0, 0.0], \\\\\"score\\\\\": -12.119, \\\\\"completed\\\\\": false}\", \"{\\\\\"instant\\\\\": 252, \\\\\"action\\\\\": 0, \\\\\"current status\\\\\": [0.079, 0.001, -0.086, -0.024, 0.008, -0.087, 0.0, 1.0], \\\\\"score\\\\\": 10.638, \\\\\"completed\\\\\": false}\", \"{\\\\\"instant\\\\\": 255, \\\\\"action\\\\\": 0, \\\\\"current status\\\\\": [0.077, 0.0, -0.075, 0.0, -0.0, -0.0, 1.0, 1.0], \\\\\"score\\\\\": 0.658, \\\\\"completed\\\\\": false}\", \"{\\\\\"instant\\\\\": 258, \\\\\"action\\\\\": 0, \\\\\"current status\\\\\": [0.075, 0.0, -0.058, -0.0, -0.0, 0.0, 1.0, 1.0], \\\\\"score\\\\\": 0.624, \\\\\"completed\\\\\": false}\", \"{\\\\\"instant\\\\\": 261, \\\\\"action\\\\\": 0, \\\\\"current status\\\\\": [0.073, 0.0, -0.041, 0.0, -0.0, -0.0, 1.0, 1.0], \\\\\"score\\\\\": 0.607, \\\\\"completed\\\\\": false}\", \"{\\\\\"instant\\\\\": 264, \\\\\"action\\\\\": 0, \\\\\"current status\\\\\": [0.072, 0.0, -0.024, 0.0, -0.0, -0.0, 1.0, 1.0], \\\\\"score\\\\\": 0.59, \\\\\"completed\\\\\": false}\", \"{\\\\\"instant\\\\\": 267, \\\\\"action\\\\\": 0, \\\\\"current status\\\\\": [0.072, 0.0, -0.007, 0.0, -0.0, -0.0, 1.0, 1.0], \\\\\"score\\\\\": 0.573, \\\\\"completed\\\\\": false}\", \"{\\\\\"instant\\\\\": 270, \\\\\"action\\\\\": 0, \\\\\"current status\\\\\": [0.072, 0.0, 0.001, 0.0, -0.0, -0.0, 1.0, 1.0], \\\\\"score\\\\\": -0.016, \\\\\"completed\\\\\": false}\", \"{\\\\\"instant\\\\\": 273, \\\\\"action\\\\\": 0, \\\\\"current status\\\\\": [0.072, 0.0, -0.0, -0.0, -0.0, 0.0, 1.0, 1.0], \\\\\"score\\\\\": -0.012, \\\\\"completed\\\\\": false}\", \"{\\\\\"instant\\\\\": 276, \\\\\"action\\\\\": 0, \\\\\"current status\\\\\": [0.072, 0.0, 0.0, 0.0, -0.0, -0.0, 1.0, 1.0], \\\\\"score\\\\\": -0.004, \\\\\"completed\\\\\": false}\", \"{\\\\\"instant\\\\\": 279, \\\\\"action\\\\\": 0, \\\\\"current status\\\\\": [0.072, 0.0, -0.0, -0.0, -0.0, 0.0, 1.0, 1.0], \\\\\"score\\\\\": -0.0, \\\\\"completed\\\\\": false}\", \"{\\\\\"instant\\\\\": 282, \\\\\"action\\\\\": 0, \\\\\"current status\\\\\": [0.072, 0.0, 0.0, 0.0, -0.0, -0.0, 1.0, 1.0], \\\\\"score\\\\\": 0.0, \\\\\"completed\\\\\": false}\", \"{\\\\\"instant\\\\\": 285, \\\\\"action\\\\\": 0, \\\\\"current status\\\\\": [0.072, 0.0, -0.0, -0.0, -0.0, 0.0, 1.0, 1.0], \\\\\"score\\\\\": 0.0, \\\\\"completed\\\\\": false}\", \"{\\\\\"instant\\\\\": 288, \\\\\"action\\\\\": 0, \\\\\"current status\\\\\": [0.072, 0.0, -0.0, -0.0, -0.0, 0.0, 1.0, 1.0], \\\\\"score\\\\\": 0.0, \\\\\"completed\\\\\": false}\", \"{\\\\\"instant\\\\\": 291, \\\\\"action\\\\\": 0, \\\\\"current status\\\\\": [0.072, 0.0, 0.0, 0.0, -0.0, -0.0, 1.0, 1.0], \\\\\"score\\\\\": 0.0, \\\\\"completed\\\\\": false}\", \"{\\\\\"instant\\\\\": 292, \\\\\"action\\\\\": 0, \\\\\"current status\\\\\": [0.072, 0.0, 0.0, 0.0, -0.0, 0.0, 1.0, 1.0], \\\\\"score\\\\\": 100, \\\\\"completed\\\\\": true}\"], \"total score\": 250.95603853587886}'"
      ]
     },
     "execution_count": 11,
     "metadata": {},
     "output_type": "execute_result"
    }
   ],
   "source": [
    "import DuelingDQN\n",
    "\n",
    "agent = DuelingDQN.Agent(num_observaciones=8, num_acciones=4, red_modelo=DuelingDQN.DuelingQNetwork, seed=0)\n",
    "# Cargamos los pesos del agente entrenado.\n",
    "agent.load_weights('checkpoint_Dueling.pth')\n",
    "\n",
    "success_logs = lunar_lander(n_games=1, display=True, seed=42, agent=agent)\n",
    "success_logs"
   ]
  },
  {
   "cell_type": "markdown",
   "metadata": {},
   "source": [
    "#### Bucle iterativo"
   ]
  },
  {
   "cell_type": "code",
   "execution_count": 12,
   "metadata": {},
   "outputs": [],
   "source": [
    "import traceback, importlib\n",
    "import Action\n",
    "\n",
    "Action = importlib.reload(Action)\n",
    "\n",
    "def create_and_run_llm_loop(Incial_msg, logger, model=\"gpt-3.5-turbo\", num_iterations=10):\n",
    "    \n",
    "    agente = AssistantOpenAI(ARCLABKEY_OPENAI)\n",
    "\n",
    "    # Crea un asistente\n",
    "    asistente = agente.create_assistant(model=model, description=DESCRIPTION, instructions=INSTRUCTIONS, name=NAME, tools=TOOLS)\n",
    "    \n",
    "    # Crea un hilo\n",
    "    hilo = agente.create_thread()\n",
    "    \n",
    "    # Añade un mensaje inicial al hilo.\n",
    "    msg = agente.add_message(hilo.id, role=\"user\", content=Incial_msg)\n",
    "\n",
    "    for i in range(num_iterations):\n",
    "        \n",
    "        logger.info(f\"Iteration: {i+1}\")\n",
    "        compiled = False\n",
    "\n",
    "        while not compiled:\n",
    "            # Ejecuta el hilo\n",
    "            ejecucion = agente.run(hilo.id, asistente.id)\n",
    "            response = agente.get_run(ejecucion.id, hilo.id)\n",
    "\n",
    "            # Obtén la respuesta utilizando un bucle de espera a que la respuesta esté lista.\n",
    "            while response.status not in [\"completed\", \"failed\", \"requires_action\"]:\n",
    "                logger.info(f\"Status: {ejecucion.status}\")\n",
    "                response = agente.get_run(ejecucion.id, hilo.id)\n",
    "                time.sleep(20)\n",
    "\n",
    "            #print(f\"Status: {response.status}\")\n",
    "            logger.info(f\"Status: {response.status}\")\n",
    "            if response.status == \"completed\":\n",
    "                return response\n",
    "            tool_call = response.required_action.submit_tool_outputs.tool_calls\n",
    "            print(f\"Tool call: {tool_call}\")\n",
    "            #code = tool_call.function.arguments[0]\n",
    "            # Convierte el string a un diccionario\n",
    "            code_dict = json.loads(tool_call[0].function.arguments)\n",
    "            logger.info(f\"Arguments: {code_dict}\")\n",
    "            # Obtén el código Python de la llamada a la herramienta\n",
    "            code = code_dict[\"code\"]\n",
    "            filename = code_dict[\"filename\"]  \n",
    "\n",
    "            logger.info(f\"\\nCodigo generado:\\n{code}\")\n",
    "\n",
    "            # Ejecuta el código Python\n",
    "            try:\n",
    "                #exec(code)\n",
    "                store_code_in_file(code, filename)\n",
    "                time.sleep(1) # Pequeño retraso para que el sistema operativo pueda reflejar los cambios en el archivo\n",
    "                \n",
    "                # Hacemos commit de los cambios en el repositorio para analizar las modificaciones del agente.\n",
    "                commit_changes(r\"C:\\Users\\adria\\Repos\\TFM__LLM_landing_self-refinement\", f\"First execution. Iteration {i+1}.\")\n",
    "                \n",
    "                importlib.reload(Action)\n",
    "\n",
    "                # Ejecutamos el código generado.\n",
    "                logs = lunar_lander(n_games=1, display=True)\n",
    "                \n",
    "                for call in tool_call:\n",
    "                    agente.devolver_respuesta(response.id, hilo.id, tool_outputs=[{\"tool_call_id\": call.id, \"output\": \"Run successful.\"}])            \n",
    "                compiled = True\n",
    "                logger.info(f\"Compilación exitosa.\")\n",
    "                # logger.info(f\"Partida: {ref.game.game_log()}\")\n",
    "                while response.status not in [\"completed\", \"failed\", \"expired\"]:\n",
    "                    logger.info(f\"Status: {response.status}\")\n",
    "                    response = agente.get_run(response.id, hilo.id)\n",
    "                    time.sleep(20)\n",
    "                \n",
    "                msg = f\"\"\"These are the logs generated in the last execution{logs}. You have to improve the last code generated to maximize the reward. Please, make it more efficient, faster and more robust.\"\"\"\n",
    "                logger.info(msg)    \n",
    "                agente.add_message(hilo.id, role=\"user\", content=msg)\n",
    "                \n",
    "            except Exception as e:\n",
    "                logger.exception(\"Error: %s\", e)\n",
    "                error_trace = traceback.format_exc()\n",
    "                for call in tool_call:\n",
    "                    agente.devolver_respuesta(response.id, hilo.id, tool_outputs=[{\"tool_call_id\": call.id, \"output\": \"ERROR.\"}]) \n",
    "                logger.error(f\"Error: {e}.\")\n",
    "                while response.status not in [\"completed\", \"failed\", \"expired\"]:\n",
    "                    logger.info(f\"Status: {response.status}\")\n",
    "                    response = agente.get_run(ejecucion.id, hilo.id)\n",
    "                    time.sleep(30)\n",
    "                msg = f\"The code generated has an error. Please, try again. Error: {e}. Trace: {error_trace}\"   \n",
    "                logger.error(msg)   \n",
    "                agente.add_message(hilo.id, role=\"assistant\", content=msg)\n",
    "    \n",
    "    agente.mostrar_mensajes(hilo.id)  \n",
    "    vaciar_agente(agente)\n",
    "    \n",
    "    logger.info(\"\\nEjecución finalizada.\\n\\n\")       \n",
    "\n",
    "    return response\n",
    "\n",
    "\n",
    "def vaciar_agente(agente):\n",
    "    for assistant in agente.assistants:\n",
    "        agente.delete_assistant(assistant)\n",
    "\n",
    "    for thread in agente.threads:\n",
    "        agente.delete_thread(thread)\n",
    "        \n",
    "    print(\"Asistente vaciado.\")\n"
   ]
  },
  {
   "cell_type": "markdown",
   "metadata": {},
   "source": [
    "#### Logger"
   ]
  },
  {
   "cell_type": "code",
   "execution_count": 13,
   "metadata": {},
   "outputs": [],
   "source": [
    "def configura_log(nombre_archivo):\n",
    "    \"\"\" \n",
    "    Configura el logger para que guarde los logs en un archivo y los muestre en la consola.\n",
    "    \n",
    "    Args:\n",
    "        nombre_archivo: str Nombre del archivo donde se guardarán los logs.\n",
    "        \n",
    "    Returns:\n",
    "        logger: logging.Logger Objeto logger configurado.\n",
    "    \"\"\"\n",
    "    # Crear la carpeta logs si no existe\n",
    "    if not os.path.exists('logs'):\n",
    "        os.makedirs('logs')\n",
    "    # Configura el logger\n",
    "    logging.basicConfig(filename=f'logs/{nombre_archivo}', level=logging.INFO, format='%(asctime)s - %(levelname)s - %(message)s')\n",
    "    logger = logging.getLogger()\n",
    "    \n",
    "    # Añade un StreamHandler para mostrar los logs en la consola\n",
    "    console_handler = logging.StreamHandler()\n",
    "    console_handler.setLevel(logging.INFO)\n",
    "    formatter = logging.Formatter('%(asctime)s - %(levelname)s - %(message)s')\n",
    "    console_handler.setFormatter(formatter)\n",
    "    logger.addHandler(console_handler)\n",
    "    \n",
    "    return logger\n",
    "\n",
    "def summarize_logs(logs):\n",
    "    \"\"\" Summarize the logs of the Lunar Lander game\n",
    "    \n",
    "    Args:\n",
    "        logs: dict: logs of the game\n",
    "        \n",
    "    Returns:\n",
    "        str: summary of the logs\n",
    "    \"\"\"\n",
    "    rewards = logs['rewards']\n",
    "    actions = logs['actions']\n",
    "\n",
    "    reward_summary = f\"Average reward: {np.mean(rewards)}, Max reward: {np.max(rewards)}, Min reward: {np.min(rewards)}\"\n",
    "    action_summary = f\"Action frequencies: {np.bincount(actions)}\"\n",
    "\n",
    "    return reward_summary + \"\\n\" + action_summary"
   ]
  },
  {
   "cell_type": "markdown",
   "metadata": {},
   "source": [
    "### Ejecución con el asistente"
   ]
  },
  {
   "cell_type": "code",
   "execution_count": 14,
   "metadata": {},
   "outputs": [
    {
     "name": "stderr",
     "output_type": "stream",
     "text": [
      "2024-06-11 14:05:47,308 - INFO - HTTP Request: POST https://api.openai.com/v1/assistants \"HTTP/1.1 200 OK\"\n",
      "2024-06-11 14:05:47,528 - INFO - HTTP Request: POST https://api.openai.com/v1/threads \"HTTP/1.1 200 OK\"\n",
      "2024-06-11 14:05:47,775 - INFO - HTTP Request: POST https://api.openai.com/v1/threads/thread_sB9j9AzEzvc0kV95yd4yYl5x/messages \"HTTP/1.1 200 OK\"\n",
      "2024-06-11 14:05:47,912 - INFO - Iteration: 1\n",
      "2024-06-11 14:05:49,278 - INFO - HTTP Request: POST https://api.openai.com/v1/threads/thread_sB9j9AzEzvc0kV95yd4yYl5x/runs \"HTTP/1.1 200 OK\"\n",
      "2024-06-11 14:05:49,537 - INFO - HTTP Request: GET https://api.openai.com/v1/threads/thread_sB9j9AzEzvc0kV95yd4yYl5x/runs/run_qZsqpJqAZD4sVPHhlTbtJfCp \"HTTP/1.1 200 OK\"\n",
      "2024-06-11 14:05:49,548 - INFO - Status: queued\n",
      "2024-06-11 14:05:49,757 - INFO - HTTP Request: GET https://api.openai.com/v1/threads/thread_sB9j9AzEzvc0kV95yd4yYl5x/runs/run_qZsqpJqAZD4sVPHhlTbtJfCp \"HTTP/1.1 200 OK\"\n",
      "2024-06-11 14:06:09,765 - INFO - Status: queued\n",
      "2024-06-11 14:06:10,053 - INFO - HTTP Request: GET https://api.openai.com/v1/threads/thread_sB9j9AzEzvc0kV95yd4yYl5x/runs/run_qZsqpJqAZD4sVPHhlTbtJfCp \"HTTP/1.1 200 OK\"\n",
      "2024-06-11 14:06:30,061 - INFO - Status: requires_action\n"
     ]
    },
    {
     "ename": "JSONDecodeError",
     "evalue": "Expecting value: line 1 column 1 (char 0)",
     "output_type": "error",
     "traceback": [
      "\u001b[1;31m---------------------------------------------------------------------------\u001b[0m",
      "\u001b[1;31mJSONDecodeError\u001b[0m                           Traceback (most recent call last)",
      "Cell \u001b[1;32mIn[14], line 14\u001b[0m\n\u001b[0;32m     11\u001b[0m initial_msg \u001b[38;5;241m=\u001b[39m \u001b[38;5;124mf\u001b[39m\u001b[38;5;124m\"\u001b[39m\u001b[38;5;124mTake a deep breath and think step by step. This is the record of an example of a successful landing in this environment, but under other conditions: \u001b[39m\u001b[38;5;132;01m{\u001b[39;00msuccess_logs\u001b[38;5;132;01m}\u001b[39;00m\u001b[38;5;124m. This is the code of the initial function: \u001b[39m\u001b[38;5;132;01m{\u001b[39;00magent_initial_code\u001b[38;5;132;01m}\u001b[39;00m\u001b[38;5;124m and these are the execution logs of one landing attempt: \u001b[39m\u001b[38;5;132;01m{\u001b[39;00minitial_logs\u001b[38;5;132;01m}\u001b[39;00m\u001b[38;5;124m. Analyze the results and improve the code.\u001b[39m\u001b[38;5;124m\"\u001b[39m\n\u001b[0;32m     13\u001b[0m logger \u001b[38;5;241m=\u001b[39m configura_log(\u001b[38;5;124m'\u001b[39m\u001b[38;5;124mSpacecraft_4o_commits.log\u001b[39m\u001b[38;5;124m'\u001b[39m)\n\u001b[1;32m---> 14\u001b[0m response \u001b[38;5;241m=\u001b[39m create_and_run_llm_loop(initial_msg, logger, model\u001b[38;5;241m=\u001b[39m\u001b[38;5;124m\"\u001b[39m\u001b[38;5;124mgpt-4o\u001b[39m\u001b[38;5;124m\"\u001b[39m, num_iterations\u001b[38;5;241m=\u001b[39m\u001b[38;5;241m5\u001b[39m)\n\u001b[0;32m     16\u001b[0m \u001b[38;5;28mprint\u001b[39m(response)\n",
      "Cell \u001b[1;32mIn[12], line 42\u001b[0m, in \u001b[0;36mcreate_and_run_llm_loop\u001b[1;34m(Incial_msg, logger, model, num_iterations)\u001b[0m\n\u001b[0;32m     39\u001b[0m tool_call \u001b[38;5;241m=\u001b[39m response\u001b[38;5;241m.\u001b[39mrequired_action\u001b[38;5;241m.\u001b[39msubmit_tool_outputs\u001b[38;5;241m.\u001b[39mtool_calls\n\u001b[0;32m     40\u001b[0m \u001b[38;5;66;03m#code = tool_call.function.arguments[0]\u001b[39;00m\n\u001b[0;32m     41\u001b[0m \u001b[38;5;66;03m# Convierte el string a un diccionario\u001b[39;00m\n\u001b[1;32m---> 42\u001b[0m code_dict \u001b[38;5;241m=\u001b[39m json\u001b[38;5;241m.\u001b[39mloads(tool_call[\u001b[38;5;241m0\u001b[39m]\u001b[38;5;241m.\u001b[39mfunction\u001b[38;5;241m.\u001b[39marguments)\n\u001b[0;32m     43\u001b[0m logger\u001b[38;5;241m.\u001b[39minfo(\u001b[38;5;124mf\u001b[39m\u001b[38;5;124m\"\u001b[39m\u001b[38;5;124mArguments: \u001b[39m\u001b[38;5;132;01m{\u001b[39;00mcode_dict\u001b[38;5;132;01m}\u001b[39;00m\u001b[38;5;124m\"\u001b[39m)\n\u001b[0;32m     44\u001b[0m \u001b[38;5;66;03m# Obtén el código Python de la llamada a la herramienta\u001b[39;00m\n",
      "File \u001b[1;32mc:\\Users\\adria\\anaconda3\\Lib\\json\\__init__.py:346\u001b[0m, in \u001b[0;36mloads\u001b[1;34m(s, cls, object_hook, parse_float, parse_int, parse_constant, object_pairs_hook, **kw)\u001b[0m\n\u001b[0;32m    341\u001b[0m     s \u001b[38;5;241m=\u001b[39m s\u001b[38;5;241m.\u001b[39mdecode(detect_encoding(s), \u001b[38;5;124m'\u001b[39m\u001b[38;5;124msurrogatepass\u001b[39m\u001b[38;5;124m'\u001b[39m)\n\u001b[0;32m    343\u001b[0m \u001b[38;5;28;01mif\u001b[39;00m (\u001b[38;5;28mcls\u001b[39m \u001b[38;5;129;01mis\u001b[39;00m \u001b[38;5;28;01mNone\u001b[39;00m \u001b[38;5;129;01mand\u001b[39;00m object_hook \u001b[38;5;129;01mis\u001b[39;00m \u001b[38;5;28;01mNone\u001b[39;00m \u001b[38;5;129;01mand\u001b[39;00m\n\u001b[0;32m    344\u001b[0m         parse_int \u001b[38;5;129;01mis\u001b[39;00m \u001b[38;5;28;01mNone\u001b[39;00m \u001b[38;5;129;01mand\u001b[39;00m parse_float \u001b[38;5;129;01mis\u001b[39;00m \u001b[38;5;28;01mNone\u001b[39;00m \u001b[38;5;129;01mand\u001b[39;00m\n\u001b[0;32m    345\u001b[0m         parse_constant \u001b[38;5;129;01mis\u001b[39;00m \u001b[38;5;28;01mNone\u001b[39;00m \u001b[38;5;129;01mand\u001b[39;00m object_pairs_hook \u001b[38;5;129;01mis\u001b[39;00m \u001b[38;5;28;01mNone\u001b[39;00m \u001b[38;5;129;01mand\u001b[39;00m \u001b[38;5;129;01mnot\u001b[39;00m kw):\n\u001b[1;32m--> 346\u001b[0m     \u001b[38;5;28;01mreturn\u001b[39;00m _default_decoder\u001b[38;5;241m.\u001b[39mdecode(s)\n\u001b[0;32m    347\u001b[0m \u001b[38;5;28;01mif\u001b[39;00m \u001b[38;5;28mcls\u001b[39m \u001b[38;5;129;01mis\u001b[39;00m \u001b[38;5;28;01mNone\u001b[39;00m:\n\u001b[0;32m    348\u001b[0m     \u001b[38;5;28mcls\u001b[39m \u001b[38;5;241m=\u001b[39m JSONDecoder\n",
      "File \u001b[1;32mc:\\Users\\adria\\anaconda3\\Lib\\json\\decoder.py:337\u001b[0m, in \u001b[0;36mJSONDecoder.decode\u001b[1;34m(self, s, _w)\u001b[0m\n\u001b[0;32m    332\u001b[0m \u001b[38;5;28;01mdef\u001b[39;00m \u001b[38;5;21mdecode\u001b[39m(\u001b[38;5;28mself\u001b[39m, s, _w\u001b[38;5;241m=\u001b[39mWHITESPACE\u001b[38;5;241m.\u001b[39mmatch):\n\u001b[0;32m    333\u001b[0m \u001b[38;5;250m    \u001b[39m\u001b[38;5;124;03m\"\"\"Return the Python representation of ``s`` (a ``str`` instance\u001b[39;00m\n\u001b[0;32m    334\u001b[0m \u001b[38;5;124;03m    containing a JSON document).\u001b[39;00m\n\u001b[0;32m    335\u001b[0m \n\u001b[0;32m    336\u001b[0m \u001b[38;5;124;03m    \"\"\"\u001b[39;00m\n\u001b[1;32m--> 337\u001b[0m     obj, end \u001b[38;5;241m=\u001b[39m \u001b[38;5;28mself\u001b[39m\u001b[38;5;241m.\u001b[39mraw_decode(s, idx\u001b[38;5;241m=\u001b[39m_w(s, \u001b[38;5;241m0\u001b[39m)\u001b[38;5;241m.\u001b[39mend())\n\u001b[0;32m    338\u001b[0m     end \u001b[38;5;241m=\u001b[39m _w(s, end)\u001b[38;5;241m.\u001b[39mend()\n\u001b[0;32m    339\u001b[0m     \u001b[38;5;28;01mif\u001b[39;00m end \u001b[38;5;241m!=\u001b[39m \u001b[38;5;28mlen\u001b[39m(s):\n",
      "File \u001b[1;32mc:\\Users\\adria\\anaconda3\\Lib\\json\\decoder.py:355\u001b[0m, in \u001b[0;36mJSONDecoder.raw_decode\u001b[1;34m(self, s, idx)\u001b[0m\n\u001b[0;32m    353\u001b[0m     obj, end \u001b[38;5;241m=\u001b[39m \u001b[38;5;28mself\u001b[39m\u001b[38;5;241m.\u001b[39mscan_once(s, idx)\n\u001b[0;32m    354\u001b[0m \u001b[38;5;28;01mexcept\u001b[39;00m \u001b[38;5;167;01mStopIteration\u001b[39;00m \u001b[38;5;28;01mas\u001b[39;00m err:\n\u001b[1;32m--> 355\u001b[0m     \u001b[38;5;28;01mraise\u001b[39;00m JSONDecodeError(\u001b[38;5;124m\"\u001b[39m\u001b[38;5;124mExpecting value\u001b[39m\u001b[38;5;124m\"\u001b[39m, s, err\u001b[38;5;241m.\u001b[39mvalue) \u001b[38;5;28;01mfrom\u001b[39;00m \u001b[38;5;28;01mNone\u001b[39;00m\n\u001b[0;32m    356\u001b[0m \u001b[38;5;28;01mreturn\u001b[39;00m obj, end\n",
      "\u001b[1;31mJSONDecodeError\u001b[0m: Expecting value: line 1 column 1 (char 0)"
     ]
    }
   ],
   "source": [
    "DESCRIPTION = \"You are an expert programer in Pyhton. Your specialty is to generate the code responsible for making decisions about actions to be taken in various spacecraft landing environments.The objective is to land the spacecraft within a target zone in the shortest possible time and very gently. A scoring system is used to evaluate the landings, which must be maximized.\"\n",
    "INSTRUCTIONS = f\"\"\"Your task is:\n",
    "1. Analyze and reason about the results received in the last landing attempts.\n",
    "2. Your goal is to be able to make the appropriate decision based on the results of previous iterations. You must code the decision making based on your reasoning in a Python function.\n",
    "3. Based on the logs you should improve the code generated in the 'act' function in the last iteration, seeking to maximize the score received and generate a higher quality code.\n",
    "4. Save the code of the act function in the file 'Action.py'.\n",
    "5. Improve your results and correct any errors you may have generated in your last code if they exist.\n",
    "\"\"\"\n",
    "NAME = \"Spacecraft Landing Master\"\n",
    "\n",
    "initial_msg = f\"Take a deep breath and think step by step. This is the record of an example of a successful landing in this environment, but under other conditions: {success_logs}. This is the code of the initial function: {agent_initial_code} and these are the execution logs of one landing attempt: {initial_logs}. Analyze the results and improve the code.\"\n",
    "\n",
    "logger = configura_log('Spacecraft_4o_commits.log')\n",
    "response = create_and_run_llm_loop(initial_msg, logger, model=\"gpt-3.5-turbo\", num_iterations=5)\n",
    "\n",
    "print(response)"
   ]
  },
  {
   "cell_type": "markdown",
   "metadata": {},
   "source": [
    "## Tasks\n",
    "\n",
    "* Incluir guardado de vídeo.\n",
    "* Mejorar el prompt inicial.\n",
    "* Incluir ejemplos positivos.\n",
    "* Incluir cambios en el código con GIT."
   ]
  }
 ],
 "metadata": {
  "kernelspec": {
   "display_name": "base",
   "language": "python",
   "name": "python3"
  },
  "language_info": {
   "codemirror_mode": {
    "name": "ipython",
    "version": 3
   },
   "file_extension": ".py",
   "mimetype": "text/x-python",
   "name": "python",
   "nbconvert_exporter": "python",
   "pygments_lexer": "ipython3",
   "version": "3.11.5"
  }
 },
 "nbformat": 4,
 "nbformat_minor": 2
}
