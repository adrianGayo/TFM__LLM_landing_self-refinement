{
 "cells": [
  {
   "cell_type": "markdown",
   "metadata": {},
   "source": [
    "#### Imports"
   ]
  },
  {
   "cell_type": "code",
   "execution_count": 10,
   "metadata": {},
   "outputs": [],
   "source": [
    "import time\n",
    "from openai import OpenAI\n",
    "from Assistant import AssistantOpenAI\n",
    "import logging\n",
    "import os\n",
    "import json\n",
    "import gymnasium as gym\n",
    "import random\n",
    "import matplotlib.pyplot as plt\n",
    "import os\n",
    "import time\n",
    "from git import Repo\n",
    "\n",
    "import numpy as np\n",
    "#from collections import deque, namedtuple\n",
    "\n",
    "# For visualization\n",
    "import gymnasium.wrappers.record_video as record_video"
   ]
  },
  {
   "cell_type": "markdown",
   "metadata": {},
   "source": [
    "#### Parameters"
   ]
  },
  {
   "cell_type": "code",
   "execution_count": 11,
   "metadata": {},
   "outputs": [],
   "source": [
    "num_episodes = 200\n",
    "ENV_NAME = 'LunarLander-v2'\n",
    "ARCLABKEY_OPENAI = \"sk-proj-DvHDR3hpgbm2r3kCA9jKT3BlbkFJL57ABXkfaWAIYKBxdhM6\"\n",
    "ARCLABKEY_OPENAI = \"sk-proj-GvaDXazpibWA2M1I5Pu2T3BlbkFJxDuKlr9AcoVG98ctJZ7Q\""
   ]
  },
  {
   "cell_type": "markdown",
   "metadata": {},
   "source": [
    "#### Function calling.\n",
    "\n",
    "Función encargada de almacenar el código generado mediante la opción de function calling del asistente de OpenAI."
   ]
  },
  {
   "cell_type": "code",
   "execution_count": 12,
   "metadata": {},
   "outputs": [],
   "source": [
    "def store_code_in_file(code, filename):\n",
    "    \"\"\" Store code in a file\n",
    "    \n",
    "    Args:\n",
    "        code: str: code to store\n",
    "        filename: str: filename to store code in\n",
    "    \n",
    "    Returns:\n",
    "        None\n",
    "    \"\"\"\n",
    "    with open(filename, 'w') as f:\n",
    "        f.write(code)\n",
    "        \n",
    "store_code_in_file_schema = {\n",
    "    \"name\": \"store_code_in_file\",\n",
    "    \"description\": \"Store code in a file\",\n",
    "    \"parameters\": {\n",
    "        \"type\": \"object\",\n",
    "        \"properties\": {\n",
    "            \"code\": {\n",
    "                \"type\": \"string\",\n",
    "                \"description\": \"The Python code to store.\"\n",
    "            },\n",
    "            \"filename\": {\n",
    "                \"type\": \"string\",\n",
    "                \"description\": \"The filename to store the code in.\"\n",
    "            }\n",
    "        },\n",
    "        \"required\": [\"code\", \"filename\"]\n",
    "    }\n",
    "}\n",
    "\n",
    "TOOLS = [{\"type\": \"function\", \"function\": store_code_in_file_schema}]"
   ]
  },
  {
   "cell_type": "markdown",
   "metadata": {},
   "source": [
    "### Entorno Lunnar Lander"
   ]
  },
  {
   "cell_type": "code",
   "execution_count": 13,
   "metadata": {},
   "outputs": [
    {
     "name": "stdout",
     "output_type": "stream",
     "text": [
      "State shape:  (8,)\n",
      "Number of actions:  4\n"
     ]
    }
   ],
   "source": [
    "env = gym.make('LunarLander-v2')\n",
    "print('State shape: ', env.observation_space.shape)\n",
    "print('Number of actions: ', env.action_space.n)"
   ]
  },
  {
   "cell_type": "code",
   "execution_count": 14,
   "metadata": {},
   "outputs": [],
   "source": [
    "agent_initial_code = \"\"\"\n",
    "import random\n",
    "\n",
    "def act(observation):\n",
    "    '''\n",
    "    The function that codifies the action to be taken in each instant of time.\n",
    "\n",
    "    Args:\n",
    "        observation (numpy.array):\n",
    "            \"description\": \"The state of the environment after the action is taken.\",\n",
    "            \"positions\": {  \n",
    "                \"0\": \"X position\",\n",
    "                \"1\": \"Y position\",\n",
    "                \"2\": \"X velocity\",\n",
    "                \"3\": \"Y velocity\",\n",
    "                \"4\": \"Angle\",\n",
    "                \"5\": \"Angular velocity\",\n",
    "                \"6\": \"Left contact sensor\",\n",
    "                \"7\": \"Right contact sensor\"\n",
    "            },\n",
    "            \"min_values\": [-1.5, -1.5, -5.0, -5.0, -3.14, -5.0, 0, 0],\n",
    "            \"max_values\": [1.5, 1.5, 5.0, 5.0, 3.14, 5.0, 1, 1]\n",
    "\n",
    "    Returns:\n",
    "        Integer  : The action to be taken.\n",
    "    '''\n",
    "    return random.randint(0, 3)\n",
    "\"\"\""
   ]
  },
  {
   "cell_type": "markdown",
   "metadata": {},
   "source": [
    "#### Mapeador de logs a JSON"
   ]
  },
  {
   "cell_type": "code",
   "execution_count": 15,
   "metadata": {},
   "outputs": [],
   "source": [
    "log_description = {\n",
    "    \"description\": \"Log data for each step of the spacecraft landing environment.\",\n",
    "    \"landing attempt\": {\n",
    "        \"type\": \"integer\",\n",
    "        \"description\": \"The episode number.\"\n",
    "    },\n",
    "    \"logs\": {\n",
    "        \"instant\": {\n",
    "            \"type\": \"integer\",\n",
    "            \"description\": \"The instant within the landing attempt where the current log is taken.\"\n",
    "        },\n",
    "        \"action\": {\n",
    "            \"type\": \"integer\",\n",
    "            \"description\": \"The possible actions taken.\",\n",
    "            \"options\": {\n",
    "                1 : \"Switch off engines\",\n",
    "                2 : \"Push left engine\",\n",
    "                3 : \"Push both engines (upwards)\",\n",
    "                4 : \"Push right engine\"\n",
    "            }\n",
    "        },  \n",
    "        \"current status\": {\n",
    "            \"type\": \"array\",\n",
    "            \"description\": \"The state of the environment after the action is taken.\",\n",
    "            \"positions\": {  \n",
    "                \"0\": \"X position\",\n",
    "                \"1\": \"Y position\",\n",
    "                \"2\": \"X velocity\",\n",
    "                \"3\": \"Y velocity\",\n",
    "                \"4\": \"Angle\",\n",
    "                \"5\": \"Angular velocity\",\n",
    "                \"6\": \"Left contact sensor with landing zone\",\n",
    "                \"7\": \"Right contact sensor with landing zone\"\n",
    "            },\n",
    "            \"min_values\": [-1.5, -1.5, -5.0, -5.0, -3.14, -5.0, 0, 0],\n",
    "            \"max_values\": [1.5, 1.5, 5.0, 5.0, 3.14, 5.0, 1, 1] \n",
    "        }, \n",
    "        \"score\": {\n",
    "            \"type\": \"number\",\n",
    "            \"description\": \"The score received for the action.\"\n",
    "        },  \n",
    "        \"completed\": {\n",
    "            \"type\": \"boolean\",\n",
    "            \"description\": \"Whether the landing event has ended (landing or accident).\"\n",
    "        }\n",
    "    },\n",
    "    \"total score\": {\n",
    "        \"type\": \"number\",\n",
    "        \"description\": \"The total score received for the landing attempt.\"\n",
    "    }\n",
    "}"
   ]
  },
  {
   "cell_type": "markdown",
   "metadata": {},
   "source": [
    "### UTILS"
   ]
  },
  {
   "cell_type": "code",
   "execution_count": 16,
   "metadata": {},
   "outputs": [],
   "source": [
    "import json\n",
    "\n",
    "def format_step_data(instant, action, next_state, reward, terminated):\n",
    "    \"\"\" Format the step data into a JSON string\n",
    "    \n",
    "    Args:\n",
    "        instant: int: the instant within the landing attempt where the current log is taken\n",
    "        action: int: the action taken\n",
    "        next_state: np.array: the next state of the environment\n",
    "        reward: float: the reward received\n",
    "        terminated: bool: whether the landing event has ended\n",
    "        \n",
    "    Returns:\n",
    "        str: the step data formatted as a JSON string\n",
    "    \"\"\"\n",
    "    # Convertir el array numpy a una lista\n",
    "    next_state_list = next_state.tolist()\n",
    "\n",
    "    # Redondear los elementos de la lista a 4 decimales\n",
    "    next_state_list_rounded = [round(x, 3) for x in next_state_list]\n",
    "\n",
    "    step_data = {\n",
    "        'instant': instant,\n",
    "        'action' : int(action),\n",
    "        'current status': next_state_list_rounded,  # Convert numpy array to list\n",
    "        'score': round(reward, 3),\n",
    "        'completed': terminated,\n",
    "        #'truncated': truncated\n",
    "        #'info': info\n",
    "    }\n",
    "\n",
    "    # Convert the dictionary to a JSON string\n",
    "    step_data_json = json.dumps(step_data)\n",
    "\n",
    "    return step_data_json\n",
    "\n",
    "\n",
    "def format_episode_logs(logs, episode, total_score):\n",
    "    \"\"\" Format the logs into a JSON string\n",
    "    \n",
    "    Args:\n",
    "        logs: list: the logs for each step of the environment\n",
    "        episode: int: the episode number\n",
    "        \n",
    "    Returns:\n",
    "        str: the logs formatted as a JSON string\n",
    "    \"\"\"\n",
    "    logs_data = {\n",
    "        'landing attempt': episode,\n",
    "        'logs': logs,\n",
    "        'total score': total_score\n",
    "    }\n",
    "\n",
    "    # Convert the dictionary to a JSON string\n",
    "    logs_json = json.dumps(logs_data)\n",
    "\n",
    "    return logs_json"
   ]
  },
  {
   "cell_type": "code",
   "execution_count": 17,
   "metadata": {},
   "outputs": [],
   "source": [
    "def commit_changes(repo_path, commit_message):\n",
    "    \"\"\" Commit changes to the repository.\n",
    "\n",
    "    Args:\n",
    "        repo_path (str): Path to the repository.\n",
    "        commit_message (str): The commit message.\n",
    "    \"\"\"\n",
    "    repo = Repo(repo_path)\n",
    "    repo.git.add(update=True)\n",
    "    repo.index.commit(commit_message)\n",
    "    origin = repo.remote(name='origin')\n",
    "    origin.push()"
   ]
  },
  {
   "cell_type": "markdown",
   "metadata": {},
   "source": [
    "#### Código encargado de ejecutar los eventos en el entorno."
   ]
  },
  {
   "cell_type": "code",
   "execution_count": 18,
   "metadata": {},
   "outputs": [],
   "source": [
    "import Action\n",
    "\n",
    "def lunar_lander(max_t=1000, n_games=1, display=False, seed=38, agent=None, recoder=False, video_filename='video/video.mp4'):\n",
    "    \"\"\" Run the Lunar Lander environment\n",
    "    \n",
    "    Args:\n",
    "        max_t: int: the maximum number of timesteps\n",
    "        n_games: int: the number of games to play\n",
    "        display: bool: whether to display the environment\n",
    "        seed: int: the seed for the environment\n",
    "        agent: object: the agent to use\n",
    "        recoder: bool: whether to record the video\n",
    "        video_filename: str: the filename for the video\n",
    "        \n",
    "    Returns:\n",
    "        str: the logs for the landing attempts\n",
    "    \"\"\"\n",
    "    \n",
    "    # Incluimos la opción del entorno gráfico y la de grabación.\n",
    "    if display:\n",
    "        env = gym.make(ENV_NAME, render_mode='human')\n",
    "        if recoder:\n",
    "            env = gym.make(ENV_NAME, render_mode='rgb_array')\n",
    "            env.reset() \n",
    "            video_recorder = record_video.RecordVideo(env, video_filename)\n",
    "    else:\n",
    "        env = gym.make(ENV_NAME)\n",
    "\n",
    "    # Bucle principal de ejecución de los episodios.\n",
    "    logs = []\n",
    "    for episode in range(1, n_games+1):\n",
    "        state = env.reset(seed=seed) # Set a seed for the environment\n",
    "        state = state[0] # Eliminamos el diccionario vacio y dejamos unicamente el estado de 8 elementos.\n",
    "        score = 0\n",
    "        instant = 0\n",
    "        episode_actions = []\n",
    "        if recoder: # En caso de que se quiera grabar el video, se inicia el grabador.\n",
    "            video_recorder.start_video_recorder()\n",
    "            \n",
    "        for i in range(max_t): # Bucle de ejecución de los instantes de tiempo.\n",
    "            \n",
    "            # Seleccionamos el método de elegir la acción (agente exitoso o método de decisión del asistente)\n",
    "            if agent: \n",
    "                action = agent.act(state)\n",
    "            else:\n",
    "                action = Action.act(state)\n",
    "            \n",
    "            # Avanzamos un instante de tiempo en el entorno en función de si se quiere grabar el video o no.\n",
    "            if recoder:\n",
    "                next_state, reward, terminated, truncated, info = video_recorder.step(action)\n",
    "            else:\n",
    "                next_state, reward, terminated, truncated, info = env.step(action)\n",
    "            \n",
    "            # Formateamos los datos del instante de tiempo y los alcenamos.\n",
    "            json_logs = format_step_data(instant, action, next_state, reward, terminated)\n",
    "            score += reward\n",
    "            instant += 1\n",
    "            if len(episode_actions) < 15 or len(episode_actions) % 3 == 0 or terminated:\n",
    "                logs.append(json_logs)\n",
    "            episode_actions.append(action)\n",
    "            state = next_state\n",
    "            if terminated: # Condición de salida del bucle, si el episodio ha terminado.\n",
    "                break\n",
    "        json_episode_logs = format_episode_logs(logs, episode, score) \n",
    "        \n",
    "        print(f\"Número de instantes: {instant+1}. Tamaño de logs: {len(logs)}\")\n",
    "        print('episode ', episode, 'score %.3f' % float(score), 'avg score %.3f' % (float(score) / instant))\n",
    "        \n",
    "    if recoder:\n",
    "        video_recorder.close()\n",
    "    else:\n",
    "        env.close()\n",
    "        \n",
    "    return json_episode_logs"
   ]
  },
  {
   "cell_type": "markdown",
   "metadata": {},
   "source": [
    "#### Logs del código inicial"
   ]
  },
  {
   "cell_type": "code",
   "execution_count": 19,
   "metadata": {},
   "outputs": [
    {
     "name": "stdout",
     "output_type": "stream",
     "text": [
      "Número de instantes: 105. Tamaño de logs: 46\n",
      "episode  1 score -135.325 avg score -1.301\n"
     ]
    },
    {
     "data": {
      "text/plain": [
       "'{\"landing attempt\": 1, \"logs\": [\"{\\\\\"instant\\\\\": 0, \\\\\"action\\\\\": 1, \\\\\"current status\\\\\": [0.007, 1.417, 0.37, 0.131, -0.007, -0.044, 0.0, 0.0], \\\\\"score\\\\\": 1.387, \\\\\"completed\\\\\": false}\", \"{\\\\\"instant\\\\\": 1, \\\\\"action\\\\\": 3, \\\\\"current status\\\\\": [0.011, 1.42, 0.382, 0.104, -0.011, -0.09, 0.0, 0.0], \\\\\"score\\\\\": -1.011, \\\\\"completed\\\\\": false}\", \"{\\\\\"instant\\\\\": 2, \\\\\"action\\\\\": 0, \\\\\"current status\\\\\": [0.015, 1.421, 0.382, 0.077, -0.016, -0.09, 0.0, 0.0], \\\\\"score\\\\\": -0.014, \\\\\"completed\\\\\": false}\", \"{\\\\\"instant\\\\\": 3, \\\\\"action\\\\\": 1, \\\\\"current status\\\\\": [0.019, 1.423, 0.37, 0.051, -0.018, -0.044, 0.0, 0.0], \\\\\"score\\\\\": 1.191, \\\\\"completed\\\\\": false}\", \"{\\\\\"instant\\\\\": 4, \\\\\"action\\\\\": 1, \\\\\"current status\\\\\": [0.022, 1.423, 0.361, 0.024, -0.018, -0.006, 0.0, 0.0], \\\\\"score\\\\\": 1.092, \\\\\"completed\\\\\": false}\", \"{\\\\\"instant\\\\\": 5, \\\\\"action\\\\\": 0, \\\\\"current status\\\\\": [0.026, 1.423, 0.361, -0.003, -0.018, -0.006, 0.0, 0.0], \\\\\"score\\\\\": 0.044, \\\\\"completed\\\\\": false}\", \"{\\\\\"instant\\\\\": 6, \\\\\"action\\\\\": 2, \\\\\"current status\\\\\": [0.029, 1.423, 0.354, 0.01, -0.019, -0.014, 0.0, 0.0], \\\\\"score\\\\\": 0.237, \\\\\"completed\\\\\": false}\", \"{\\\\\"instant\\\\\": 7, \\\\\"action\\\\\": 3, \\\\\"current status\\\\\": [0.033, 1.423, 0.363, -0.017, -0.022, -0.049, 0.0, 0.0], \\\\\"score\\\\\": -1.148, \\\\\"completed\\\\\": false}\", \"{\\\\\"instant\\\\\": 8, \\\\\"action\\\\\": 2, \\\\\"current status\\\\\": [0.037, 1.423, 0.357, -0.014, -0.024, -0.056, 0.0, 0.0], \\\\\"score\\\\\": 0.06, \\\\\"completed\\\\\": false}\", \"{\\\\\"instant\\\\\": 9, \\\\\"action\\\\\": 2, \\\\\"current status\\\\\": [0.04, 1.422, 0.36, -0.013, -0.027, -0.055, 0.0, 0.0], \\\\\"score\\\\\": -0.808, \\\\\"completed\\\\\": false}\", \"{\\\\\"instant\\\\\": 10, \\\\\"action\\\\\": 2, \\\\\"current status\\\\\": [0.044, 1.423, 0.373, 0.026, -0.029, -0.044, 0.0, 0.0], \\\\\"score\\\\\": -2.023, \\\\\"completed\\\\\": false}\", \"{\\\\\"instant\\\\\": 11, \\\\\"action\\\\\": 1, \\\\\"current status\\\\\": [0.047, 1.423, 0.366, -0.0, -0.03, -0.013, 0.0, 0.0], \\\\\"score\\\\\": 0.742, \\\\\"completed\\\\\": false}\", \"{\\\\\"instant\\\\\": 12, \\\\\"action\\\\\": 2, \\\\\"current status\\\\\": [0.051, 1.423, 0.363, 0.021, -0.031, -0.018, 0.0, 0.0], \\\\\"score\\\\\": -0.23, \\\\\"completed\\\\\": false}\", \"{\\\\\"instant\\\\\": 13, \\\\\"action\\\\\": 2, \\\\\"current status\\\\\": [0.055, 1.424, 0.379, 0.041, -0.031, -0.005, 0.0, 0.0], \\\\\"score\\\\\": -2.156, \\\\\"completed\\\\\": false}\", \"{\\\\\"instant\\\\\": 14, \\\\\"action\\\\\": 1, \\\\\"current status\\\\\": [0.059, 1.425, 0.368, 0.015, -0.029, 0.037, 0.0, 0.0], \\\\\"score\\\\\": 1.36, \\\\\"completed\\\\\": false}\", \"{\\\\\"instant\\\\\": 15, \\\\\"action\\\\\": 3, \\\\\"current status\\\\\": [0.062, 1.424, 0.379, -0.013, -0.03, -0.007, 0.0, 0.0], \\\\\"score\\\\\": -1.146, \\\\\"completed\\\\\": false}\", \"{\\\\\"instant\\\\\": 18, \\\\\"action\\\\\": 2, \\\\\"current status\\\\\": [0.074, 1.421, 0.368, -0.061, -0.032, -0.005, 0.0, 0.0], \\\\\"score\\\\\": 0.711, \\\\\"completed\\\\\": false}\", \"{\\\\\"instant\\\\\": 21, \\\\\"action\\\\\": 2, \\\\\"current status\\\\\": [0.085, 1.418, 0.36, -0.036, -0.033, -0.017, 0.0, 0.0], \\\\\"score\\\\\": 1.309, \\\\\"completed\\\\\": false}\", \"{\\\\\"instant\\\\\": 24, \\\\\"action\\\\\": 2, \\\\\"current status\\\\\": [0.095, 1.413, 0.361, -0.081, -0.031, 0.03, 0.0, 0.0], \\\\\"score\\\\\": -0.852, \\\\\"completed\\\\\": false}\", \"{\\\\\"instant\\\\\": 27, \\\\\"action\\\\\": 1, \\\\\"current status\\\\\": [0.107, 1.406, 0.362, -0.11, -0.03, 0.035, 0.0, 0.0], \\\\\"score\\\\\": 0.774, \\\\\"completed\\\\\": false}\", \"{\\\\\"instant\\\\\": 30, \\\\\"action\\\\\": 0, \\\\\"current status\\\\\": [0.117, 1.395, 0.352, -0.19, -0.021, 0.078, 0.0, 0.0], \\\\\"score\\\\\": -0.409, \\\\\"completed\\\\\": false}\", \"{\\\\\"instant\\\\\": 33, \\\\\"action\\\\\": 0, \\\\\"current status\\\\\": [0.128, 1.383, 0.34, -0.192, -0.01, 0.064, 0.0, 0.0], \\\\\"score\\\\\": -0.521, \\\\\"completed\\\\\": false}\", \"{\\\\\"instant\\\\\": 36, \\\\\"action\\\\\": 3, \\\\\"current status\\\\\": [0.138, 1.366, 0.35, -0.272, -0.003, 0.024, 0.0, 0.0], \\\\\"score\\\\\": -1.715, \\\\\"completed\\\\\": false}\", \"{\\\\\"instant\\\\\": 39, \\\\\"action\\\\\": 1, \\\\\"current status\\\\\": [0.149, 1.346, 0.337, -0.309, 0.003, 0.073, 0.0, 0.0], \\\\\"score\\\\\": -0.454, \\\\\"completed\\\\\": false}\", \"{\\\\\"instant\\\\\": 42, \\\\\"action\\\\\": 3, \\\\\"current status\\\\\": [0.159, 1.322, 0.359, -0.389, 0.007, -0.013, 0.0, 0.0], \\\\\"score\\\\\": -1.727, \\\\\"completed\\\\\": false}\", \"{\\\\\"instant\\\\\": 45, \\\\\"action\\\\\": 0, \\\\\"current status\\\\\": [0.17, 1.292, 0.362, -0.468, 0.002, -0.028, 0.0, 0.0], \\\\\"score\\\\\": -0.946, \\\\\"completed\\\\\": false}\", \"{\\\\\"instant\\\\\": 48, \\\\\"action\\\\\": 3, \\\\\"current status\\\\\": [0.181, 1.257, 0.365, -0.548, -0.002, -0.039, 0.0, 0.0], \\\\\"score\\\\\": -1.753, \\\\\"completed\\\\\": false}\", \"{\\\\\"instant\\\\\": 51, \\\\\"action\\\\\": 1, \\\\\"current status\\\\\": [0.191, 1.219, 0.332, -0.561, -0.001, 0.033, 0.0, 0.0], \\\\\"score\\\\\": -0.333, \\\\\"completed\\\\\": false}\", \"{\\\\\"instant\\\\\": 54, \\\\\"action\\\\\": 3, \\\\\"current status\\\\\": [0.201, 1.178, 0.362, -0.641, -0.007, -0.086, 0.0, 0.0], \\\\\"score\\\\\": -1.927, \\\\\"completed\\\\\": false}\", \"{\\\\\"instant\\\\\": 57, \\\\\"action\\\\\": 1, \\\\\"current status\\\\\": [0.212, 1.131, 0.341, -0.72, -0.013, -0.002, 0.0, 0.0], \\\\\"score\\\\\": -0.316, \\\\\"completed\\\\\": false}\", \"{\\\\\"instant\\\\\": 60, \\\\\"action\\\\\": 0, \\\\\"current status\\\\\": [0.222, 1.078, 0.332, -0.8, -0.009, 0.035, 0.0, 0.0], \\\\\"score\\\\\": -0.585, \\\\\"completed\\\\\": false}\", \"{\\\\\"instant\\\\\": 63, \\\\\"action\\\\\": 2, \\\\\"current status\\\\\": [0.232, 1.025, 0.328, -0.806, -0.005, 0.03, 0.0, 0.0], \\\\\"score\\\\\": 1.418, \\\\\"completed\\\\\": false}\", \"{\\\\\"instant\\\\\": 66, \\\\\"action\\\\\": 2, \\\\\"current status\\\\\": [0.241, 0.968, 0.32, -0.828, 0.003, 0.071, 0.0, 0.0], \\\\\"score\\\\\": 3.951, \\\\\"completed\\\\\": false}\", \"{\\\\\"instant\\\\\": 69, \\\\\"action\\\\\": 0, \\\\\"current status\\\\\": [0.251, 0.909, 0.321, -0.908, 0.012, 0.069, 0.0, 0.0], \\\\\"score\\\\\": -0.971, \\\\\"completed\\\\\": false}\", \"{\\\\\"instant\\\\\": 72, \\\\\"action\\\\\": 1, \\\\\"current status\\\\\": [0.261, 0.845, 0.312, -0.949, 0.03, 0.159, 0.0, 0.0], \\\\\"score\\\\\": -1.05, \\\\\"completed\\\\\": false}\", \"{\\\\\"instant\\\\\": 75, \\\\\"action\\\\\": 0, \\\\\"current status\\\\\": [0.27, 0.778, 0.305, -1.029, 0.058, 0.189, 0.0, 0.0], \\\\\"score\\\\\": -1.413, \\\\\"completed\\\\\": false}\", \"{\\\\\"instant\\\\\": 78, \\\\\"action\\\\\": 1, \\\\\"current status\\\\\": [0.28, 0.705, 0.284, -1.11, 0.095, 0.272, 0.0, 0.0], \\\\\"score\\\\\": -1.58, \\\\\"completed\\\\\": false}\", \"{\\\\\"instant\\\\\": 81, \\\\\"action\\\\\": 1, \\\\\"current status\\\\\": [0.289, 0.626, 0.28, -1.191, 0.134, 0.29, 0.0, 0.0], \\\\\"score\\\\\": -1.681, \\\\\"completed\\\\\": false}\", \"{\\\\\"instant\\\\\": 84, \\\\\"action\\\\\": 2, \\\\\"current status\\\\\": [0.297, 0.546, 0.26, -1.168, 0.177, 0.294, 0.0, 0.0], \\\\\"score\\\\\": 4.768, \\\\\"completed\\\\\": false}\", \"{\\\\\"instant\\\\\": 87, \\\\\"action\\\\\": 1, \\\\\"current status\\\\\": [0.305, 0.464, 0.262, -1.248, 0.219, 0.287, 0.0, 0.0], \\\\\"score\\\\\": -1.813, \\\\\"completed\\\\\": false}\", \"{\\\\\"instant\\\\\": 90, \\\\\"action\\\\\": 3, \\\\\"current status\\\\\": [0.314, 0.376, 0.279, -1.325, 0.255, 0.215, 0.0, 0.0], \\\\\"score\\\\\": -1.612, \\\\\"completed\\\\\": false}\", \"{\\\\\"instant\\\\\": 93, \\\\\"action\\\\\": 2, \\\\\"current status\\\\\": [0.322, 0.287, 0.24, -1.336, 0.286, 0.206, 0.0, 0.0], \\\\\"score\\\\\": 0.484, \\\\\"completed\\\\\": false}\", \"{\\\\\"instant\\\\\": 96, \\\\\"action\\\\\": 2, \\\\\"current status\\\\\": [0.329, 0.195, 0.223, -1.362, 0.316, 0.211, 0.0, 0.0], \\\\\"score\\\\\": 3.116, \\\\\"completed\\\\\": false}\", \"{\\\\\"instant\\\\\": 99, \\\\\"action\\\\\": 2, \\\\\"current status\\\\\": [0.336, 0.1, 0.221, -1.405, 0.336, 0.114, 0.0, 0.0], \\\\\"score\\\\\": 0.787, \\\\\"completed\\\\\": false}\", \"{\\\\\"instant\\\\\": 102, \\\\\"action\\\\\": 1, \\\\\"current status\\\\\": [0.343, 0.002, 0.223, -1.486, 0.348, 0.107, 0.0, 1.0], \\\\\"score\\\\\": 6.655, \\\\\"completed\\\\\": false}\", \"{\\\\\"instant\\\\\": 103, \\\\\"action\\\\\": 3, \\\\\"current status\\\\\": [0.346, -0.029, 0.487, -0.605, 0.316, -4.888, 0.0, 1.0], \\\\\"score\\\\\": -100, \\\\\"completed\\\\\": true}\"], \"total score\": -135.32515695622052}'"
      ]
     },
     "execution_count": 19,
     "metadata": {},
     "output_type": "execute_result"
    }
   ],
   "source": [
    "initial_logs = lunar_lander(n_games=1, display=True)\n",
    "initial_logs"
   ]
  },
  {
   "cell_type": "markdown",
   "metadata": {},
   "source": [
    "#### Logs exitosos\n",
    "Utilizar otras semillas para que no memorice el entorno"
   ]
  },
  {
   "cell_type": "code",
   "execution_count": 20,
   "metadata": {},
   "outputs": [
    {
     "name": "stdout",
     "output_type": "stream",
     "text": [
      "Número de instantes: 294. Tamaño de logs: 109\n",
      "episode  1 score 250.956 avg score 0.857\n"
     ]
    },
    {
     "data": {
      "text/plain": [
       "'{\"landing attempt\": 1, \"logs\": [\"{\\\\\"instant\\\\\": 0, \\\\\"action\\\\\": 1, \\\\\"current status\\\\\": [0.004, 1.425, 0.22, 0.295, -0.003, -0.004, 0.0, 0.0], \\\\\"score\\\\\": 2.08, \\\\\"completed\\\\\": false}\", \"{\\\\\"instant\\\\\": 1, \\\\\"action\\\\\": 0, \\\\\"current status\\\\\": [0.007, 1.431, 0.22, 0.268, -0.003, -0.004, 0.0, 0.0], \\\\\"score\\\\\": 1.473, \\\\\"completed\\\\\": false}\", \"{\\\\\"instant\\\\\": 2, \\\\\"action\\\\\": 0, \\\\\"current status\\\\\": [0.009, 1.436, 0.22, 0.242, -0.003, -0.004, 0.0, 0.0], \\\\\"score\\\\\": 1.453, \\\\\"completed\\\\\": false}\", \"{\\\\\"instant\\\\\": 3, \\\\\"action\\\\\": 0, \\\\\"current status\\\\\": [0.011, 1.441, 0.22, 0.215, -0.003, -0.004, 0.0, 0.0], \\\\\"score\\\\\": 1.413, \\\\\"completed\\\\\": false}\", \"{\\\\\"instant\\\\\": 4, \\\\\"action\\\\\": 0, \\\\\"current status\\\\\": [0.013, 1.445, 0.22, 0.188, -0.004, -0.004, 0.0, 0.0], \\\\\"score\\\\\": 1.354, \\\\\"completed\\\\\": false}\", \"{\\\\\"instant\\\\\": 5, \\\\\"action\\\\\": 0, \\\\\"current status\\\\\": [0.016, 1.449, 0.22, 0.162, -0.004, -0.004, 0.0, 0.0], \\\\\"score\\\\\": 1.272, \\\\\"completed\\\\\": false}\", \"{\\\\\"instant\\\\\": 6, \\\\\"action\\\\\": 1, \\\\\"current status\\\\\": [0.018, 1.452, 0.211, 0.135, -0.002, 0.032, 0.0, 0.0], \\\\\"score\\\\\": 2.092, \\\\\"completed\\\\\": false}\", \"{\\\\\"instant\\\\\": 7, \\\\\"action\\\\\": 0, \\\\\"current status\\\\\": [0.02, 1.454, 0.211, 0.108, -0.001, 0.032, 0.0, 0.0], \\\\\"score\\\\\": 1.24, \\\\\"completed\\\\\": false}\", \"{\\\\\"instant\\\\\": 8, \\\\\"action\\\\\": 0, \\\\\"current status\\\\\": [0.022, 1.456, 0.211, 0.081, 0.001, 0.032, 0.0, 0.0], \\\\\"score\\\\\": 0.866, \\\\\"completed\\\\\": false}\", \"{\\\\\"instant\\\\\": 9, \\\\\"action\\\\\": 0, \\\\\"current status\\\\\": [0.024, 1.457, 0.211, 0.055, 0.003, 0.032, 0.0, 0.0], \\\\\"score\\\\\": 0.528, \\\\\"completed\\\\\": false}\", \"{\\\\\"instant\\\\\": 10, \\\\\"action\\\\\": 0, \\\\\"current status\\\\\": [0.026, 1.458, 0.211, 0.028, 0.004, 0.032, 0.0, 0.0], \\\\\"score\\\\\": 0.283, \\\\\"completed\\\\\": false}\", \"{\\\\\"instant\\\\\": 11, \\\\\"action\\\\\": 1, \\\\\"current status\\\\\": [0.028, 1.458, 0.202, 0.001, 0.008, 0.068, 0.0, 0.0], \\\\\"score\\\\\": 0.71, \\\\\"completed\\\\\": false}\", \"{\\\\\"instant\\\\\": 12, \\\\\"action\\\\\": 0, \\\\\"current status\\\\\": [0.03, 1.458, 0.202, -0.026, 0.011, 0.068, 0.0, 0.0], \\\\\"score\\\\\": -0.45, \\\\\"completed\\\\\": false}\", \"{\\\\\"instant\\\\\": 13, \\\\\"action\\\\\": 0, \\\\\"current status\\\\\": [0.032, 1.456, 0.202, -0.052, 0.014, 0.068, 0.0, 0.0], \\\\\"score\\\\\": -0.733, \\\\\"completed\\\\\": false}\", \"{\\\\\"instant\\\\\": 14, \\\\\"action\\\\\": 0, \\\\\"current status\\\\\": [0.034, 1.455, 0.202, -0.079, 0.018, 0.068, 0.0, 0.0], \\\\\"score\\\\\": -0.991, \\\\\"completed\\\\\": false}\", \"{\\\\\"instant\\\\\": 15, \\\\\"action\\\\\": 0, \\\\\"current status\\\\\": [0.036, 1.452, 0.202, -0.106, 0.021, 0.068, 0.0, 0.0], \\\\\"score\\\\\": -1.215, \\\\\"completed\\\\\": false}\", \"{\\\\\"instant\\\\\": 18, \\\\\"action\\\\\": 3, \\\\\"current status\\\\\": [0.043, 1.441, 0.213, -0.185, 0.029, 0.025, 0.0, 0.0], \\\\\"score\\\\\": -2.239, \\\\\"completed\\\\\": false}\", \"{\\\\\"instant\\\\\": 21, \\\\\"action\\\\\": 1, \\\\\"current status\\\\\": [0.049, 1.425, 0.203, -0.266, 0.037, 0.066, 0.0, 0.0], \\\\\"score\\\\\": -1.118, \\\\\"completed\\\\\": false}\", \"{\\\\\"instant\\\\\": 24, \\\\\"action\\\\\": 1, \\\\\"current status\\\\\": [0.056, 1.404, 0.214, -0.346, 0.038, 0.02, 0.0, 0.0], \\\\\"score\\\\\": -1.145, \\\\\"completed\\\\\": false}\", \"{\\\\\"instant\\\\\": 27, \\\\\"action\\\\\": 2, \\\\\"current status\\\\\": [0.062, 1.378, 0.208, -0.393, 0.04, 0.022, 0.0, 0.0], \\\\\"score\\\\\": 1.279, \\\\\"completed\\\\\": false}\", \"{\\\\\"instant\\\\\": 30, \\\\\"action\\\\\": 1, \\\\\"current status\\\\\": [0.068, 1.352, 0.195, -0.411, 0.04, 0.014, 0.0, 0.0], \\\\\"score\\\\\": -1.205, \\\\\"completed\\\\\": false}\", \"{\\\\\"instant\\\\\": 33, \\\\\"action\\\\\": 3, \\\\\"current status\\\\\": [0.074, 1.326, 0.203, -0.387, 0.041, -0.012, 0.0, 0.0], \\\\\"score\\\\\": -1.801, \\\\\"completed\\\\\": false}\", \"{\\\\\"instant\\\\\": 36, \\\\\"action\\\\\": 2, \\\\\"current status\\\\\": [0.08, 1.3, 0.184, -0.38, 0.047, 0.034, 0.0, 0.0], \\\\\"score\\\\\": 0.83, \\\\\"completed\\\\\": false}\", \"{\\\\\"instant\\\\\": 39, \\\\\"action\\\\\": 3, \\\\\"current status\\\\\": [0.085, 1.274, 0.192, -0.386, 0.05, -0.005, 0.0, 0.0], \\\\\"score\\\\\": -1.996, \\\\\"completed\\\\\": false}\", \"{\\\\\"instant\\\\\": 42, \\\\\"action\\\\\": 2, \\\\\"current status\\\\\": [0.09, 1.249, 0.169, -0.361, 0.051, 0.018, 0.0, 0.0], \\\\\"score\\\\\": 3.903, \\\\\"completed\\\\\": false}\", \"{\\\\\"instant\\\\\": 45, \\\\\"action\\\\\": 2, \\\\\"current status\\\\\": [0.096, 1.222, 0.161, -0.397, 0.049, -0.003, 0.0, 0.0], \\\\\"score\\\\\": 2.616, \\\\\"completed\\\\\": false}\", \"{\\\\\"instant\\\\\": 48, \\\\\"action\\\\\": 2, \\\\\"current status\\\\\": [0.1, 1.196, 0.16, -0.367, 0.05, 0.003, 0.0, 0.0], \\\\\"score\\\\\": 1.501, \\\\\"completed\\\\\": false}\", \"{\\\\\"instant\\\\\": 51, \\\\\"action\\\\\": 3, \\\\\"current status\\\\\": [0.105, 1.171, 0.165, -0.388, 0.054, 0.001, 0.0, 0.0], \\\\\"score\\\\\": -2.018, \\\\\"completed\\\\\": false}\", \"{\\\\\"instant\\\\\": 54, \\\\\"action\\\\\": 2, \\\\\"current status\\\\\": [0.11, 1.145, 0.154, -0.393, 0.059, 0.047, 0.0, 0.0], \\\\\"score\\\\\": 0.279, \\\\\"completed\\\\\": false}\", \"{\\\\\"instant\\\\\": 57, \\\\\"action\\\\\": 2, \\\\\"current status\\\\\": [0.114, 1.119, 0.15, -0.375, 0.065, 0.053, 0.0, 0.0], \\\\\"score\\\\\": 0.32, \\\\\"completed\\\\\": false}\", \"{\\\\\"instant\\\\\": 60, \\\\\"action\\\\\": 2, \\\\\"current status\\\\\": [0.119, 1.095, 0.14, -0.337, 0.069, 0.017, 0.0, 0.0], \\\\\"score\\\\\": 4.455, \\\\\"completed\\\\\": false}\", \"{\\\\\"instant\\\\\": 63, \\\\\"action\\\\\": 2, \\\\\"current status\\\\\": [0.123, 1.07, 0.133, -0.35, 0.071, 0.027, 0.0, 0.0], \\\\\"score\\\\\": 4.269, \\\\\"completed\\\\\": false}\", \"{\\\\\"instant\\\\\": 66, \\\\\"action\\\\\": 2, \\\\\"current status\\\\\": [0.127, 1.046, 0.117, -0.348, 0.069, -0.023, 0.0, 0.0], \\\\\"score\\\\\": 2.82, \\\\\"completed\\\\\": false}\", \"{\\\\\"instant\\\\\": 69, \\\\\"action\\\\\": 2, \\\\\"current status\\\\\": [0.13, 1.021, 0.111, -0.369, 0.071, 0.016, 0.0, 0.0], \\\\\"score\\\\\": 0.527, \\\\\"completed\\\\\": false}\", \"{\\\\\"instant\\\\\": 72, \\\\\"action\\\\\": 2, \\\\\"current status\\\\\": [0.134, 0.995, 0.135, -0.383, 0.071, -0.009, 0.0, 0.0], \\\\\"score\\\\\": 0.435, \\\\\"completed\\\\\": false}\", \"{\\\\\"instant\\\\\": 75, \\\\\"action\\\\\": 1, \\\\\"current status\\\\\": [0.137, 0.97, 0.098, -0.381, 0.068, 0.004, 0.0, 0.0], \\\\\"score\\\\\": -1.563, \\\\\"completed\\\\\": false}\", \"{\\\\\"instant\\\\\": 78, \\\\\"action\\\\\": 2, \\\\\"current status\\\\\": [0.14, 0.946, 0.118, -0.35, 0.072, 0.035, 0.0, 0.0], \\\\\"score\\\\\": 0.819, \\\\\"completed\\\\\": false}\", \"{\\\\\"instant\\\\\": 81, \\\\\"action\\\\\": 2, \\\\\"current status\\\\\": [0.144, 0.922, 0.112, -0.334, 0.07, -0.022, 0.0, 0.0], \\\\\"score\\\\\": 4.148, \\\\\"completed\\\\\": false}\", \"{\\\\\"instant\\\\\": 84, \\\\\"action\\\\\": 3, \\\\\"current status\\\\\": [0.147, 0.898, 0.104, -0.366, 0.069, -0.039, 0.0, 0.0], \\\\\"score\\\\\": -1.816, \\\\\"completed\\\\\": false}\", \"{\\\\\"instant\\\\\": 87, \\\\\"action\\\\\": 2, \\\\\"current status\\\\\": [0.149, 0.874, 0.059, -0.34, 0.065, -0.017, 0.0, 0.0], \\\\\"score\\\\\": 4.722, \\\\\"completed\\\\\": false}\", \"{\\\\\"instant\\\\\": 90, \\\\\"action\\\\\": 2, \\\\\"current status\\\\\": [0.151, 0.849, 0.067, -0.369, 0.061, -0.005, 0.0, 0.0], \\\\\"score\\\\\": 2.859, \\\\\"completed\\\\\": false}\", \"{\\\\\"instant\\\\\": 93, \\\\\"action\\\\\": 3, \\\\\"current status\\\\\": [0.153, 0.825, 0.077, -0.356, 0.059, -0.028, 0.0, 0.0], \\\\\"score\\\\\": -1.862, \\\\\"completed\\\\\": false}\", \"{\\\\\"instant\\\\\": 96, \\\\\"action\\\\\": 2, \\\\\"current status\\\\\": [0.154, 0.8, 0.054, -0.385, 0.057, -0.0, 0.0, 0.0], \\\\\"score\\\\\": 0.799, \\\\\"completed\\\\\": false}\", \"{\\\\\"instant\\\\\": 99, \\\\\"action\\\\\": 2, \\\\\"current status\\\\\": [0.156, 0.777, 0.063, -0.319, 0.059, 0.021, 0.0, 0.0], \\\\\"score\\\\\": 3.197, \\\\\"completed\\\\\": false}\", \"{\\\\\"instant\\\\\": 102, \\\\\"action\\\\\": 1, \\\\\"current status\\\\\": [0.158, 0.755, 0.052, -0.333, 0.059, 0.025, 0.0, 0.0], \\\\\"score\\\\\": -1.941, \\\\\"completed\\\\\": false}\", \"{\\\\\"instant\\\\\": 105, \\\\\"action\\\\\": 2, \\\\\"current status\\\\\": [0.16, 0.731, 0.076, -0.351, 0.057, -0.008, 0.0, 0.0], \\\\\"score\\\\\": 0.286, \\\\\"completed\\\\\": false}\", \"{\\\\\"instant\\\\\": 108, \\\\\"action\\\\\": 2, \\\\\"current status\\\\\": [0.162, 0.709, 0.045, -0.311, 0.058, 0.024, 0.0, 0.0], \\\\\"score\\\\\": 4.417, \\\\\"completed\\\\\": false}\", \"{\\\\\"instant\\\\\": 111, \\\\\"action\\\\\": 2, \\\\\"current status\\\\\": [0.163, 0.684, 0.032, -0.367, 0.057, -0.001, 0.0, 0.0], \\\\\"score\\\\\": 0.364, \\\\\"completed\\\\\": false}\", \"{\\\\\"instant\\\\\": 114, \\\\\"action\\\\\": 2, \\\\\"current status\\\\\": [0.164, 0.661, 0.055, -0.333, 0.055, -0.019, 0.0, 0.0], \\\\\"score\\\\\": 2.887, \\\\\"completed\\\\\": false}\", \"{\\\\\"instant\\\\\": 117, \\\\\"action\\\\\": 3, \\\\\"current status\\\\\": [0.166, 0.637, 0.051, -0.372, 0.056, -0.027, 0.0, 0.0], \\\\\"score\\\\\": -1.826, \\\\\"completed\\\\\": false}\", \"{\\\\\"instant\\\\\": 120, \\\\\"action\\\\\": 1, \\\\\"current status\\\\\": [0.167, 0.613, 0.032, -0.373, 0.054, 0.02, 0.0, 0.0], \\\\\"score\\\\\": -1.863, \\\\\"completed\\\\\": false}\", \"{\\\\\"instant\\\\\": 123, \\\\\"action\\\\\": 2, \\\\\"current status\\\\\": [0.168, 0.588, 0.026, -0.359, 0.058, 0.022, 0.0, 0.0], \\\\\"score\\\\\": 1.555, \\\\\"completed\\\\\": false}\", \"{\\\\\"instant\\\\\": 126, \\\\\"action\\\\\": 2, \\\\\"current status\\\\\": [0.168, 0.563, 0.0, -0.374, 0.054, -0.039, 0.0, 0.0], \\\\\"score\\\\\": 0.886, \\\\\"completed\\\\\": false}\", \"{\\\\\"instant\\\\\": 129, \\\\\"action\\\\\": 2, \\\\\"current status\\\\\": [0.168, 0.538, -0.02, -0.348, 0.047, -0.05, 0.0, 0.0], \\\\\"score\\\\\": 3.486, \\\\\"completed\\\\\": false}\", \"{\\\\\"instant\\\\\": 132, \\\\\"action\\\\\": 3, \\\\\"current status\\\\\": [0.167, 0.514, -0.013, -0.365, 0.045, -0.032, 0.0, 0.0], \\\\\"score\\\\\": -1.729, \\\\\"completed\\\\\": false}\", \"{\\\\\"instant\\\\\": 135, \\\\\"action\\\\\": 1, \\\\\"current status\\\\\": [0.166, 0.49, -0.041, -0.362, 0.041, -0.001, 0.0, 0.0], \\\\\"score\\\\\": -2.079, \\\\\"completed\\\\\": false}\", \"{\\\\\"instant\\\\\": 138, \\\\\"action\\\\\": 2, \\\\\"current status\\\\\": [0.165, 0.466, -0.07, -0.314, 0.034, -0.061, 0.0, 0.0], \\\\\"score\\\\\": 4.248, \\\\\"completed\\\\\": false}\", \"{\\\\\"instant\\\\\": 141, \\\\\"action\\\\\": 2, \\\\\"current status\\\\\": [0.163, 0.443, -0.064, -0.333, 0.021, -0.071, 0.0, 0.0], \\\\\"score\\\\\": 4.077, \\\\\"completed\\\\\": false}\", \"{\\\\\"instant\\\\\": 144, \\\\\"action\\\\\": 3, \\\\\"current status\\\\\": [0.16, 0.419, -0.067, -0.364, 0.015, -0.062, 0.0, 0.0], \\\\\"score\\\\\": -1.297, \\\\\"completed\\\\\": false}\", \"{\\\\\"instant\\\\\": 147, \\\\\"action\\\\\": 2, \\\\\"current status\\\\\": [0.158, 0.395, -0.078, -0.357, 0.011, -0.013, 0.0, 0.0], \\\\\"score\\\\\": 2.316, \\\\\"completed\\\\\": false}\", \"{\\\\\"instant\\\\\": 150, \\\\\"action\\\\\": 3, \\\\\"current status\\\\\": [0.156, 0.371, -0.079, -0.363, 0.006, -0.067, 0.0, 0.0], \\\\\"score\\\\\": -1.251, \\\\\"completed\\\\\": false}\", \"{\\\\\"instant\\\\\": 153, \\\\\"action\\\\\": 1, \\\\\"current status\\\\\": [0.153, 0.348, -0.075, -0.34, 0.0, -0.013, 0.0, 0.0], \\\\\"score\\\\\": -2.061, \\\\\"completed\\\\\": false}\", \"{\\\\\"instant\\\\\": 156, \\\\\"action\\\\\": 3, \\\\\"current status\\\\\": [0.151, 0.326, -0.07, -0.357, 0.001, -0.005, 0.0, 0.0], \\\\\"score\\\\\": -1.649, \\\\\"completed\\\\\": false}\", \"{\\\\\"instant\\\\\": 159, \\\\\"action\\\\\": 1, \\\\\"current status\\\\\": [0.149, 0.305, -0.078, -0.324, 0.002, 0.035, 0.0, 0.0], \\\\\"score\\\\\": -2.364, \\\\\"completed\\\\\": false}\", \"{\\\\\"instant\\\\\": 162, \\\\\"action\\\\\": 2, \\\\\"current status\\\\\": [0.147, 0.281, -0.036, -0.347, 0.003, 0.021, 0.0, 0.0], \\\\\"score\\\\\": 0.805, \\\\\"completed\\\\\": false}\", \"{\\\\\"instant\\\\\": 165, \\\\\"action\\\\\": 1, \\\\\"current status\\\\\": [0.147, 0.261, -0.034, -0.306, 0.01, 0.079, 0.0, 0.0], \\\\\"score\\\\\": -2.523, \\\\\"completed\\\\\": false}\", \"{\\\\\"instant\\\\\": 168, \\\\\"action\\\\\": 2, \\\\\"current status\\\\\": [0.145, 0.241, -0.039, -0.286, 0.016, 0.034, 0.0, 0.0], \\\\\"score\\\\\": 2.398, \\\\\"completed\\\\\": false}\", \"{\\\\\"instant\\\\\": 171, \\\\\"action\\\\\": 1, \\\\\"current status\\\\\": [0.144, 0.221, -0.037, -0.321, 0.019, 0.027, 0.0, 0.0], \\\\\"score\\\\\": -2.302, \\\\\"completed\\\\\": false}\", \"{\\\\\"instant\\\\\": 174, \\\\\"action\\\\\": 2, \\\\\"current status\\\\\": [0.142, 0.203, -0.072, -0.252, 0.019, -0.002, 0.0, 0.0], \\\\\"score\\\\\": 2.742, \\\\\"completed\\\\\": false}\", \"{\\\\\"instant\\\\\": 177, \\\\\"action\\\\\": 1, \\\\\"current status\\\\\": [0.141, 0.184, -0.059, -0.292, 0.016, 0.012, 0.0, 0.0], \\\\\"score\\\\\": -2.342, \\\\\"completed\\\\\": false}\", \"{\\\\\"instant\\\\\": 180, \\\\\"action\\\\\": 2, \\\\\"current status\\\\\": [0.138, 0.167, -0.083, -0.234, 0.016, -0.008, 0.0, 0.0], \\\\\"score\\\\\": 3.916, \\\\\"completed\\\\\": false}\", \"{\\\\\"instant\\\\\": 183, \\\\\"action\\\\\": 2, \\\\\"current status\\\\\": [0.136, 0.154, -0.065, -0.164, 0.017, 0.014, 0.0, 0.0], \\\\\"score\\\\\": 2.989, \\\\\"completed\\\\\": false}\", \"{\\\\\"instant\\\\\": 186, \\\\\"action\\\\\": 2, \\\\\"current status\\\\\": [0.135, 0.14, -0.048, -0.215, 0.015, 0.007, 0.0, 0.0], \\\\\"score\\\\\": 0.55, \\\\\"completed\\\\\": false}\", \"{\\\\\"instant\\\\\": 189, \\\\\"action\\\\\": 1, \\\\\"current status\\\\\": [0.133, 0.127, -0.068, -0.192, 0.017, 0.041, 0.0, 0.0], \\\\\"score\\\\\": -2.799, \\\\\"completed\\\\\": false}\", \"{\\\\\"instant\\\\\": 192, \\\\\"action\\\\\": 2, \\\\\"current status\\\\\": [0.131, 0.116, -0.053, -0.173, 0.019, 0.01, 0.0, 0.0], \\\\\"score\\\\\": 1.411, \\\\\"completed\\\\\": false}\", \"{\\\\\"instant\\\\\": 195, \\\\\"action\\\\\": 1, \\\\\"current status\\\\\": [0.129, 0.108, -0.065, -0.124, 0.021, 0.042, 0.0, 0.0], \\\\\"score\\\\\": -2.775, \\\\\"completed\\\\\": false}\", \"{\\\\\"instant\\\\\": 198, \\\\\"action\\\\\": 2, \\\\\"current status\\\\\": [0.128, 0.096, -0.049, -0.176, 0.025, 0.043, 0.0, 0.0], \\\\\"score\\\\\": 0.251, \\\\\"completed\\\\\": false}\", \"{\\\\\"instant\\\\\": 201, \\\\\"action\\\\\": 2, \\\\\"current status\\\\\": [0.126, 0.085, -0.038, -0.169, 0.031, 0.057, 0.0, 0.0], \\\\\"score\\\\\": 0.571, \\\\\"completed\\\\\": false}\", \"{\\\\\"instant\\\\\": 204, \\\\\"action\\\\\": 2, \\\\\"current status\\\\\": [0.124, 0.075, -0.066, -0.12, 0.037, 0.037, 0.0, 0.0], \\\\\"score\\\\\": 2.295, \\\\\"completed\\\\\": false}\", \"{\\\\\"instant\\\\\": 207, \\\\\"action\\\\\": 2, \\\\\"current status\\\\\": [0.123, 0.065, -0.057, -0.134, 0.039, 0.033, 0.0, 0.0], \\\\\"score\\\\\": 3.669, \\\\\"completed\\\\\": false}\", \"{\\\\\"instant\\\\\": 210, \\\\\"action\\\\\": 2, \\\\\"current status\\\\\": [0.12, 0.054, -0.079, -0.16, 0.048, 0.056, 0.0, 0.0], \\\\\"score\\\\\": -0.221, \\\\\"completed\\\\\": false}\", \"{\\\\\"instant\\\\\": 213, \\\\\"action\\\\\": 2, \\\\\"current status\\\\\": [0.118, 0.044, -0.1, -0.12, 0.048, -0.008, 0.0, 0.0], \\\\\"score\\\\\": 1.605, \\\\\"completed\\\\\": false}\", \"{\\\\\"instant\\\\\": 216, \\\\\"action\\\\\": 3, \\\\\"current status\\\\\": [0.115, 0.035, -0.079, -0.131, 0.039, -0.09, 0.0, 0.0], \\\\\"score\\\\\": -0.975, \\\\\"completed\\\\\": false}\", \"{\\\\\"instant\\\\\": 219, \\\\\"action\\\\\": 2, \\\\\"current status\\\\\": [0.112, 0.026, -0.114, -0.128, 0.029, -0.08, 0.0, 0.0], \\\\\"score\\\\\": -0.458, \\\\\"completed\\\\\": false}\", \"{\\\\\"instant\\\\\": 222, \\\\\"action\\\\\": 1, \\\\\"current status\\\\\": [0.109, 0.018, -0.119, -0.139, 0.014, -0.077, 0.0, 0.0], \\\\\"score\\\\\": -2.236, \\\\\"completed\\\\\": false}\", \"{\\\\\"instant\\\\\": 225, \\\\\"action\\\\\": 2, \\\\\"current status\\\\\": [0.105, 0.011, -0.122, -0.098, 0.006, -0.033, 0.0, 0.0], \\\\\"score\\\\\": 2.885, \\\\\"completed\\\\\": false}\", \"{\\\\\"instant\\\\\": 228, \\\\\"action\\\\\": 3, \\\\\"current status\\\\\": [0.101, 0.003, -0.125, -0.137, 0.006, -0.027, 0.0, 0.0], \\\\\"score\\\\\": -1.037, \\\\\"completed\\\\\": false}\", \"{\\\\\"instant\\\\\": 231, \\\\\"action\\\\\": 2, \\\\\"current status\\\\\": [0.097, -0.003, -0.12, -0.031, 0.001, -0.019, 1.0, 1.0], \\\\\"score\\\\\": 24.449, \\\\\"completed\\\\\": false}\", \"{\\\\\"instant\\\\\": 234, \\\\\"action\\\\\": 0, \\\\\"current status\\\\\": [0.094, -0.002, -0.088, 0.042, 0.002, 0.009, 1.0, 1.0], \\\\\"score\\\\\": 0.319, \\\\\"completed\\\\\": false}\", \"{\\\\\"instant\\\\\": 237, \\\\\"action\\\\\": 0, \\\\\"current status\\\\\": [0.091, -0.001, -0.08, -0.0, -0.009, 0.001, 1.0, 0.0], \\\\\"score\\\\\": -9.578, \\\\\"completed\\\\\": false}\", \"{\\\\\"instant\\\\\": 240, \\\\\"action\\\\\": 2, \\\\\"current status\\\\\": [0.089, 0.001, -0.081, 0.02, -0.002, 0.051, 1.0, 0.0], \\\\\"score\\\\\": 0.256, \\\\\"completed\\\\\": false}\", \"{\\\\\"instant\\\\\": 243, \\\\\"action\\\\\": 0, \\\\\"current status\\\\\": [0.087, 0.001, -0.08, -0.02, 0.006, 0.052, 0.0, 0.0], \\\\\"score\\\\\": -0.387, \\\\\"completed\\\\\": false}\", \"{\\\\\"instant\\\\\": 246, \\\\\"action\\\\\": 2, \\\\\"current status\\\\\": [0.084, -0.001, -0.089, -0.0, -0.009, 0.0, 1.0, 0.0], \\\\\"score\\\\\": 0.542, \\\\\"completed\\\\\": false}\", \"{\\\\\"instant\\\\\": 249, \\\\\"action\\\\\": 2, \\\\\"current status\\\\\": [0.082, 0.002, -0.09, 0.042, 0.005, 0.075, 0.0, 0.0], \\\\\"score\\\\\": -12.119, \\\\\"completed\\\\\": false}\", \"{\\\\\"instant\\\\\": 252, \\\\\"action\\\\\": 0, \\\\\"current status\\\\\": [0.079, 0.001, -0.086, -0.024, 0.008, -0.087, 0.0, 1.0], \\\\\"score\\\\\": 10.638, \\\\\"completed\\\\\": false}\", \"{\\\\\"instant\\\\\": 255, \\\\\"action\\\\\": 0, \\\\\"current status\\\\\": [0.077, 0.0, -0.075, 0.0, -0.0, -0.0, 1.0, 1.0], \\\\\"score\\\\\": 0.658, \\\\\"completed\\\\\": false}\", \"{\\\\\"instant\\\\\": 258, \\\\\"action\\\\\": 0, \\\\\"current status\\\\\": [0.075, 0.0, -0.058, -0.0, -0.0, 0.0, 1.0, 1.0], \\\\\"score\\\\\": 0.624, \\\\\"completed\\\\\": false}\", \"{\\\\\"instant\\\\\": 261, \\\\\"action\\\\\": 0, \\\\\"current status\\\\\": [0.073, 0.0, -0.041, 0.0, -0.0, -0.0, 1.0, 1.0], \\\\\"score\\\\\": 0.607, \\\\\"completed\\\\\": false}\", \"{\\\\\"instant\\\\\": 264, \\\\\"action\\\\\": 0, \\\\\"current status\\\\\": [0.072, 0.0, -0.024, 0.0, -0.0, -0.0, 1.0, 1.0], \\\\\"score\\\\\": 0.59, \\\\\"completed\\\\\": false}\", \"{\\\\\"instant\\\\\": 267, \\\\\"action\\\\\": 0, \\\\\"current status\\\\\": [0.072, 0.0, -0.007, 0.0, -0.0, -0.0, 1.0, 1.0], \\\\\"score\\\\\": 0.573, \\\\\"completed\\\\\": false}\", \"{\\\\\"instant\\\\\": 270, \\\\\"action\\\\\": 0, \\\\\"current status\\\\\": [0.072, 0.0, 0.001, 0.0, -0.0, -0.0, 1.0, 1.0], \\\\\"score\\\\\": -0.016, \\\\\"completed\\\\\": false}\", \"{\\\\\"instant\\\\\": 273, \\\\\"action\\\\\": 0, \\\\\"current status\\\\\": [0.072, 0.0, -0.0, -0.0, -0.0, 0.0, 1.0, 1.0], \\\\\"score\\\\\": -0.012, \\\\\"completed\\\\\": false}\", \"{\\\\\"instant\\\\\": 276, \\\\\"action\\\\\": 0, \\\\\"current status\\\\\": [0.072, 0.0, 0.0, 0.0, -0.0, -0.0, 1.0, 1.0], \\\\\"score\\\\\": -0.004, \\\\\"completed\\\\\": false}\", \"{\\\\\"instant\\\\\": 279, \\\\\"action\\\\\": 0, \\\\\"current status\\\\\": [0.072, 0.0, -0.0, -0.0, -0.0, 0.0, 1.0, 1.0], \\\\\"score\\\\\": -0.0, \\\\\"completed\\\\\": false}\", \"{\\\\\"instant\\\\\": 282, \\\\\"action\\\\\": 0, \\\\\"current status\\\\\": [0.072, 0.0, 0.0, 0.0, -0.0, -0.0, 1.0, 1.0], \\\\\"score\\\\\": 0.0, \\\\\"completed\\\\\": false}\", \"{\\\\\"instant\\\\\": 285, \\\\\"action\\\\\": 0, \\\\\"current status\\\\\": [0.072, 0.0, -0.0, -0.0, -0.0, 0.0, 1.0, 1.0], \\\\\"score\\\\\": 0.0, \\\\\"completed\\\\\": false}\", \"{\\\\\"instant\\\\\": 288, \\\\\"action\\\\\": 0, \\\\\"current status\\\\\": [0.072, 0.0, -0.0, -0.0, -0.0, 0.0, 1.0, 1.0], \\\\\"score\\\\\": 0.0, \\\\\"completed\\\\\": false}\", \"{\\\\\"instant\\\\\": 291, \\\\\"action\\\\\": 0, \\\\\"current status\\\\\": [0.072, 0.0, 0.0, 0.0, -0.0, -0.0, 1.0, 1.0], \\\\\"score\\\\\": 0.0, \\\\\"completed\\\\\": false}\", \"{\\\\\"instant\\\\\": 292, \\\\\"action\\\\\": 0, \\\\\"current status\\\\\": [0.072, 0.0, 0.0, 0.0, -0.0, 0.0, 1.0, 1.0], \\\\\"score\\\\\": 100, \\\\\"completed\\\\\": true}\"], \"total score\": 250.95603853587886}'"
      ]
     },
     "execution_count": 20,
     "metadata": {},
     "output_type": "execute_result"
    }
   ],
   "source": [
    "import DuelingDQN\n",
    "\n",
    "agent = DuelingDQN.Agent(num_observaciones=8, num_acciones=4, red_modelo=DuelingDQN.DuelingQNetwork, seed=0)\n",
    "# Cargamos los pesos del agente entrenado.\n",
    "agent.load_weights('checkpoint_Dueling.pth')\n",
    "\n",
    "success_logs = lunar_lander(n_games=1, display=True, seed=42, agent=agent)\n",
    "success_logs"
   ]
  },
  {
   "cell_type": "markdown",
   "metadata": {},
   "source": [
    "#### Bucle iterativo\n",
    "\n",
    "Sección principal del código encargada de conectar con el asistente de la API de OpenAI e iterar en la generación de código nuevo a partir de los registros del generado previamente."
   ]
  },
  {
   "cell_type": "code",
   "execution_count": 21,
   "metadata": {},
   "outputs": [],
   "source": [
    "import traceback, importlib\n",
    "import Action\n",
    "\n",
    "Action = importlib.reload(Action)\n",
    "\n",
    "def create_and_run_llm_loop(Incial_msg, logger, model=\"gpt-3.5-turbo\", num_iterations=10):\n",
    "    \n",
    "    agente = AssistantOpenAI(ARCLABKEY_OPENAI)\n",
    "\n",
    "    # Crea un asistente\n",
    "    asistente = agente.create_assistant(model=model, description=DESCRIPTION, instructions=INSTRUCTIONS, name=NAME, tools=TOOLS)\n",
    "    \n",
    "    # Crea un hilo\n",
    "    hilo = agente.create_thread()\n",
    "    \n",
    "    # Añade un mensaje inicial al hilo.\n",
    "    msg = agente.add_message(hilo.id, role=\"user\", content=Incial_msg)\n",
    "\n",
    "    # Bucle de aprendizaje del asistente.\n",
    "    for i in range(num_iterations):\n",
    "        \n",
    "        logger.info(f\"Iteration: {i+1}\")\n",
    "        compiled = False\n",
    "\n",
    "        # Si en la presente iteración no se ha compilado el código, se pide al asistente corregir los errores antes de iterar.\n",
    "        while not compiled:\n",
    "            # Ejecuta el hilo\n",
    "            ejecucion = agente.run(hilo.id, asistente.id)\n",
    "            response = agente.get_run(ejecucion.id, hilo.id)\n",
    "\n",
    "            # Esperamos a que la respuesta esté lista.\n",
    "            while response.status not in [\"completed\", \"failed\", \"requires_action\"]:\n",
    "                logger.info(f\"Status: {ejecucion.status}\")\n",
    "                response = agente.get_run(ejecucion.id, hilo.id)\n",
    "                time.sleep(20)\n",
    "\n",
    "            # Descomponemos los elementos de la respuesta.\n",
    "            logger.info(f\"Status: {response.status}\")\n",
    "            if response.status == \"completed\":\n",
    "                return response\n",
    "            tool_call = response.required_action.submit_tool_outputs.tool_calls\n",
    "            print(f\"Tool call: {tool_call}\")\n",
    "\n",
    "            # Convierte el string a un diccionario\n",
    "            code_dict = json.loads(tool_call[0].function.arguments)\n",
    "            logger.info(f\"Arguments: {code_dict}\")\n",
    "            \n",
    "            # Obtén el código Python de la llamada a la herramienta\n",
    "            code = code_dict[\"code\"]\n",
    "            filename = code_dict[\"filename\"]  \n",
    "\n",
    "            logger.info(f\"\\nCodigo generado:\\n{code}\")\n",
    "\n",
    "            # Ejecuta el código Python\n",
    "            try:\n",
    "                store_code_in_file(code, filename)\n",
    "                time.sleep(1) # Pequeño retraso para que el sistema operativo pueda reflejar los cambios en el archivo\n",
    "                \n",
    "                # Hacemos commit de los cambios en el repositorio para analizar las modificaciones del agente.\n",
    "                commit_changes(r\"C:\\Users\\adria\\Repos\\TFM__LLM_landing_self-refinement\", f\"Second upgrade prompt {i+1}.\") \n",
    "                \n",
    "                importlib.reload(Action) # Recargamos el módulo de acciones para que se actualice con las modificaciones del agente.\n",
    "\n",
    "                # Ejecutamos el código generado.\n",
    "                logs = lunar_lander(n_games=1, display=True, recoder=True, video_filename=f\"video/iteration_{i+1}.mp4\")\n",
    "                \n",
    "                # Devolvemos la respuesta al asistente.\n",
    "                for call in tool_call:\n",
    "                    agente.devolver_respuesta(response.id, hilo.id, tool_outputs=[{\"tool_call_id\": call.id, \"output\": \"Run successful.\"}])            \n",
    "                compiled = True\n",
    "                logger.info(f\"Compilación exitosa.\")\n",
    "                \n",
    "                # Esperamos a que el agente esté listo para recibir mensajes y le añadimos el resultado de la iteración.\n",
    "                while response.status not in [\"completed\", \"failed\", \"expired\"]:\n",
    "                    logger.info(f\"Status: {response.status}\")\n",
    "                    response = agente.get_run(response.id, hilo.id)\n",
    "                    time.sleep(20)\n",
    "                \n",
    "                msg = f\"\"\"These are the logs generated in the last execution{logs}. You have to improve the last code generated to maximize the reward. Please, make it more efficient, faster and more robust.\"\"\"\n",
    "                logger.info(msg)    \n",
    "                agente.add_message(hilo.id, role=\"user\", content=msg)\n",
    "            \n",
    "            # Alimentamos el asistente con el error generado en la ejecución del código.    \n",
    "            except Exception as e:\n",
    "                logger.exception(\"Error: %s\", e)\n",
    "                error_trace = traceback.format_exc()\n",
    "                for call in tool_call:\n",
    "                    agente.devolver_respuesta(response.id, hilo.id, tool_outputs=[{\"tool_call_id\": call.id, \"output\": \"ERROR.\"}]) \n",
    "                logger.error(f\"Error: {e}.\")\n",
    "                while response.status not in [\"completed\", \"failed\", \"expired\"]:\n",
    "                    logger.info(f\"Status: {response.status}\")\n",
    "                    response = agente.get_run(ejecucion.id, hilo.id)\n",
    "                    time.sleep(30)\n",
    "                msg = f\"The code generated has an error. Please, try again. Error: {e}. Trace: {error_trace}\"   \n",
    "                logger.error(msg)   \n",
    "                agente.add_message(hilo.id, role=\"assistant\", content=msg)\n",
    "    \n",
    "    agente.mostrar_mensajes(hilo.id)  \n",
    "    vaciar_agente(agente)\n",
    "    \n",
    "    logger.info(\"\\nEjecución finalizada.\\n\\n\")       \n",
    "\n",
    "    return response\n",
    "\n",
    "\n",
    "def vaciar_agente(agente):\n",
    "    for assistant in agente.assistants:\n",
    "        agente.delete_assistant(assistant)\n",
    "\n",
    "    for thread in agente.threads:\n",
    "        agente.delete_thread(thread)\n",
    "        \n",
    "    print(\"Asistente vaciado.\")\n"
   ]
  },
  {
   "cell_type": "markdown",
   "metadata": {},
   "source": [
    "#### Logger"
   ]
  },
  {
   "cell_type": "code",
   "execution_count": 22,
   "metadata": {},
   "outputs": [],
   "source": [
    "def configura_log(nombre_archivo):\n",
    "    \"\"\" \n",
    "    Configura el logger para que guarde los logs en un archivo y los muestre en la consola.\n",
    "    \n",
    "    Args:\n",
    "        nombre_archivo: str Nombre del archivo donde se guardarán los logs.\n",
    "        \n",
    "    Returns:\n",
    "        logger: logging.Logger Objeto logger configurado.\n",
    "    \"\"\"\n",
    "    # Crear la carpeta logs si no existe\n",
    "    if not os.path.exists('logs'):\n",
    "        os.makedirs('logs')\n",
    "    # Configura el logger\n",
    "    logging.basicConfig(filename=f'logs/{nombre_archivo}', level=logging.INFO, format='%(asctime)s - %(levelname)s - %(message)s')\n",
    "    logger = logging.getLogger()\n",
    "    \n",
    "    # Añade un StreamHandler para mostrar los logs en la consola\n",
    "    console_handler = logging.StreamHandler()\n",
    "    console_handler.setLevel(logging.INFO)\n",
    "    formatter = logging.Formatter('%(asctime)s - %(levelname)s - %(message)s')\n",
    "    console_handler.setFormatter(formatter)\n",
    "    logger.addHandler(console_handler)\n",
    "    \n",
    "    return logger"
   ]
  },
  {
   "cell_type": "markdown",
   "metadata": {},
   "source": [
    "### Ejecución con el asistente\n",
    "\n",
    "Prompt inicial y mensajes del sistema para el asistente."
   ]
  },
  {
   "cell_type": "code",
   "execution_count": 23,
   "metadata": {},
   "outputs": [
    {
     "name": "stderr",
     "output_type": "stream",
     "text": [
      "2024-06-14 12:15:23,128 - INFO - HTTP Request: POST https://api.openai.com/v1/assistants \"HTTP/1.1 200 OK\"\n",
      "2024-06-14 12:15:23,466 - INFO - HTTP Request: POST https://api.openai.com/v1/threads \"HTTP/1.1 200 OK\"\n",
      "2024-06-14 12:15:23,804 - INFO - HTTP Request: POST https://api.openai.com/v1/threads/thread_tEwMUqPxpVlU0MF2WcmFxgD6/messages \"HTTP/1.1 200 OK\"\n",
      "2024-06-14 12:15:23,959 - INFO - Iteration: 1\n",
      "2024-06-14 12:15:24,525 - INFO - HTTP Request: POST https://api.openai.com/v1/threads/thread_tEwMUqPxpVlU0MF2WcmFxgD6/runs \"HTTP/1.1 200 OK\"\n",
      "2024-06-14 12:15:24,849 - INFO - HTTP Request: GET https://api.openai.com/v1/threads/thread_tEwMUqPxpVlU0MF2WcmFxgD6/runs/run_wtKySvUCkcivskfIaQwkl2tp \"HTTP/1.1 200 OK\"\n",
      "2024-06-14 12:15:24,858 - INFO - Status: queued\n",
      "2024-06-14 12:15:25,078 - INFO - HTTP Request: GET https://api.openai.com/v1/threads/thread_tEwMUqPxpVlU0MF2WcmFxgD6/runs/run_wtKySvUCkcivskfIaQwkl2tp \"HTTP/1.1 200 OK\"\n",
      "2024-06-14 12:15:45,082 - INFO - Status: queued\n",
      "2024-06-14 12:15:46,129 - INFO - HTTP Request: GET https://api.openai.com/v1/threads/thread_tEwMUqPxpVlU0MF2WcmFxgD6/runs/run_wtKySvUCkcivskfIaQwkl2tp \"HTTP/1.1 200 OK\"\n",
      "2024-06-14 12:16:06,133 - INFO - Status: queued\n",
      "2024-06-14 12:16:06,485 - INFO - HTTP Request: GET https://api.openai.com/v1/threads/thread_tEwMUqPxpVlU0MF2WcmFxgD6/runs/run_wtKySvUCkcivskfIaQwkl2tp \"HTTP/1.1 200 OK\"\n",
      "2024-06-14 12:16:26,489 - INFO - Status: queued\n",
      "2024-06-14 12:16:26,757 - INFO - HTTP Request: GET https://api.openai.com/v1/threads/thread_tEwMUqPxpVlU0MF2WcmFxgD6/runs/run_wtKySvUCkcivskfIaQwkl2tp \"HTTP/1.1 200 OK\"\n",
      "2024-06-14 12:16:46,761 - INFO - Status: queued\n",
      "2024-06-14 12:16:47,048 - INFO - HTTP Request: GET https://api.openai.com/v1/threads/thread_tEwMUqPxpVlU0MF2WcmFxgD6/runs/run_wtKySvUCkcivskfIaQwkl2tp \"HTTP/1.1 200 OK\"\n",
      "2024-06-14 12:17:07,053 - INFO - Status: queued\n",
      "2024-06-14 12:17:07,327 - INFO - HTTP Request: GET https://api.openai.com/v1/threads/thread_tEwMUqPxpVlU0MF2WcmFxgD6/runs/run_wtKySvUCkcivskfIaQwkl2tp \"HTTP/1.1 200 OK\"\n",
      "2024-06-14 12:17:27,330 - INFO - Status: queued\n",
      "2024-06-14 12:17:27,599 - INFO - HTTP Request: GET https://api.openai.com/v1/threads/thread_tEwMUqPxpVlU0MF2WcmFxgD6/runs/run_wtKySvUCkcivskfIaQwkl2tp \"HTTP/1.1 200 OK\"\n",
      "2024-06-14 12:17:47,603 - INFO - Status: queued\n",
      "2024-06-14 12:17:47,905 - INFO - HTTP Request: GET https://api.openai.com/v1/threads/thread_tEwMUqPxpVlU0MF2WcmFxgD6/runs/run_wtKySvUCkcivskfIaQwkl2tp \"HTTP/1.1 200 OK\"\n",
      "2024-06-14 12:18:07,908 - INFO - Status: queued\n",
      "2024-06-14 12:18:08,162 - INFO - HTTP Request: GET https://api.openai.com/v1/threads/thread_tEwMUqPxpVlU0MF2WcmFxgD6/runs/run_wtKySvUCkcivskfIaQwkl2tp \"HTTP/1.1 200 OK\"\n",
      "2024-06-14 12:18:28,166 - INFO - Status: queued\n",
      "2024-06-14 12:18:28,502 - INFO - HTTP Request: GET https://api.openai.com/v1/threads/thread_tEwMUqPxpVlU0MF2WcmFxgD6/runs/run_wtKySvUCkcivskfIaQwkl2tp \"HTTP/1.1 200 OK\"\n",
      "2024-06-14 12:18:48,505 - INFO - Status: queued\n",
      "2024-06-14 12:18:48,826 - INFO - HTTP Request: GET https://api.openai.com/v1/threads/thread_tEwMUqPxpVlU0MF2WcmFxgD6/runs/run_wtKySvUCkcivskfIaQwkl2tp \"HTTP/1.1 200 OK\"\n",
      "2024-06-14 12:19:08,830 - INFO - Status: queued\n",
      "2024-06-14 12:19:09,077 - INFO - HTTP Request: GET https://api.openai.com/v1/threads/thread_tEwMUqPxpVlU0MF2WcmFxgD6/runs/run_wtKySvUCkcivskfIaQwkl2tp \"HTTP/1.1 200 OK\"\n",
      "2024-06-14 12:19:29,082 - INFO - Status: queued\n",
      "2024-06-14 12:19:29,373 - INFO - HTTP Request: GET https://api.openai.com/v1/threads/thread_tEwMUqPxpVlU0MF2WcmFxgD6/runs/run_wtKySvUCkcivskfIaQwkl2tp \"HTTP/1.1 200 OK\"\n",
      "2024-06-14 12:19:49,378 - INFO - Status: queued\n",
      "2024-06-14 12:19:49,644 - INFO - HTTP Request: GET https://api.openai.com/v1/threads/thread_tEwMUqPxpVlU0MF2WcmFxgD6/runs/run_wtKySvUCkcivskfIaQwkl2tp \"HTTP/1.1 200 OK\"\n",
      "2024-06-14 12:20:09,647 - INFO - Status: queued\n",
      "2024-06-14 12:20:09,948 - INFO - HTTP Request: GET https://api.openai.com/v1/threads/thread_tEwMUqPxpVlU0MF2WcmFxgD6/runs/run_wtKySvUCkcivskfIaQwkl2tp \"HTTP/1.1 200 OK\"\n",
      "2024-06-14 12:20:29,952 - INFO - Status: queued\n",
      "2024-06-14 12:20:30,250 - INFO - HTTP Request: GET https://api.openai.com/v1/threads/thread_tEwMUqPxpVlU0MF2WcmFxgD6/runs/run_wtKySvUCkcivskfIaQwkl2tp \"HTTP/1.1 200 OK\"\n",
      "2024-06-14 12:20:50,263 - INFO - Status: requires_action\n"
     ]
    },
    {
     "name": "stdout",
     "output_type": "stream",
     "text": [
      "Tool call: [RequiredActionFunctionToolCall(id='call_WGTXmFQx7DjfCORbV9eYK5Fr', function=Function(arguments=\"The logs reveal the dynamics of the ship's state across multiple time steps. Reviewing the successful landing’s details, the key criteria for a smooth landing include stabilizing the X-coordinate and Y-coordinate positions, managing X and Y velocities to ensure they are within safe limits, and controlling the angle and angular velocity.\\n\\nHere's an approach to improving the act function's decision-making:\\n\\n1. **Stabilize Position and Velocity**: If the velocities or positions deviate too much, the function should take corrective actions.\\n   - If the vertical velocity (Y velocity) is too high, activate the main thruster (action 2).\\n   - If the horizontal velocity (X velocity) is too high, activate the left or right thrusters (action 1 or 3) to counteract the speed.\\n   - Keep the vertical descent controlled by maintaining a balance between the thrusters and the vertical velocity.\\n\\n2. **Control the Angle**: If the angle and angular velocity deviate significantly, corrective actions using the left or right thrusters should be taken to stabilize.\\n   \\n3. **Landing Safety**: As the ship approaches the ground, ensure minimal velocity and a level angle to avoid crashes and activate downward thrusters just before the final moments.\\n   \\nHere is the step-by-step reasoning translated into an improved `act` function:\\n\\n```python\\nimport numpy as np\\n\\ndef act(observation):\\n    x_pos, y_pos, x_vel, y_vel, angle, ang_vel, left_contact, right_contact = observation\\n\\n    # Parameters to tweak\\n    SAFE_X_VEL = 0.1\\n    SAFE_Y_VEL = 0.1\\n    SAFE_ANGLE = 0.1\\n    SAFE_ANG_VEL = 0.1\\n    \\n    if abs(x_vel) > SAFE_X_VEL:\\n        if x_vel > 0:\\n            return 3  # Left thruster\\n        else:\\n            return 1  # Right thruster\\n              \\n    if abs(y_vel) > SAFE_Y_VEL:\\n        return 2  # Main thruster to slow down vertical speed\\n\\n    if abs(angle) > SAFE_ANGLE or abs(ang_vel) > SAFE_ANG_VEL:\\n        if angle > 0:\\n            return 3  # Left thruster to counter clockwise rotation\\n        else:\\n            return 1  # Right thruster to clockwise rotation\\n    \\n    # Approaching ground, activate main thruster to control descent\\n    if y_pos < 0.2 and abs(y_vel) > 0.2:\\n        return 2\\n\\n    # If in a good stable condition, do nothing\\n    return 0\\n```\\n\\nThis logical approach should help in making the ship maintain a stable descent while ensuring it doesn't drift too far horizontally, also taking corrective measures when the angle or velocities deviate significantly from safe values.\\n\\nNow, let's store this improved code into the file 'Action.py'.\", name='store_code_in_file'), type='function')]\n"
     ]
    },
    {
     "ename": "JSONDecodeError",
     "evalue": "Expecting value: line 1 column 1 (char 0)",
     "output_type": "error",
     "traceback": [
      "\u001b[1;31m---------------------------------------------------------------------------\u001b[0m",
      "\u001b[1;31mJSONDecodeError\u001b[0m                           Traceback (most recent call last)",
      "Cell \u001b[1;32mIn[23], line 20\u001b[0m\n\u001b[0;32m     17\u001b[0m initial_msg \u001b[38;5;241m=\u001b[39m \u001b[38;5;124mf\u001b[39m\u001b[38;5;124m\"\u001b[39m\u001b[38;5;124mThis is the record of an example of a successful landing in this environment, but under other conditions: \u001b[39m\u001b[38;5;132;01m{\u001b[39;00msuccess_logs\u001b[38;5;132;01m}\u001b[39;00m\u001b[38;5;124m. This is the code of the initial function: \u001b[39m\u001b[38;5;132;01m{\u001b[39;00magent_initial_code\u001b[38;5;132;01m}\u001b[39;00m\u001b[38;5;124m and these are the execution logs of one landing attempt: \u001b[39m\u001b[38;5;132;01m{\u001b[39;00minitial_logs\u001b[38;5;132;01m}\u001b[39;00m\u001b[38;5;124m.Take a deep breath and reason step-by-step. After reasoning analyze the results, learn and make better code.\u001b[39m\u001b[38;5;124m\"\u001b[39m\n\u001b[0;32m     19\u001b[0m logger \u001b[38;5;241m=\u001b[39m configura_log(\u001b[38;5;124m'\u001b[39m\u001b[38;5;124mSpacecraft_4o_betterprompt.log\u001b[39m\u001b[38;5;124m'\u001b[39m)\n\u001b[1;32m---> 20\u001b[0m response \u001b[38;5;241m=\u001b[39m create_and_run_llm_loop(initial_msg, logger, model\u001b[38;5;241m=\u001b[39m\u001b[38;5;124m\"\u001b[39m\u001b[38;5;124mgpt-4o\u001b[39m\u001b[38;5;124m\"\u001b[39m, num_iterations\u001b[38;5;241m=\u001b[39m\u001b[38;5;241m5\u001b[39m)\n\u001b[0;32m     22\u001b[0m \u001b[38;5;28mprint\u001b[39m(response)\n",
      "Cell \u001b[1;32mIn[21], line 45\u001b[0m, in \u001b[0;36mcreate_and_run_llm_loop\u001b[1;34m(Incial_msg, logger, model, num_iterations)\u001b[0m\n\u001b[0;32m     42\u001b[0m \u001b[38;5;28mprint\u001b[39m(\u001b[38;5;124mf\u001b[39m\u001b[38;5;124m\"\u001b[39m\u001b[38;5;124mTool call: \u001b[39m\u001b[38;5;132;01m{\u001b[39;00mtool_call\u001b[38;5;132;01m}\u001b[39;00m\u001b[38;5;124m\"\u001b[39m)\n\u001b[0;32m     44\u001b[0m \u001b[38;5;66;03m# Convierte el string a un diccionario\u001b[39;00m\n\u001b[1;32m---> 45\u001b[0m code_dict \u001b[38;5;241m=\u001b[39m json\u001b[38;5;241m.\u001b[39mloads(tool_call[\u001b[38;5;241m0\u001b[39m]\u001b[38;5;241m.\u001b[39mfunction\u001b[38;5;241m.\u001b[39marguments)\n\u001b[0;32m     46\u001b[0m logger\u001b[38;5;241m.\u001b[39minfo(\u001b[38;5;124mf\u001b[39m\u001b[38;5;124m\"\u001b[39m\u001b[38;5;124mArguments: \u001b[39m\u001b[38;5;132;01m{\u001b[39;00mcode_dict\u001b[38;5;132;01m}\u001b[39;00m\u001b[38;5;124m\"\u001b[39m)\n\u001b[0;32m     48\u001b[0m \u001b[38;5;66;03m# Obtén el código Python de la llamada a la herramienta\u001b[39;00m\n",
      "File \u001b[1;32mc:\\Users\\adria\\anaconda3\\Lib\\json\\__init__.py:346\u001b[0m, in \u001b[0;36mloads\u001b[1;34m(s, cls, object_hook, parse_float, parse_int, parse_constant, object_pairs_hook, **kw)\u001b[0m\n\u001b[0;32m    341\u001b[0m     s \u001b[38;5;241m=\u001b[39m s\u001b[38;5;241m.\u001b[39mdecode(detect_encoding(s), \u001b[38;5;124m'\u001b[39m\u001b[38;5;124msurrogatepass\u001b[39m\u001b[38;5;124m'\u001b[39m)\n\u001b[0;32m    343\u001b[0m \u001b[38;5;28;01mif\u001b[39;00m (\u001b[38;5;28mcls\u001b[39m \u001b[38;5;129;01mis\u001b[39;00m \u001b[38;5;28;01mNone\u001b[39;00m \u001b[38;5;129;01mand\u001b[39;00m object_hook \u001b[38;5;129;01mis\u001b[39;00m \u001b[38;5;28;01mNone\u001b[39;00m \u001b[38;5;129;01mand\u001b[39;00m\n\u001b[0;32m    344\u001b[0m         parse_int \u001b[38;5;129;01mis\u001b[39;00m \u001b[38;5;28;01mNone\u001b[39;00m \u001b[38;5;129;01mand\u001b[39;00m parse_float \u001b[38;5;129;01mis\u001b[39;00m \u001b[38;5;28;01mNone\u001b[39;00m \u001b[38;5;129;01mand\u001b[39;00m\n\u001b[0;32m    345\u001b[0m         parse_constant \u001b[38;5;129;01mis\u001b[39;00m \u001b[38;5;28;01mNone\u001b[39;00m \u001b[38;5;129;01mand\u001b[39;00m object_pairs_hook \u001b[38;5;129;01mis\u001b[39;00m \u001b[38;5;28;01mNone\u001b[39;00m \u001b[38;5;129;01mand\u001b[39;00m \u001b[38;5;129;01mnot\u001b[39;00m kw):\n\u001b[1;32m--> 346\u001b[0m     \u001b[38;5;28;01mreturn\u001b[39;00m _default_decoder\u001b[38;5;241m.\u001b[39mdecode(s)\n\u001b[0;32m    347\u001b[0m \u001b[38;5;28;01mif\u001b[39;00m \u001b[38;5;28mcls\u001b[39m \u001b[38;5;129;01mis\u001b[39;00m \u001b[38;5;28;01mNone\u001b[39;00m:\n\u001b[0;32m    348\u001b[0m     \u001b[38;5;28mcls\u001b[39m \u001b[38;5;241m=\u001b[39m JSONDecoder\n",
      "File \u001b[1;32mc:\\Users\\adria\\anaconda3\\Lib\\json\\decoder.py:337\u001b[0m, in \u001b[0;36mJSONDecoder.decode\u001b[1;34m(self, s, _w)\u001b[0m\n\u001b[0;32m    332\u001b[0m \u001b[38;5;28;01mdef\u001b[39;00m \u001b[38;5;21mdecode\u001b[39m(\u001b[38;5;28mself\u001b[39m, s, _w\u001b[38;5;241m=\u001b[39mWHITESPACE\u001b[38;5;241m.\u001b[39mmatch):\n\u001b[0;32m    333\u001b[0m \u001b[38;5;250m    \u001b[39m\u001b[38;5;124;03m\"\"\"Return the Python representation of ``s`` (a ``str`` instance\u001b[39;00m\n\u001b[0;32m    334\u001b[0m \u001b[38;5;124;03m    containing a JSON document).\u001b[39;00m\n\u001b[0;32m    335\u001b[0m \n\u001b[0;32m    336\u001b[0m \u001b[38;5;124;03m    \"\"\"\u001b[39;00m\n\u001b[1;32m--> 337\u001b[0m     obj, end \u001b[38;5;241m=\u001b[39m \u001b[38;5;28mself\u001b[39m\u001b[38;5;241m.\u001b[39mraw_decode(s, idx\u001b[38;5;241m=\u001b[39m_w(s, \u001b[38;5;241m0\u001b[39m)\u001b[38;5;241m.\u001b[39mend())\n\u001b[0;32m    338\u001b[0m     end \u001b[38;5;241m=\u001b[39m _w(s, end)\u001b[38;5;241m.\u001b[39mend()\n\u001b[0;32m    339\u001b[0m     \u001b[38;5;28;01mif\u001b[39;00m end \u001b[38;5;241m!=\u001b[39m \u001b[38;5;28mlen\u001b[39m(s):\n",
      "File \u001b[1;32mc:\\Users\\adria\\anaconda3\\Lib\\json\\decoder.py:355\u001b[0m, in \u001b[0;36mJSONDecoder.raw_decode\u001b[1;34m(self, s, idx)\u001b[0m\n\u001b[0;32m    353\u001b[0m     obj, end \u001b[38;5;241m=\u001b[39m \u001b[38;5;28mself\u001b[39m\u001b[38;5;241m.\u001b[39mscan_once(s, idx)\n\u001b[0;32m    354\u001b[0m \u001b[38;5;28;01mexcept\u001b[39;00m \u001b[38;5;167;01mStopIteration\u001b[39;00m \u001b[38;5;28;01mas\u001b[39;00m err:\n\u001b[1;32m--> 355\u001b[0m     \u001b[38;5;28;01mraise\u001b[39;00m JSONDecodeError(\u001b[38;5;124m\"\u001b[39m\u001b[38;5;124mExpecting value\u001b[39m\u001b[38;5;124m\"\u001b[39m, s, err\u001b[38;5;241m.\u001b[39mvalue) \u001b[38;5;28;01mfrom\u001b[39;00m \u001b[38;5;28;01mNone\u001b[39;00m\n\u001b[0;32m    356\u001b[0m \u001b[38;5;28;01mreturn\u001b[39;00m obj, end\n",
      "\u001b[1;31mJSONDecodeError\u001b[0m: Expecting value: line 1 column 1 (char 0)"
     ]
    }
   ],
   "source": [
    "DESCRIPTION = \"You are an expert programer in Pyhton. Your specialty is to generate the code responsible for making decisions about actions to be taken in various spacecraft landing environments.The objective is to land the spacecraft within a target zone in the shortest possible time and very gently. A scoring system is used to evaluate the landings, which must be maximized.\"\n",
    "INSTRUCTIONS = f\"\"\"Your task is:\n",
    "1. Analyze and reason about the logs received in the last landing attempts.\n",
    "2. Your goal is to be able to make the correct decision based on what you have learned from the results of previous iterations. You must code the decision making based on your reasoning in a Python function.\n",
    "3. Use these tips to get a good landing:\n",
    "    - First you have to stabilize the falling ship and then land gently.\n",
    "    - Use all observations when deciding what action to take at any given moment. Both position and velocities must be taken into account to know how the ship is doing and towards which states it is heading. All of these must be considered to achieve stability.\n",
    "    - Learn how actions taken affect the future states of the spacecraft in the logs of past events so that you can take this into account when developing code to reach the landing zone.\n",
    "    - The landing zone is in the central area of the environment.\n",
    "    - You have to minimize fuel costs. Fuel is consumed every time you run an engine.\n",
    "4. You should analyze the performance and errors that appear in the logs of the code you have generated. You should improve the code generated in the 'act' function in the last iteration without fear of making major changes, seeking to maximize the score received and generate a higher quality code.\n",
    "5. Save the code of the act function in the file 'Action.py' using store_code_in_file function.\n",
    "6. Improve your results and correct also any programming error you may have generated in your last code if they exist.\n",
    "\"\"\"\n",
    "NAME = \"Spacecraft Landing Master\"\n",
    "\n",
    "initial_msg = f\"This is the record of an example of a successful landing in this environment, but under other conditions: {success_logs}. You have to be able to learn from it to land successfully with any other conditions. This is the code of the initial function: {agent_initial_code} and these are the execution logs of one landing attempt: {initial_logs}.Take a deep breath and reason step-by-step. After reasoning analyze the results, learn and make better code.\"\n",
    "\n",
    "logger = configura_log('Spacecraft_4o_betterprompt.log')\n",
    "response = create_and_run_llm_loop(initial_msg, logger, model=\"gpt-4o\", num_iterations=5)\n",
    "\n",
    "print(response)"
   ]
  },
  {
   "cell_type": "markdown",
   "metadata": {},
   "source": [
    "## Tasks\n",
    "\n",
    "* Incluir guardado de vídeo.\n",
    "* Mejorar el prompt inicial.\n",
    "* Incluir ejemplos positivos.\n",
    "* Incluir cambios en el código con GIT."
   ]
  }
 ],
 "metadata": {
  "kernelspec": {
   "display_name": "base",
   "language": "python",
   "name": "python3"
  },
  "language_info": {
   "codemirror_mode": {
    "name": "ipython",
    "version": 3
   },
   "file_extension": ".py",
   "mimetype": "text/x-python",
   "name": "python",
   "nbconvert_exporter": "python",
   "pygments_lexer": "ipython3",
   "version": "3.11.5"
  }
 },
 "nbformat": 4,
 "nbformat_minor": 2
}
